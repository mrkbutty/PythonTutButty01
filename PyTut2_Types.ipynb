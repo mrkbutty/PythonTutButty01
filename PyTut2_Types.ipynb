{
 "cells": [
  {
   "cell_type": "markdown",
   "metadata": {},
   "source": [
    "# Python Interactive tutorial"
   ]
  },
  {
   "cell_type": "markdown",
   "metadata": {},
   "source": [
    "## Before continuing, please select menu option:  **Cell => All output => clear**"
   ]
  },
  {
   "cell_type": "markdown",
   "metadata": {},
   "source": [
    "1. In the cell below type Esc => h (for help)\n",
    "2. Then type Esc => a (for insert **above**)\n",
    "3. Then type Esc => b (for insert **below**)\n",
    "3. Type &lt;enter&gt; followed by:\n",
    "\n",
    "> print('Hello world') <shift enter>\n",
    "\n",
    "4. Then type Esc => m (to change cell type to markdown instead of code)\n",
    "5. In the Markdown cell type &lt;enter&gt; (to go into edit mode) followed by \"#\" &lt;space&gt; &lt;Your name&gt; and press &lt;shift&gt; + &lt;enter&gt;\n",
    "6. Type Esc => dd (to delete the new markdown cell)"
   ]
  },
  {
   "cell_type": "code",
   "execution_count": null,
   "metadata": {},
   "outputs": [],
   "source": []
  },
  {
   "cell_type": "code",
   "execution_count": null,
   "metadata": {},
   "outputs": [],
   "source": []
  },
  {
   "cell_type": "code",
   "execution_count": null,
   "metadata": {},
   "outputs": [],
   "source": []
  },
  {
   "cell_type": "markdown",
   "metadata": {},
   "source": [
    "Markdown details available at: https://www.markdownguide.org/basic-syntax/\n",
    "\n",
    "Basic Examples:\n",
    "```\n",
    "# Heading1, ## Heading 2, ### Heading3\n",
    "*italics*, **bold**\n",
    "* bullets, 1. numbered list\n",
    "Surround `phrases with backticks` to display explicitly\n",
    "```\n",
    "> Note: to start new paragraphs leave a blank line.\n",
    "\n",
    "Try the above out in a new blank markup cell!"
   ]
  },
  {
   "cell_type": "code",
   "execution_count": null,
   "metadata": {},
   "outputs": [],
   "source": []
  },
  {
   "cell_type": "code",
   "execution_count": null,
   "metadata": {},
   "outputs": [],
   "source": []
  },
  {
   "cell_type": "code",
   "execution_count": null,
   "metadata": {},
   "outputs": [],
   "source": []
  },
  {
   "cell_type": "code",
   "execution_count": null,
   "metadata": {},
   "outputs": [],
   "source": []
  },
  {
   "cell_type": "code",
   "execution_count": null,
   "metadata": {},
   "outputs": [],
   "source": []
  },
  {
   "cell_type": "code",
   "execution_count": null,
   "metadata": {},
   "outputs": [],
   "source": []
  },
  {
   "cell_type": "code",
   "execution_count": null,
   "metadata": {},
   "outputs": [],
   "source": []
  },
  {
   "cell_type": "code",
   "execution_count": null,
   "metadata": {},
   "outputs": [],
   "source": []
  },
  {
   "cell_type": "code",
   "execution_count": null,
   "metadata": {},
   "outputs": [],
   "source": []
  },
  {
   "cell_type": "code",
   "execution_count": null,
   "metadata": {},
   "outputs": [],
   "source": []
  },
  {
   "cell_type": "code",
   "execution_count": null,
   "metadata": {},
   "outputs": [],
   "source": []
  },
  {
   "cell_type": "code",
   "execution_count": null,
   "metadata": {},
   "outputs": [],
   "source": []
  },
  {
   "cell_type": "code",
   "execution_count": null,
   "metadata": {},
   "outputs": [],
   "source": []
  },
  {
   "cell_type": "code",
   "execution_count": null,
   "metadata": {},
   "outputs": [],
   "source": []
  },
  {
   "cell_type": "markdown",
   "metadata": {},
   "source": [
    "# Start here by executing each cell with &lt;shift&gt; + &lt;enter&gt; "
   ]
  },
  {
   "cell_type": "code",
   "execution_count": null,
   "metadata": {},
   "outputs": [],
   "source": [
    "# Hello world is just one line of code\n",
    "# print() outputs data to the screen\n",
    "print(\"Hello World\")"
   ]
  },
  {
   "cell_type": "code",
   "execution_count": null,
   "metadata": {},
   "outputs": [],
   "source": [
    "1\n",
    "2\n",
    "3\n",
    "'Evaluation of last expression in cell will generate output'"
   ]
  },
  {
   "cell_type": "code",
   "execution_count": null,
   "metadata": {},
   "outputs": [],
   "source": [
    "1+2\n",
    "3+4"
   ]
  },
  {
   "cell_type": "code",
   "execution_count": null,
   "metadata": {},
   "outputs": [],
   "source": [
    "print(1+2)\n",
    "3+4"
   ]
  },
  {
   "cell_type": "code",
   "execution_count": null,
   "metadata": {},
   "outputs": [],
   "source": []
  },
  {
   "cell_type": "code",
   "execution_count": null,
   "metadata": {},
   "outputs": [],
   "source": [
    "# This is a single line comment\n",
    "'''\n",
    "This is a multi-line comment\n",
    "over two lines but is also referenced in an object as a \"DocString\"\n",
    "'''"
   ]
  },
  {
   "cell_type": "code",
   "execution_count": null,
   "metadata": {},
   "outputs": [],
   "source": []
  },
  {
   "cell_type": "markdown",
   "metadata": {},
   "source": [
    "## Literals, variables and assignment\n",
    "* A variable is a place to store values\n",
    "* Its name is like a label for that value\n",
    "* A variable name can contain letters, numbers, or _ but cannot start with a number\n",
    "\n",
    "* **You also should not name variables any of the language keywords;**\n",
    "```\n",
    "False      await      else       import     pass\n",
    "None       break      except     in         raise\n",
    "True       class      finally    is         return\n",
    "and        continue   for        lambda     try\n",
    "as         def        from       nonlocal   while\n",
    "assert     del        global     not        with\n",
    "async      elif       if         or         yield\n",
    "```\n",
    "\n",
    "Or python built-in objects, functions and identifiers, listed with \"dir(\\_\\_builtin\\_\\_)\""
   ]
  },
  {
   "cell_type": "code",
   "execution_count": null,
   "metadata": {},
   "outputs": [],
   "source": []
  },
  {
   "cell_type": "code",
   "execution_count": null,
   "metadata": {},
   "outputs": [],
   "source": [
    "# Valid variable names and assignments:\n",
    "i = 666\n",
    "MyName = 2\n",
    "counter2 = 3\n",
    "# 3counter = 4 is invalid as it starts with a number\n",
    "_my_name = \"Superman\" # valid but the convention is this is a special (private) variable\n",
    "his_name = \"Joker\""
   ]
  },
  {
   "cell_type": "code",
   "execution_count": null,
   "metadata": {},
   "outputs": [],
   "source": []
  },
  {
   "cell_type": "code",
   "execution_count": null,
   "metadata": {},
   "outputs": [],
   "source": [
    "# A Python variable is a symbolic name that is a reference or pointer to an object. \n",
    "# Once an object is assigned to a variable, you can refer to the object by that name. \n",
    "# But the data itself is still contained within the object.\n",
    "print(type(i)) # \"666\" created previously is the object pointed to by symbol \"i\"\n",
    "print(type(his_name))"
   ]
  },
  {
   "cell_type": "code",
   "execution_count": null,
   "metadata": {},
   "outputs": [],
   "source": []
  },
  {
   "cell_type": "code",
   "execution_count": null,
   "metadata": {},
   "outputs": [],
   "source": [
    "# When this is executed there is no copy you have just created a new symbol \"n\".\n",
    "#  \"n\" is now pointing to the same object \"666\" that was created and assigned to \"i\"\n",
    "n = i\n",
    "print(i, n)\n",
    "print(i == n)\n",
    "print(i is n)"
   ]
  },
  {
   "cell_type": "code",
   "execution_count": null,
   "metadata": {},
   "outputs": [],
   "source": []
  },
  {
   "cell_type": "code",
   "execution_count": null,
   "metadata": {},
   "outputs": [],
   "source": [
    "n = 42 # Now a new \"42\" object is created and symbol \"n\" is pointing to the new object\n",
    "print(i, n)\n",
    "print(i == n)\n",
    "print(i is n)"
   ]
  },
  {
   "cell_type": "code",
   "execution_count": null,
   "metadata": {},
   "outputs": [],
   "source": []
  },
  {
   "cell_type": "code",
   "execution_count": null,
   "metadata": {},
   "outputs": [],
   "source": [
    "# if we do this what happens to the \"666\" object?\n",
    "i = 0"
   ]
  },
  {
   "cell_type": "code",
   "execution_count": null,
   "metadata": {},
   "outputs": [],
   "source": []
  },
  {
   "cell_type": "code",
   "execution_count": null,
   "metadata": {},
   "outputs": [],
   "source": [
    "name = \"Fred\"  # All these lines are equivilant\n",
    "name = 'Fred'\n",
    "name = 'Fr' \"ed\"\n",
    "print(name)"
   ]
  },
  {
   "cell_type": "code",
   "execution_count": null,
   "metadata": {},
   "outputs": [],
   "source": [
    "name + ' Blogs\\n' * 5"
   ]
  },
  {
   "cell_type": "code",
   "execution_count": null,
   "metadata": {},
   "outputs": [],
   "source": []
  },
  {
   "cell_type": "markdown",
   "metadata": {},
   "source": [
    "## Types"
   ]
  },
  {
   "cell_type": "markdown",
   "metadata": {},
   "source": [
    "* There are 5 main data types Numeric, Strings, List, Tuple, Dictionary\n",
    "* You can store any of them in the same variable"
   ]
  },
  {
   "cell_type": "code",
   "execution_count": null,
   "metadata": {},
   "outputs": [],
   "source": [
    "name = 15 # Integer\n",
    "print(name)"
   ]
  },
  {
   "cell_type": "code",
   "execution_count": null,
   "metadata": {},
   "outputs": [],
   "source": []
  },
  {
   "cell_type": "code",
   "execution_count": null,
   "metadata": {},
   "outputs": [],
   "source": [
    "# Note the underscores are allowed in a recent change of python 3.6 for literal groupings\n",
    "age = 18 # decimal\n",
    "age = 0x0000_0012 # hex\n",
    "age = 0o22 # octal\n",
    "age = 0b0001_0010 # binary\n",
    "age"
   ]
  },
  {
   "cell_type": "code",
   "execution_count": null,
   "metadata": {},
   "outputs": [],
   "source": [
    "# Remember Jupyter will output the last expression to the screen\n",
    "age = age + 1\n",
    "age += 1\n",
    "age -= 2\n",
    "age"
   ]
  },
  {
   "cell_type": "code",
   "execution_count": null,
   "metadata": {},
   "outputs": [],
   "source": [
    "# Floating point numbers\n",
    "f = 4.2\n",
    "f2 = 7.\n",
    "mypi = 3.141593\n",
    "print('%.3f' % mypi)  # Using print formatter to round the float"
   ]
  },
  {
   "cell_type": "code",
   "execution_count": null,
   "metadata": {},
   "outputs": [],
   "source": []
  },
  {
   "cell_type": "code",
   "execution_count": null,
   "metadata": {},
   "outputs": [],
   "source": [
    "# Maximum sizes of ints /floats\n",
    "# In Python2 you can use sys.maxint\n",
    "# Python3 the int size is unbounded and only limited by memory\n",
    "import sys\n",
    "print(sys.int_info)\n",
    "print(sys.float_info)\n",
    "print(sys.maxsize)"
   ]
  },
  {
   "cell_type": "markdown",
   "metadata": {},
   "source": [
    "Most Python platform represet *float* values as 64-bit double precision.  Approximately 1.8 x 10<sup>308</sup>.<br>\n",
    "The closest a nonzero number can be to zero is approximately 5.0 ⨉ 10<sup>-324</sup>.\n",
    "\n",
    "Floating point numbers are represented internally as binary (base-2) fractions. Most decimal fractions cannot be represented exactly as binary fractions, so in most cases the internal representation of a floating-point number is an approximation of the actual value. In practice, the difference between the actual value and the represented value is very small and should not usually cause significant problems."
   ]
  },
  {
   "cell_type": "code",
   "execution_count": null,
   "metadata": {},
   "outputs": [],
   "source": [
    "1.79e308"
   ]
  },
  {
   "cell_type": "code",
   "execution_count": null,
   "metadata": {},
   "outputs": [],
   "source": [
    "1.8e308 # > 1.8 x (10 ** 308) becomes infinate"
   ]
  },
  {
   "cell_type": "code",
   "execution_count": null,
   "metadata": {},
   "outputs": [],
   "source": []
  },
  {
   "cell_type": "code",
   "execution_count": null,
   "metadata": {},
   "outputs": [],
   "source": [
    "# The arithmetic operators +, -, *, /, %, **, //\n",
    "# ** Exponential calculation\n",
    "# // Floor Division\n",
    "print(\"5 + 2 =\", 5+2)\n",
    "print(\"5 - 2 =\", 5-2)\n",
    "print(\"5 * 2 =\", 5*2)\n",
    "print(\"5 / 2 =\", 5/2)\n",
    "print(\"5 % 2 =\", 5%2)\n",
    "print(\"5 ** 2 =\", 5**2) # or \n",
    "print(\"5 // 2 =\", 5//2)"
   ]
  },
  {
   "cell_type": "markdown",
   "metadata": {},
   "source": []
  },
  {
   "cell_type": "code",
   "execution_count": null,
   "metadata": {},
   "outputs": [],
   "source": [
    "# Bitwise operators\n",
    "print(1 << 5)\n",
    "print(16 >> 2)\n",
    "print(2 & 3)\n",
    "print(2 | 3)\n",
    "print(2 ^ 3) # XOR\n",
    "print(~2) # Compliment (switch 0 for 1 and 1 for 0, same as -x - 1."
   ]
  },
  {
   "cell_type": "code",
   "execution_count": null,
   "metadata": {},
   "outputs": [],
   "source": []
  },
  {
   "cell_type": "code",
   "execution_count": null,
   "metadata": {},
   "outputs": [],
   "source": [
    "# Precidence: Normal order of Operation states * and / is performed before + and -\n",
    " \n",
    "print(\"1 + 2 - 3 * 2 =\", 1 + 2 - 3 * 2)\n",
    "print(\"(1 + 2 - 3) * 2 =\", (1 + 2 - 3) * 2)"
   ]
  },
  {
   "cell_type": "code",
   "execution_count": null,
   "metadata": {},
   "outputs": [],
   "source": []
  },
  {
   "cell_type": "markdown",
   "metadata": {},
   "source": [
    "## Strings"
   ]
  },
  {
   "cell_type": "code",
   "execution_count": null,
   "metadata": {},
   "outputs": [],
   "source": [
    "# A string is a string of characters surrounded by \" or '\n",
    "# If you must use a \" or ' between the same quote escape it with \\\n",
    "quote = \"\\\"Always remember your unique,\"\n",
    "quote"
   ]
  },
  {
   "cell_type": "code",
   "execution_count": null,
   "metadata": {},
   "outputs": [],
   "source": [
    "# A multi-line quote\n",
    "multi_line_quote = ''' just\n",
    "like everyone else\" '''\n",
    "multi_line_quote"
   ]
  },
  {
   "cell_type": "code",
   "execution_count": null,
   "metadata": {},
   "outputs": [],
   "source": [
    "print(quote + multi_line_quote)"
   ]
  },
  {
   "cell_type": "code",
   "execution_count": null,
   "metadata": {},
   "outputs": [],
   "source": []
  },
  {
   "cell_type": "code",
   "execution_count": null,
   "metadata": {},
   "outputs": [],
   "source": [
    "# The old method to embed a string in output using %s and \"print formatters\" \n",
    "print(\"%s %s %s\" % ('I like the quote', quote, multi_line_quote))"
   ]
  },
  {
   "cell_type": "code",
   "execution_count": null,
   "metadata": {},
   "outputs": [],
   "source": []
  },
  {
   "cell_type": "code",
   "execution_count": null,
   "metadata": {},
   "outputs": [],
   "source": [
    "# To keep from printing newlines use end=\"\"\n",
    "print(\"I don't like \", end=\"\")\n",
    "print(\"newlines\")"
   ]
  },
  {
   "cell_type": "code",
   "execution_count": null,
   "metadata": {},
   "outputs": [],
   "source": []
  },
  {
   "cell_type": "code",
   "execution_count": null,
   "metadata": {},
   "outputs": [],
   "source": [
    "# By default strings are unicode\n",
    "\n",
    "s1 = 'this is a test string' # this is a string type, and since 3.3 you can also explicitly prefix with a 'u'\n",
    "s2 = b'this is a test string'  # this is a bytes type and can only contain ascii characters\n",
    "print('s1 type =', type(s1))\n",
    "print('s2 type =', type(s2))\n",
    "print(s1)\n",
    "print(s2)\n",
    "print(s1==s2)\n",
    "# You can encode unicode strings into bytes:\n",
    "print('s1 encoded:', s1.encode()) # As no encoding passed UTF-8 is used by default\n",
    "# And the other way around\n",
    "print(s1==s2.decode())"
   ]
  },
  {
   "cell_type": "code",
   "execution_count": null,
   "metadata": {},
   "outputs": [],
   "source": [
    "import chardet\n",
    "x = b'\\xe6\\xa0\\xaa\\xe5\\xbc\\x8f\\xe4\\xbc\\x9a\\xe7\\xa4\\xbe\\xe6\\x97\\xa5\\xe7\\xab\\x8b\\xe8\\xa3\\xbd\\xe4\\xbd\\x9c\\xe6\\x89\\x80'\n",
    "s = x.decode()\n",
    "print(x)\n",
    "print(f'Bytes are len:{len(x)}')\n",
    "print(chardet.detect(x))\n",
    "print(s)\n",
    "print(f'String is len:{len(s)}')"
   ]
  },
  {
   "cell_type": "code",
   "execution_count": null,
   "metadata": {},
   "outputs": [],
   "source": [
    "s= 'Thats funny! \\N{SMILING FACE WITH OPEN MOUTH AND TIGHTLY-CLOSED EYES}'\n",
    "print(s)\n",
    "print(s.encode()) # default is utf-8\n",
    "print(s.encode('utf-16'))\n",
    "print(s.encode('utf-32'))\n",
    "print(s.encode('ascii','replace')) #Replaces with ?\n",
    "print(s.encode('ascii','namereplace')) #Replaces with Unicode name\n",
    "print(s.encode('latin-1')) # Default is 'strict' which generates an error"
   ]
  },
  {
   "cell_type": "code",
   "execution_count": null,
   "metadata": {},
   "outputs": [],
   "source": []
  },
  {
   "cell_type": "raw",
   "metadata": {},
   "source": [
    "## Exercise:\n",
    "1. Create two variables, an integer and a string.\n"
   ]
  },
  {
   "cell_type": "code",
   "execution_count": null,
   "metadata": {},
   "outputs": [],
   "source": [
    "x = 1\n",
    "myname = 'Mark'"
   ]
  },
  {
   "cell_type": "code",
   "execution_count": null,
   "metadata": {},
   "outputs": [],
   "source": []
  },
  {
   "cell_type": "code",
   "execution_count": null,
   "metadata": {},
   "outputs": [],
   "source": []
  },
  {
   "cell_type": "code",
   "execution_count": null,
   "metadata": {},
   "outputs": [],
   "source": []
  },
  {
   "cell_type": "markdown",
   "metadata": {},
   "source": [
    "## Lists\n",
    "* A list allows you to create a list of values and manipulate them\n",
    "* Each value has an index with the first one starting at 0"
   ]
  },
  {
   "cell_type": "code",
   "execution_count": null,
   "metadata": {},
   "outputs": [],
   "source": [
    "grocery_list = ['Juice', 'Tomatoes', 'Potatoes', 'Bananas']\n",
    "print('The first item is', grocery_list[1])"
   ]
  },
  {
   "cell_type": "code",
   "execution_count": null,
   "metadata": {},
   "outputs": [],
   "source": []
  },
  {
   "cell_type": "code",
   "execution_count": null,
   "metadata": {},
   "outputs": [],
   "source": [
    "# You can change the value stored in a list box\n",
    "grocery_list[0] = \"Green Juice\"\n",
    "grocery_list"
   ]
  },
  {
   "cell_type": "code",
   "execution_count": null,
   "metadata": {},
   "outputs": [],
   "source": []
  },
  {
   "cell_type": "code",
   "execution_count": null,
   "metadata": {},
   "outputs": [],
   "source": [
    "# You can get a subset of the list with [min:up to but not including max]\n",
    "print(grocery_list[1:3])"
   ]
  },
  {
   "cell_type": "code",
   "execution_count": null,
   "metadata": {},
   "outputs": [],
   "source": []
  },
  {
   "cell_type": "code",
   "execution_count": null,
   "metadata": {},
   "outputs": [],
   "source": [
    "# You can put any data type in a a list including a list\n",
    "other_events = ['Wash Car', 'Pick up Kids', 'Cash Check']\n",
    "to_do_list = [other_events, grocery_list]\n",
    "to_do_list"
   ]
  },
  {
   "cell_type": "code",
   "execution_count": null,
   "metadata": {},
   "outputs": [],
   "source": [
    "# Get the second item in the second list (Boxes inside of boxes)\n",
    "print(to_do_list[1][1])"
   ]
  },
  {
   "cell_type": "code",
   "execution_count": null,
   "metadata": {},
   "outputs": [],
   "source": []
  },
  {
   "cell_type": "code",
   "execution_count": null,
   "metadata": {},
   "outputs": [],
   "source": [
    "# You add values using append\n",
    "grocery_list.append('onions')\n",
    "print(to_do_list)"
   ]
  },
  {
   "cell_type": "code",
   "execution_count": null,
   "metadata": {},
   "outputs": [],
   "source": []
  },
  {
   "cell_type": "code",
   "execution_count": null,
   "metadata": {},
   "outputs": [],
   "source": [
    "# Insert item at given index\n",
    "grocery_list.insert(1, \"Pickle\")"
   ]
  },
  {
   "cell_type": "code",
   "execution_count": null,
   "metadata": {},
   "outputs": [],
   "source": []
  },
  {
   "cell_type": "code",
   "execution_count": null,
   "metadata": {},
   "outputs": [],
   "source": [
    "# Remove item from list\n",
    "grocery_list.remove(\"Pickle\")"
   ]
  },
  {
   "cell_type": "code",
   "execution_count": null,
   "metadata": {},
   "outputs": [],
   "source": []
  },
  {
   "cell_type": "code",
   "execution_count": null,
   "metadata": {},
   "outputs": [],
   "source": [
    "# Sorts items in list\n",
    "grocery_list.sort()"
   ]
  },
  {
   "cell_type": "code",
   "execution_count": null,
   "metadata": {},
   "outputs": [],
   "source": [
    "# Reverse sort items in list\n",
    "grocery_list.reverse()"
   ]
  },
  {
   "cell_type": "code",
   "execution_count": null,
   "metadata": {},
   "outputs": [],
   "source": [
    "# del deletes an item at specified index\n",
    "del grocery_list[4]\n",
    "print(to_do_list)"
   ]
  },
  {
   "cell_type": "code",
   "execution_count": null,
   "metadata": {},
   "outputs": [],
   "source": []
  },
  {
   "cell_type": "code",
   "execution_count": null,
   "metadata": {},
   "outputs": [],
   "source": [
    "# We can combine lists with a +\n",
    "to_do_list = other_events + grocery_list\n",
    "print(to_do_list)"
   ]
  },
  {
   "cell_type": "code",
   "execution_count": null,
   "metadata": {},
   "outputs": [],
   "source": []
  },
  {
   "cell_type": "code",
   "execution_count": null,
   "metadata": {},
   "outputs": [],
   "source": [
    "# Get length of list\n",
    "print(len(to_do_list))"
   ]
  },
  {
   "cell_type": "code",
   "execution_count": null,
   "metadata": {},
   "outputs": [],
   "source": []
  },
  {
   "cell_type": "code",
   "execution_count": null,
   "metadata": {},
   "outputs": [],
   "source": [
    "# Get the max item in list using builtin max\n",
    "print(max(to_do_list))"
   ]
  },
  {
   "cell_type": "code",
   "execution_count": null,
   "metadata": {},
   "outputs": [],
   "source": []
  },
  {
   "cell_type": "code",
   "execution_count": null,
   "metadata": {},
   "outputs": [],
   "source": [
    "# Get the minimum item in list\n",
    "print(min(to_do_list))"
   ]
  },
  {
   "cell_type": "code",
   "execution_count": null,
   "metadata": {},
   "outputs": [],
   "source": []
  },
  {
   "cell_type": "markdown",
   "metadata": {},
   "source": [
    "### Lists are actually pointers (try below in Thonny shell while viewing \"Variables and \"Heap\")"
   ]
  },
  {
   "cell_type": "code",
   "execution_count": null,
   "metadata": {},
   "outputs": [],
   "source": [
    "a = [1, 2, 3]\n",
    "b = a\n",
    "b.append(4)"
   ]
  },
  {
   "cell_type": "code",
   "execution_count": null,
   "metadata": {},
   "outputs": [],
   "source": []
  },
  {
   "cell_type": "code",
   "execution_count": 155,
   "metadata": {},
   "outputs": [
    {
     "name": "stdout",
     "output_type": "stream",
     "text": [
      "[1, 2, 3]\n",
      "[1, 2, 3]\n"
     ]
    }
   ],
   "source": [
    "# Proving that lists are lists of pointers to objects:\n",
    "a = [1, 2, 3]\n",
    "b = a\n",
    "print(a)\n",
    "print(b)"
   ]
  },
  {
   "cell_type": "code",
   "execution_count": 156,
   "metadata": {},
   "outputs": [
    {
     "name": "stdout",
     "output_type": "stream",
     "text": [
      "True\n",
      "[140717452796304, 140717452796336, 140717452796368]\n",
      "[140717452796304, 140717452796336, 140717452796368]\n"
     ]
    }
   ],
   "source": [
    "print(b is a)\n",
    "print(list(map(id, a)))\n",
    "print(list(map(id, b)))"
   ]
  },
  {
   "cell_type": "code",
   "execution_count": 157,
   "metadata": {},
   "outputs": [
    {
     "name": "stdout",
     "output_type": "stream",
     "text": [
      "[1, 2, 3, 4]\n",
      "[1, 2, 3, 4]\n"
     ]
    }
   ],
   "source": [
    "a.append(4)\n",
    "print(a)\n",
    "print(b)"
   ]
  },
  {
   "cell_type": "code",
   "execution_count": 158,
   "metadata": {},
   "outputs": [
    {
     "name": "stdout",
     "output_type": "stream",
     "text": [
      "True\n",
      "[140717452796304, 140717452796336, 140717452796368, 140717452796400]\n",
      "[140717452796304, 140717452796336, 140717452796368, 140717452796400]\n"
     ]
    }
   ],
   "source": [
    "print(b is a)\n",
    "print(list(map(id, a)))\n",
    "print(list(map(id, b)))"
   ]
  },
  {
   "cell_type": "code",
   "execution_count": 159,
   "metadata": {},
   "outputs": [
    {
     "name": "stdout",
     "output_type": "stream",
     "text": [
      "[1, 2, 3, 4]\n",
      "[3, 4]\n"
     ]
    }
   ],
   "source": [
    "b = a[2:]\n",
    "print(a)\n",
    "print(b)"
   ]
  },
  {
   "cell_type": "code",
   "execution_count": 160,
   "metadata": {},
   "outputs": [
    {
     "name": "stdout",
     "output_type": "stream",
     "text": [
      "False\n",
      "[140717452796304, 140717452796336, 140717452796368, 140717452796400]\n",
      "[140717452796368, 140717452796400]\n"
     ]
    }
   ],
   "source": [
    "print(b is a)\n",
    "print(list(map(id, a)))\n",
    "print(list(map(id, b)))"
   ]
  },
  {
   "cell_type": "code",
   "execution_count": 161,
   "metadata": {},
   "outputs": [
    {
     "name": "stdout",
     "output_type": "stream",
     "text": [
      "[1, 2, 3, 4]\n",
      "['x', 4]\n"
     ]
    }
   ],
   "source": [
    "b[0] = 'x'\n",
    "print(a)\n",
    "print(b)"
   ]
  },
  {
   "cell_type": "code",
   "execution_count": 162,
   "metadata": {},
   "outputs": [
    {
     "name": "stdout",
     "output_type": "stream",
     "text": [
      "False\n",
      "[140717452796304, 140717452796336, 140717452796368, 140717452796400]\n",
      "[2629554496240, 140717452796400]\n"
     ]
    }
   ],
   "source": [
    "print(b is a)\n",
    "print(list(map(id, a)))\n",
    "print(list(map(id, b)))"
   ]
  },
  {
   "cell_type": "code",
   "execution_count": null,
   "metadata": {},
   "outputs": [],
   "source": []
  },
  {
   "cell_type": "markdown",
   "metadata": {},
   "source": [
    "## Tuples\n",
    "* Tuples are similar to lists but are imutable, they cannot be changed"
   ]
  },
  {
   "cell_type": "code",
   "execution_count": null,
   "metadata": {},
   "outputs": [],
   "source": [
    "pi_tuple = (3, 1, 4, 1, 5, 9)"
   ]
  },
  {
   "cell_type": "code",
   "execution_count": null,
   "metadata": {},
   "outputs": [],
   "source": [
    "del pi_tuple[2]"
   ]
  },
  {
   "cell_type": "code",
   "execution_count": null,
   "metadata": {},
   "outputs": [],
   "source": [
    "pi_tuple[2] = 5"
   ]
  },
  {
   "cell_type": "code",
   "execution_count": null,
   "metadata": {},
   "outputs": [],
   "source": []
  },
  {
   "cell_type": "code",
   "execution_count": null,
   "metadata": {},
   "outputs": [],
   "source": [
    "# Convert tuple into a list\n",
    "pi_list = list(pi_tuple)\n",
    " \n",
    "# Convert a list into a tuple\n",
    "new_tuple = tuple(pi_list)\n",
    "\n",
    "print(pi_list)\n",
    "print(new_tuple)"
   ]
  },
  {
   "cell_type": "code",
   "execution_count": null,
   "metadata": {},
   "outputs": [],
   "source": [
    "# tuples also have len(tuple), min(tuple) and max(tuple)"
   ]
  },
  {
   "cell_type": "code",
   "execution_count": null,
   "metadata": {},
   "outputs": [],
   "source": []
  },
  {
   "cell_type": "markdown",
   "metadata": {},
   "source": [
    "## Sets"
   ]
  },
  {
   "cell_type": "code",
   "execution_count": null,
   "metadata": {},
   "outputs": [],
   "source": [
    "ldevs = {1, 1, 'two', 3, 4, 'two'}\n",
    "ldevs"
   ]
  },
  {
   "cell_type": "code",
   "execution_count": null,
   "metadata": {},
   "outputs": [],
   "source": [
    "ldevs.add(3)\n",
    "ldevs"
   ]
  },
  {
   "cell_type": "code",
   "execution_count": null,
   "metadata": {},
   "outputs": [],
   "source": []
  },
  {
   "cell_type": "code",
   "execution_count": null,
   "metadata": {},
   "outputs": [],
   "source": [
    "# Create an empty set with the set keyword as {} will be interpretted as a dictionary\n",
    "d = {}\n",
    "x = set()\n",
    "print(d)\n",
    "print(x)\n",
    "x.add(1); x.add(2)\n",
    "print(x)"
   ]
  },
  {
   "cell_type": "code",
   "execution_count": null,
   "metadata": {},
   "outputs": [],
   "source": []
  },
  {
   "cell_type": "code",
   "execution_count": 128,
   "metadata": {},
   "outputs": [
    {
     "ename": "TypeError",
     "evalue": "unhashable type: 'list'",
     "output_type": "error",
     "traceback": [
      "\u001b[1;31m---------------------------------------------------------------------------\u001b[0m",
      "\u001b[1;31mTypeError\u001b[0m                                 Traceback (most recent call last)",
      "\u001b[1;32m<ipython-input-128-a58574063227>\u001b[0m in \u001b[0;36m<module>\u001b[1;34m\u001b[0m\n\u001b[0;32m      2\u001b[0m \u001b[1;31m# Lists and dictionaries are mutable so they cannot be added to a set:\u001b[0m\u001b[1;33m\u001b[0m\u001b[1;33m\u001b[0m\u001b[1;33m\u001b[0m\u001b[0m\n\u001b[0;32m      3\u001b[0m \u001b[0mx\u001b[0m\u001b[1;33m.\u001b[0m\u001b[0madd\u001b[0m\u001b[1;33m(\u001b[0m\u001b[1;33m(\u001b[0m\u001b[1;36m1\u001b[0m\u001b[1;33m,\u001b[0m\u001b[1;36m2\u001b[0m\u001b[1;33m,\u001b[0m\u001b[1;36m3\u001b[0m\u001b[1;33m)\u001b[0m\u001b[1;33m)\u001b[0m \u001b[1;31m# A tuple is imutable so can be added\u001b[0m\u001b[1;33m\u001b[0m\u001b[1;33m\u001b[0m\u001b[0m\n\u001b[1;32m----> 4\u001b[1;33m \u001b[0mx\u001b[0m\u001b[1;33m.\u001b[0m\u001b[0madd\u001b[0m\u001b[1;33m(\u001b[0m\u001b[1;33m[\u001b[0m\u001b[1;36m1\u001b[0m\u001b[1;33m,\u001b[0m\u001b[1;36m2\u001b[0m\u001b[1;33m,\u001b[0m\u001b[1;36m3\u001b[0m\u001b[1;33m]\u001b[0m\u001b[1;33m)\u001b[0m\u001b[1;33m\u001b[0m\u001b[1;33m\u001b[0m\u001b[0m\n\u001b[0m",
      "\u001b[1;31mTypeError\u001b[0m: unhashable type: 'list'"
     ]
    }
   ],
   "source": [
    "# All set elements must be imutable\n",
    "# Lists and dictionaries are mutable so they cannot be added to a set:\n",
    "x.add((1,2,3)) # A tuple is imutable so can be added\n",
    "x.add([1,2,3])"
   ]
  },
  {
   "cell_type": "code",
   "execution_count": 132,
   "metadata": {},
   "outputs": [
    {
     "data": {
      "text/plain": [
       "{(1, 2, 3), 2}"
      ]
     },
     "execution_count": 132,
     "metadata": {},
     "output_type": "execute_result"
    }
   ],
   "source": [
    "x"
   ]
  },
  {
   "cell_type": "code",
   "execution_count": 135,
   "metadata": {},
   "outputs": [
    {
     "ename": "KeyError",
     "evalue": "1",
     "output_type": "error",
     "traceback": [
      "\u001b[1;31m---------------------------------------------------------------------------\u001b[0m",
      "\u001b[1;31mKeyError\u001b[0m                                  Traceback (most recent call last)",
      "\u001b[1;32m<ipython-input-135-e5d6904996a6>\u001b[0m in \u001b[0;36m<module>\u001b[1;34m\u001b[0m\n\u001b[0;32m      1\u001b[0m \u001b[0mx\u001b[0m \u001b[1;33m=\u001b[0m \u001b[1;33m{\u001b[0m \u001b[1;36m1\u001b[0m\u001b[1;33m,\u001b[0m \u001b[1;36m2\u001b[0m\u001b[1;33m,\u001b[0m \u001b[1;36m3\u001b[0m \u001b[1;33m}\u001b[0m\u001b[1;33m\u001b[0m\u001b[1;33m\u001b[0m\u001b[0m\n\u001b[0;32m      2\u001b[0m \u001b[0mx\u001b[0m\u001b[1;33m.\u001b[0m\u001b[0mremove\u001b[0m\u001b[1;33m(\u001b[0m\u001b[1;36m1\u001b[0m\u001b[1;33m)\u001b[0m\u001b[1;33m\u001b[0m\u001b[1;33m\u001b[0m\u001b[0m\n\u001b[1;32m----> 3\u001b[1;33m \u001b[0mx\u001b[0m\u001b[1;33m.\u001b[0m\u001b[0mremove\u001b[0m\u001b[1;33m(\u001b[0m\u001b[1;36m1\u001b[0m\u001b[1;33m)\u001b[0m\u001b[1;33m\u001b[0m\u001b[1;33m\u001b[0m\u001b[0m\n\u001b[0m",
      "\u001b[1;31mKeyError\u001b[0m: 1"
     ]
    }
   ],
   "source": [
    "x = { 1, 2, 3 }\n",
    "x.remove(1)\n",
    "x.remove(1)"
   ]
  },
  {
   "cell_type": "code",
   "execution_count": 134,
   "metadata": {},
   "outputs": [],
   "source": [
    "x.discard(1) # does not error"
   ]
  },
  {
   "cell_type": "code",
   "execution_count": null,
   "metadata": {},
   "outputs": [],
   "source": []
  },
  {
   "cell_type": "markdown",
   "metadata": {},
   "source": [
    "### Set operations"
   ]
  },
  {
   "cell_type": "code",
   "execution_count": null,
   "metadata": {},
   "outputs": [],
   "source": [
    "x1 = {'foo', 'bar', 'baz'}\n",
    "x2 = {'baz', 'qux', 'quux'}"
   ]
  },
  {
   "cell_type": "code",
   "execution_count": null,
   "metadata": {},
   "outputs": [],
   "source": [
    "# Union\n",
    "x1.union(x2)\n",
    "# or\n",
    "x1 | x2"
   ]
  },
  {
   "cell_type": "code",
   "execution_count": null,
   "metadata": {},
   "outputs": [],
   "source": []
  },
  {
   "cell_type": "code",
   "execution_count": null,
   "metadata": {},
   "outputs": [],
   "source": [
    "a = {1, 2, 3, 4}\n",
    "b = {2, 3, 4, 5}\n",
    "c = {3, 4, 5, 6}\n",
    "d = {4, 5, 6, 7}"
   ]
  },
  {
   "cell_type": "code",
   "execution_count": null,
   "metadata": {},
   "outputs": [],
   "source": [
    "# More than two sets:\n",
    "a.union(b, c, d)"
   ]
  },
  {
   "cell_type": "code",
   "execution_count": null,
   "metadata": {},
   "outputs": [],
   "source": []
  },
  {
   "cell_type": "code",
   "execution_count": null,
   "metadata": {},
   "outputs": [],
   "source": [
    "# Intersections:\n",
    "x1.intersection(x2)"
   ]
  },
  {
   "cell_type": "code",
   "execution_count": null,
   "metadata": {},
   "outputs": [],
   "source": [
    "a & b & c & d"
   ]
  },
  {
   "cell_type": "code",
   "execution_count": null,
   "metadata": {},
   "outputs": [],
   "source": []
  },
  {
   "cell_type": "code",
   "execution_count": 109,
   "metadata": {},
   "outputs": [
    {
     "data": {
      "text/plain": [
       "{'bar', 'foo'}"
      ]
     },
     "execution_count": 109,
     "metadata": {},
     "output_type": "execute_result"
    }
   ],
   "source": [
    "x1.difference(x2)\n",
    "x1 - x2"
   ]
  },
  {
   "cell_type": "code",
   "execution_count": 110,
   "metadata": {},
   "outputs": [
    {
     "data": {
      "text/plain": [
       "{'bar', 'foo', 'quux', 'qux'}"
      ]
     },
     "execution_count": 110,
     "metadata": {},
     "output_type": "execute_result"
    }
   ],
   "source": [
    "x1.symmetric_difference(x2)\n",
    "x1 ^ x2"
   ]
  },
  {
   "cell_type": "code",
   "execution_count": 118,
   "metadata": {},
   "outputs": [
    {
     "name": "stdout",
     "output_type": "stream",
     "text": [
      "True\n",
      "False\n",
      "True\n",
      "False\n"
     ]
    }
   ],
   "source": [
    "# Subsets and supersets and \"proper\" sub/super sets\n",
    "x1 = {'foo', 'bar'}\n",
    "x2 = {'foo', 'bar', 'baz'}\n",
    "print(x1 <= x2) # or use x1.issubset(x2)\n",
    "x1 = {'foo', 'bar', 'baz'}\n",
    "print(x1 < x2) # only way to test proper subset\n",
    "print(x1 >= x2) # or use x1.issuperset(x2)\n",
    "print(x1 > x2) # proper superset"
   ]
  },
  {
   "cell_type": "code",
   "execution_count": null,
   "metadata": {},
   "outputs": [],
   "source": []
  },
  {
   "cell_type": "code",
   "execution_count": 127,
   "metadata": {},
   "outputs": [
    {
     "name": "stdout",
     "output_type": "stream",
     "text": [
      "{'baz', 'bar', 'qux', 'foo'}\n",
      "{'baz', 'qux', 'foo'}\n",
      "{'bar'}\n",
      "{'baz', 'qux', 'bar', 'foo'}\n"
     ]
    }
   ],
   "source": [
    "# Update a set\n",
    "x1 = {'foo', 'bar', 'baz'}\n",
    "x2 = {'foo', 'baz', 'qux'}\n",
    "x1 |= x2 # or x1.update(x2)\n",
    "print(x1)\n",
    "x1 &= x2 # or x1.intersection_update(x2)\n",
    "print(x1)\n",
    "x1 = {'foo', 'bar', 'baz'}\n",
    "x1 -= x2 # or x1.difference_update(x2)\n",
    "print(x1)\n",
    "x1 ^= x2 # or x1.symetric_difference_update(x2)\n",
    "print(x1)"
   ]
  },
  {
   "cell_type": "code",
   "execution_count": null,
   "metadata": {},
   "outputs": [],
   "source": []
  },
  {
   "cell_type": "markdown",
   "metadata": {},
   "source": [
    "# Strings and slicing\n",
    "* A string is a series of characters surrounded by ' or \"\n",
    "* Like a list slices can be retreived"
   ]
  },
  {
   "cell_type": "code",
   "execution_count": null,
   "metadata": {},
   "outputs": [],
   "source": [
    "long_string = \"I'll catch you if you fall - The Floor\""
   ]
  },
  {
   "cell_type": "code",
   "execution_count": null,
   "metadata": {},
   "outputs": [],
   "source": [
    "# Retrieve the first 4 characters\n",
    "print(long_string[0:4])"
   ]
  },
  {
   "cell_type": "code",
   "execution_count": null,
   "metadata": {},
   "outputs": [],
   "source": [
    "# Get the last 5 characters\n",
    "print(long_string[-5:])"
   ]
  },
  {
   "cell_type": "code",
   "execution_count": null,
   "metadata": {},
   "outputs": [],
   "source": [
    "# Everything up to the last 5 characters\n",
    "print(long_string[:-5])"
   ]
  },
  {
   "cell_type": "code",
   "execution_count": null,
   "metadata": {},
   "outputs": [],
   "source": []
  },
  {
   "cell_type": "code",
   "execution_count": null,
   "metadata": {},
   "outputs": [],
   "source": [
    "# Returns the string length\n",
    "print(len(long_string))"
   ]
  },
  {
   "cell_type": "code",
   "execution_count": null,
   "metadata": {},
   "outputs": [],
   "source": []
  },
  {
   "cell_type": "code",
   "execution_count": null,
   "metadata": {},
   "outputs": [],
   "source": [
    "# Concatenate part of a string to another\n",
    "print(long_string[:4] + \" be there\")"
   ]
  },
  {
   "cell_type": "code",
   "execution_count": null,
   "metadata": {},
   "outputs": [],
   "source": []
  },
  {
   "cell_type": "code",
   "execution_count": null,
   "metadata": {},
   "outputs": [],
   "source": [
    "# String formatting using modulus operator %\n",
    "name = 'World'\n",
    "num = 105\n",
    "\n",
    "print('Hello %s!' % name)\n",
    "print('%d is my favorite number especially in hex: 0x%x' % (num, num))\n",
    "print('Width and Precision can also be defined e.g. %10.4f' % 0.12345)"
   ]
  },
  {
   "cell_type": "code",
   "execution_count": null,
   "metadata": {},
   "outputs": [],
   "source": [
    "# Newer 2.6+ format specifiers;\n",
    "person = {'name': 'Mark', 'age':21}\n",
    "\n",
    "print('First={} Second={} Third={}'.format(1,2,'three'))\n",
    "print('By position: First={2} Second={0} Third={1}{1}{1}'.format(1,2,'three'))\n",
    "print('By variable: {x} is {y} at heart! '.format(x=person['name'], y=person['age']))\n",
    "print('By dict: {name} is {age} at heart! '.format(**person))\n",
    "print('I would really like £{:,.02f} in {!r}'.format(1000000, 'cash'))\n",
    "print('Conversion: {0:d} = Hex({0:x}) = Oct({0:o}) = Binary {0:b}'.format(105))"
   ]
  },
  {
   "cell_type": "code",
   "execution_count": null,
   "metadata": {},
   "outputs": [],
   "source": [
    "# Ver 2.6 also support left/right center justifiers <^>;\n",
    "text = 'here'\n",
    "print('X{:15}X{:>15}X{:^15}X{:<15}X'.format(text, text, text, text))"
   ]
  },
  {
   "cell_type": "code",
   "execution_count": null,
   "metadata": {},
   "outputs": [],
   "source": [
    "# The best new feature in python 3.6 is 'f' string interpolation;\n",
    "import math, datetime\n",
    "name = 'Mark Butty'\n",
    "width, precision = 10, 5\n",
    "\n",
    "print(f'Hello {name} there are {len(name)} characters in your name')\n",
    "print(f'5 x 4 = {5 * 4}')\n",
    "print(f'PI is {math.pi:^{width}.{precision}} in binary')\n",
    "print(f'Conversion also work: {105:d} = Hex({105:x}) = Oct({105:o}) = Binary {105:b}')\n",
    "print(f'Today is {datetime.datetime.today():%A %B %d, %Y}')"
   ]
  },
  {
   "cell_type": "code",
   "execution_count": null,
   "metadata": {},
   "outputs": [],
   "source": [
    "# Mixing format and interpolation - useful for headings;\n",
    "\n",
    "mbflag = True\n",
    "units = 'MB' if mbflag else 'PG'\n",
    "print('{:^19}    {:^19} {:^9} {:>14} {:>12} {:>12}'.format(\n",
    "    'Start_time', 'End_time', 'VolCount', \n",
    "    f'ZeroReclaim_{units}', f'Target_{units}', f'Actual_{units}'))"
   ]
  },
  {
   "cell_type": "code",
   "execution_count": null,
   "metadata": {},
   "outputs": [],
   "source": []
  },
  {
   "cell_type": "code",
   "execution_count": null,
   "metadata": {},
   "outputs": [],
   "source": [
    "# Capitalizes the first letter\n",
    "print(long_string.capitalize())"
   ]
  },
  {
   "cell_type": "code",
   "execution_count": null,
   "metadata": {},
   "outputs": [],
   "source": [
    "# Returns the index of the start of the string\n",
    "# case sensitive\n",
    "print(long_string.find(\"Floor\"))"
   ]
  },
  {
   "cell_type": "code",
   "execution_count": null,
   "metadata": {},
   "outputs": [],
   "source": [
    "# Returns true if all characters are letters ' isn't a letter\n",
    "print(long_string.isalpha())"
   ]
  },
  {
   "cell_type": "code",
   "execution_count": null,
   "metadata": {},
   "outputs": [],
   "source": [
    "# Returns true if all characters are numbers\n",
    "print(long_string.isalnum())"
   ]
  },
  {
   "cell_type": "code",
   "execution_count": null,
   "metadata": {},
   "outputs": [],
   "source": [
    "# Replace the first word with the second (Add a number to replace more)\n",
    "print(long_string.replace(\"Floor\", \"Ground\"))"
   ]
  },
  {
   "cell_type": "code",
   "execution_count": null,
   "metadata": {},
   "outputs": [],
   "source": [
    "# Remove white space from front and end\n",
    "print(long_string.strip())"
   ]
  },
  {
   "cell_type": "code",
   "execution_count": null,
   "metadata": {},
   "outputs": [],
   "source": [
    "# Split a string into a list based on the delimiter you provide\n",
    "quote_list = long_string.split(\" \")\n",
    "print(quote_list)"
   ]
  },
  {
   "cell_type": "code",
   "execution_count": null,
   "metadata": {},
   "outputs": [],
   "source": [
    "#Join a list by with a string\n",
    "', '.join(quote_list)"
   ]
  },
  {
   "cell_type": "code",
   "execution_count": null,
   "metadata": {},
   "outputs": [],
   "source": []
  },
  {
   "cell_type": "markdown",
   "metadata": {},
   "source": [
    "## Dictionaries (maps, hashes)\n",
    "* Made up of values with a unique key for each value\n",
    "* Similar to lists, but you can't join dicts with a +\n",
    "* Dictionary keys are not guaranteed to be ordered (but are since ver 3.6 compact dictionaries)"
   ]
  },
  {
   "cell_type": "code",
   "execution_count": null,
   "metadata": {},
   "outputs": [],
   "source": [
    "\n",
    "super_villains = {\n",
    "    'Fiddler' : 'Isaac Bowin',\n",
    "    'Captain Cold' : 'Leonard Snart',\n",
    "    'Weather Wizard' : 'Mark Mardon'\n",
    "}\n",
    "super_villains['Mirror Master'] = 'Sam Scudder',\n",
    "super_villains['Pied Piper'] = 'Thomas Peterson'\n",
    "super_villains"
   ]
  },
  {
   "cell_type": "code",
   "execution_count": null,
   "metadata": {},
   "outputs": [],
   "source": []
  },
  {
   "cell_type": "code",
   "execution_count": null,
   "metadata": {},
   "outputs": [],
   "source": [
    "print(super_villains['Captain Cold'])"
   ]
  },
  {
   "cell_type": "code",
   "execution_count": null,
   "metadata": {},
   "outputs": [],
   "source": []
  },
  {
   "cell_type": "code",
   "execution_count": null,
   "metadata": {},
   "outputs": [],
   "source": [
    "# Delete an entry\n",
    "del super_villains['Fiddler']\n",
    "print(super_villains)"
   ]
  },
  {
   "cell_type": "code",
   "execution_count": null,
   "metadata": {},
   "outputs": [],
   "source": []
  },
  {
   "cell_type": "code",
   "execution_count": null,
   "metadata": {},
   "outputs": [],
   "source": [
    "# Replace a value\n",
    "super_villains['Pied Piper'] = 'Hartley Rathaway'"
   ]
  },
  {
   "cell_type": "code",
   "execution_count": null,
   "metadata": {},
   "outputs": [],
   "source": []
  },
  {
   "cell_type": "code",
   "execution_count": null,
   "metadata": {},
   "outputs": [],
   "source": [
    "# Print the number of items in the dictionary\n",
    "print(len(super_villains))"
   ]
  },
  {
   "cell_type": "code",
   "execution_count": null,
   "metadata": {},
   "outputs": [],
   "source": []
  },
  {
   "cell_type": "code",
   "execution_count": null,
   "metadata": {},
   "outputs": [],
   "source": [
    "# Get the value for the passed key\n",
    "print(super_villains.get(\"Pied Piper\"))"
   ]
  },
  {
   "cell_type": "code",
   "execution_count": null,
   "metadata": {},
   "outputs": [],
   "source": []
  },
  {
   "cell_type": "code",
   "execution_count": null,
   "metadata": {},
   "outputs": [],
   "source": [
    "# Get a list of dictionary keys\n",
    "print(super_villains.keys())"
   ]
  },
  {
   "cell_type": "code",
   "execution_count": null,
   "metadata": {},
   "outputs": [],
   "source": []
  },
  {
   "cell_type": "markdown",
   "metadata": {},
   "source": [
    "## Memory usage"
   ]
  },
  {
   "cell_type": "code",
   "execution_count": null,
   "metadata": {},
   "outputs": [],
   "source": [
    "dir() # list of names in the current scope or dir([object]) to list attributes of the object "
   ]
  },
  {
   "cell_type": "code",
   "execution_count": null,
   "metadata": {},
   "outputs": [],
   "source": [
    "locals() # return a dictionary of current local symbol table"
   ]
  },
  {
   "cell_type": "code",
   "execution_count": null,
   "metadata": {},
   "outputs": [],
   "source": [
    "globals() # Not really the globals, for a full list try gc.get_objects()"
   ]
  },
  {
   "cell_type": "code",
   "execution_count": null,
   "metadata": {},
   "outputs": [],
   "source": []
  },
  {
   "cell_type": "markdown",
   "metadata": {},
   "source": [
    "## Conditionals"
   ]
  },
  {
   "cell_type": "code",
   "execution_count": null,
   "metadata": {},
   "outputs": [],
   "source": [
    "# The if, else and elif statements are used to perform different\n",
    "# actions based off of conditions\n",
    "# Comparison Operators : ==, !=, >, <, >=, <="
   ]
  },
  {
   "cell_type": "code",
   "execution_count": null,
   "metadata": {},
   "outputs": [],
   "source": [
    "age = 30\n",
    "if age > 17 :\n",
    "    print('You are old enough to drive')"
   ]
  },
  {
   "cell_type": "code",
   "execution_count": null,
   "metadata": {},
   "outputs": [],
   "source": []
  },
  {
   "cell_type": "code",
   "execution_count": null,
   "metadata": {},
   "outputs": [],
   "source": [
    "# Use an if statement if you want to execute different code regardless\n",
    "# of whether the condition ws met or not\n",
    " \n",
    "if age > 17 :\n",
    "    print('You are old enough to drive')\n",
    "else :\n",
    "    print('You are not old enough to drive')"
   ]
  },
  {
   "cell_type": "code",
   "execution_count": null,
   "metadata": {},
   "outputs": [],
   "source": []
  },
  {
   "cell_type": "code",
   "execution_count": null,
   "metadata": {},
   "outputs": [],
   "source": [
    "# If you want to check for multiple conditions use elif\n",
    "# If the first matches it won't check other conditions that follow\n",
    " \n",
    "if age >= 21 :\n",
    "    print('You are old enough to drive a tracked vehicle')\n",
    "elif age >= 17:\n",
    "    print('You are old enough to drive a car')\n",
    "else :\n",
    "    print('You are not old enough to drive')"
   ]
  },
  {
   "cell_type": "code",
   "execution_count": null,
   "metadata": {},
   "outputs": [],
   "source": []
  },
  {
   "cell_type": "code",
   "execution_count": null,
   "metadata": {},
   "outputs": [],
   "source": [
    "# You can combine conditions with logical operators\n",
    "# Logical Operators : and, or, not\n",
    " \n",
    "if ((age >= 1) and (age <= 18)):\n",
    "    print(\"You get a birthday party\")\n",
    "elif (age == 21) or (age >= 65):\n",
    "    print(\"You get a birthday party\")\n",
    "elif not(age == 30):\n",
    "    print(\"You don't get a birthday party\")\n",
    "else:\n",
    "    print(\"You get a birthday party yeah\")"
   ]
  },
  {
   "cell_type": "code",
   "execution_count": null,
   "metadata": {},
   "outputs": [],
   "source": []
  },
  {
   "cell_type": "markdown",
   "metadata": {},
   "source": [
    "### Truth value testing\n",
    "* Any object can be tested for truth\n",
    "* By default an object is usually considered true unless they have either\n",
    "    * A method \\_\\_bool\\_\\_ which returns False\n",
    "    * A method \\_\\_len\\_\\_ which returns 0"
   ]
  },
  {
   "cell_type": "code",
   "execution_count": 136,
   "metadata": {},
   "outputs": [
    {
     "name": "stdout",
     "output_type": "stream",
     "text": [
      "Its True that it is not False!!!\n"
     ]
    }
   ],
   "source": [
    "# Invert (not) the True to False;\n",
    "if not True: print('Its True!!!')\n",
    "else: print('Its True that it is not False!!!')"
   ]
  },
  {
   "cell_type": "code",
   "execution_count": 137,
   "metadata": {},
   "outputs": [
    {
     "name": "stdout",
     "output_type": "stream",
     "text": [
      "Its True it is False!!!\n"
     ]
    }
   ],
   "source": [
    "# Invert the False to be true;\n",
    "if not False: print('Its True it is False!!!')"
   ]
  },
  {
   "cell_type": "code",
   "execution_count": 138,
   "metadata": {},
   "outputs": [
    {
     "name": "stdout",
     "output_type": "stream",
     "text": [
      "Its True it is False!!!\n"
     ]
    }
   ],
   "source": [
    "# Many types can be defined as False;\n",
    "if not None: print('Its True it is False!!!')"
   ]
  },
  {
   "cell_type": "code",
   "execution_count": 139,
   "metadata": {},
   "outputs": [
    {
     "name": "stdout",
     "output_type": "stream",
     "text": [
      "Its True it is False!!!\n",
      "Its True it is False!!!\n",
      "Its True it is False!!!\n",
      "Its True it is False!!!\n",
      "Its True it is False!!!\n"
     ]
    }
   ],
   "source": [
    "#Empty sequences and colelctions;\n",
    "if not '': print('Its True it is False!!!')\n",
    "if not []: print('Its True it is False!!!')\n",
    "if not (): print('Its True it is False!!!')\n",
    "if not {}: print('Its True it is False!!!')\n",
    "if not range(0): print('Its True it is False!!!')"
   ]
  },
  {
   "cell_type": "code",
   "execution_count": 140,
   "metadata": {},
   "outputs": [],
   "source": [
    "# The assert statement checks for truth and raises an error if false\n",
    "# It is only executed in debug mode (unless running with -O to remove __debug__ code)\n",
    "assert True"
   ]
  },
  {
   "cell_type": "code",
   "execution_count": 141,
   "metadata": {},
   "outputs": [
    {
     "ename": "AssertionError",
     "evalue": "",
     "output_type": "error",
     "traceback": [
      "\u001b[1;31m---------------------------------------------------------------------------\u001b[0m",
      "\u001b[1;31mAssertionError\u001b[0m                            Traceback (most recent call last)",
      "\u001b[1;32m<ipython-input-141-a871fdc9ebee>\u001b[0m in \u001b[0;36m<module>\u001b[1;34m\u001b[0m\n\u001b[1;32m----> 1\u001b[1;33m \u001b[1;32massert\u001b[0m \u001b[1;32mFalse\u001b[0m\u001b[1;33m\u001b[0m\u001b[1;33m\u001b[0m\u001b[0m\n\u001b[0m",
      "\u001b[1;31mAssertionError\u001b[0m: "
     ]
    }
   ],
   "source": [
    "assert False"
   ]
  },
  {
   "cell_type": "code",
   "execution_count": null,
   "metadata": {},
   "outputs": [],
   "source": []
  },
  {
   "cell_type": "code",
   "execution_count": null,
   "metadata": {},
   "outputs": [],
   "source": []
  },
  {
   "cell_type": "code",
   "execution_count": null,
   "metadata": {},
   "outputs": [],
   "source": []
  },
  {
   "cell_type": "code",
   "execution_count": null,
   "metadata": {},
   "outputs": [],
   "source": []
  }
 ],
 "metadata": {
  "kernelspec": {
   "display_name": "Python 3",
   "language": "python",
   "name": "python3"
  },
  "language_info": {
   "codemirror_mode": {
    "name": "ipython",
    "version": 3
   },
   "file_extension": ".py",
   "mimetype": "text/x-python",
   "name": "python",
   "nbconvert_exporter": "python",
   "pygments_lexer": "ipython3",
   "version": "3.7.6"
  }
 },
 "nbformat": 4,
 "nbformat_minor": 2
}
