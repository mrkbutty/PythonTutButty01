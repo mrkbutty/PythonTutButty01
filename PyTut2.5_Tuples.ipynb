{
 "cells": [
  {
   "cell_type": "markdown",
   "metadata": {},
   "source": [
    "## Before continuing, please select menu option:  **Cell => All output => clear**"
   ]
  },
  {
   "cell_type": "code",
   "execution_count": null,
   "metadata": {},
   "outputs": [],
   "source": []
  },
  {
   "cell_type": "code",
   "execution_count": null,
   "metadata": {},
   "outputs": [],
   "source": []
  },
  {
   "cell_type": "code",
   "execution_count": null,
   "metadata": {},
   "outputs": [],
   "source": []
  },
  {
   "cell_type": "markdown",
   "metadata": {},
   "source": [
    "## Tuples\n",
    "* **Tuples are similar to lists but are immutable, they cannot be changed (lists are mutable and can be changed).**\n",
    "* Tuples are a fixed size whereas lists are dynamic.\n",
    "* Tuples are useful to pack and unpack sequences (collections of values).\n",
    "* Usually you would use tuples when you know what you want to pack and how many elements.\n",
    "* And use a list when the data you are storing is dynamic and could grow/shrink.\n",
    "    - For example:\n",
    "```\n",
    "    person = ('Dave Jenkins', 'Admin', '+566634-566-712')\n",
    "    groceries = ['bread', 'potatoes', 'milk']\n",
    "```\n",
    "* There are some technical differences too when used with dictionaries:\n",
    "    - Tuples **can** be used as dictionary keys because they are immutable.\n",
    "    - Lists **cannot** be used as dictionary keys as they are mutable & dynamic (cannot be hashed).\n",
    "    - To use a list as a dictionary key it has to be changed to a tuple first.\n",
    "\n",
    "Both tuples and lists have the following common methods:  \n",
    "```\n",
    "len(), max(), min(), sum(), any(), all(), sorted(), index(), count()\n",
    "```\n",
    "List only methods:\n",
    "```\n",
    "append(), insert(), remove(), pop(), clear(), sort(), and reverse()\n",
    "```"
   ]
  },
  {
   "cell_type": "code",
   "execution_count": null,
   "metadata": {},
   "outputs": [],
   "source": [
    "numbers = (1, 2, 'Three')   # These are\n",
    "numbers = 1, 2, 'Three'     # equivilent\n",
    "a, b, c = numbers   # unpacking the tuple\n",
    "print(numbers, a, b, c, type(numbers))"
   ]
  },
  {
   "cell_type": "code",
   "execution_count": null,
   "metadata": {},
   "outputs": [],
   "source": [
    "mylist = [1, 2, 3]\n",
    "a, b ,c = mylist  # You can also unpack lists\n",
    "print(a, b, c)"
   ]
  },
  {
   "cell_type": "code",
   "execution_count": null,
   "metadata": {},
   "outputs": [],
   "source": [
    "pi_tuple = (3, 1, 4, 1, 5, 9)"
   ]
  },
  {
   "cell_type": "code",
   "execution_count": null,
   "metadata": {},
   "outputs": [],
   "source": [
    "del pi_tuple[2]"
   ]
  },
  {
   "cell_type": "code",
   "execution_count": null,
   "metadata": {},
   "outputs": [],
   "source": [
    "pi_tuple[2] = 5"
   ]
  },
  {
   "cell_type": "code",
   "execution_count": null,
   "metadata": {},
   "outputs": [],
   "source": [
    "# Adding to a tuple creates a new tuple\n",
    "print(id(pi_tuple))\n",
    "pi_tuple += (10,)\n",
    "print(id(pi_tuple))\n",
    "pi_tuple"
   ]
  },
  {
   "cell_type": "code",
   "execution_count": null,
   "metadata": {},
   "outputs": [],
   "source": []
  },
  {
   "cell_type": "code",
   "execution_count": null,
   "metadata": {},
   "outputs": [],
   "source": []
  },
  {
   "cell_type": "code",
   "execution_count": null,
   "metadata": {},
   "outputs": [],
   "source": [
    "# Convert tuple into a list\n",
    "pi_list = list(pi_tuple)\n",
    " \n",
    "# Convert a list into a tuple\n",
    "new_tuple = tuple(pi_list)\n",
    "\n",
    "print(pi_list)\n",
    "print(new_tuple)"
   ]
  },
  {
   "cell_type": "code",
   "execution_count": null,
   "metadata": {},
   "outputs": [],
   "source": []
  },
  {
   "cell_type": "code",
   "execution_count": null,
   "metadata": {},
   "outputs": [],
   "source": [
    "# You can have multiple dimensions to the tuple (and lists)\n",
    "mytuple=((1,2),(3,(4,5),(6,(7,(8,9)))))\n",
    "mytuple[1][2][1][1][0]"
   ]
  },
  {
   "cell_type": "code",
   "execution_count": null,
   "metadata": {},
   "outputs": [],
   "source": [
    "mylist = [1, 2, 3]\n",
    "mytup = 1, 2, mylist\n",
    "print(mytup)"
   ]
  },
  {
   "cell_type": "code",
   "execution_count": null,
   "metadata": {},
   "outputs": [],
   "source": [
    "mylist.append(4)"
   ]
  },
  {
   "cell_type": "code",
   "execution_count": null,
   "metadata": {},
   "outputs": [],
   "source": [
    "mytup"
   ]
  },
  {
   "cell_type": "code",
   "execution_count": null,
   "metadata": {},
   "outputs": [],
   "source": [
    "list(map(id, mytup))"
   ]
  },
  {
   "cell_type": "code",
   "execution_count": null,
   "metadata": {},
   "outputs": [],
   "source": []
  },
  {
   "cell_type": "code",
   "execution_count": null,
   "metadata": {},
   "outputs": [],
   "source": []
  },
  {
   "cell_type": "code",
   "execution_count": null,
   "metadata": {},
   "outputs": [],
   "source": [
    "# Gotcha, single element tuples must have a comma in the list:\n",
    "t = (1)\n",
    "type(1)"
   ]
  },
  {
   "cell_type": "code",
   "execution_count": null,
   "metadata": {},
   "outputs": [],
   "source": [
    "t = (1,)\n",
    "type(t)"
   ]
  },
  {
   "cell_type": "code",
   "execution_count": null,
   "metadata": {},
   "outputs": [],
   "source": [
    "# This is especially applicable when building tuples of strings:\n",
    "for i in ('one', 'two'):\n",
    "    print(i)"
   ]
  },
  {
   "cell_type": "code",
   "execution_count": null,
   "metadata": {},
   "outputs": [],
   "source": [
    "for i in ('one'):\n",
    "    print(i)"
   ]
  },
  {
   "cell_type": "code",
   "execution_count": null,
   "metadata": {},
   "outputs": [],
   "source": [
    "for i in ('one',):\n",
    "    print(i)"
   ]
  },
  {
   "cell_type": "code",
   "execution_count": null,
   "metadata": {},
   "outputs": [],
   "source": []
  },
  {
   "cell_type": "code",
   "execution_count": null,
   "metadata": {},
   "outputs": [],
   "source": [
    "# The iterable unpacking operator \"*\"\n",
    "def myfunc():\n",
    "    pass # do something clever\n",
    "    return (13.567, 237.67, \"co-ords\" ,4000 ,\"bomb\")\n",
    "\n",
    "print(myfunc())\n",
    "\n",
    "x, y, *junk = myfunc()\n",
    "print(x, y, junk)"
   ]
  },
  {
   "cell_type": "code",
   "execution_count": null,
   "metadata": {},
   "outputs": [],
   "source": [
    "a, *b, c = (10, \"twenty\", 30, \"forty\", 50)\n",
    "print('a =', a)\n",
    "print('b =', b)\n",
    "print('c =', c)"
   ]
  },
  {
   "cell_type": "code",
   "execution_count": null,
   "metadata": {},
   "outputs": [],
   "source": []
  },
  {
   "cell_type": "code",
   "execution_count": null,
   "metadata": {},
   "outputs": [],
   "source": []
  },
  {
   "cell_type": "markdown",
   "metadata": {},
   "source": [
    "#### Named tuples"
   ]
  },
  {
   "cell_type": "code",
   "execution_count": null,
   "metadata": {},
   "outputs": [],
   "source": [
    "# tuples normally use numerical indexes:\n",
    "bob = ('Bob', 30, 'male')\n",
    "print('Representation:', bob)\n",
    "jane = ('Jane', 29, 'female')\n",
    "print('Field by index:', jane[0])\n",
    "print('Fields by index:')\n",
    "for p in [ bob, jane ]:\n",
    "    print('%s is a %d year old %s' % p)"
   ]
  },
  {
   "cell_type": "code",
   "execution_count": null,
   "metadata": {},
   "outputs": [],
   "source": [
    "import collections"
   ]
  },
  {
   "cell_type": "code",
   "execution_count": null,
   "metadata": {},
   "outputs": [],
   "source": [
    "Person = collections.namedtuple('Person', 'name age gender')\n",
    "print('Type of Person:', type(Person))"
   ]
  },
  {
   "cell_type": "code",
   "execution_count": null,
   "metadata": {},
   "outputs": [],
   "source": [
    "bob = Person(name='Bob', age=30, gender='male')\n",
    "print('Representation:', bob)\n",
    "jane = Person(name='Jane', age=29, gender='female')\n",
    "print('Field by name:', jane.name)"
   ]
  },
  {
   "cell_type": "code",
   "execution_count": null,
   "metadata": {},
   "outputs": [],
   "source": [
    "# Fields by index:\n",
    "for p in [ bob, jane ]:\n",
    "    print('%s is a %d year old %s' % p)"
   ]
  },
  {
   "cell_type": "code",
   "execution_count": null,
   "metadata": {},
   "outputs": [],
   "source": []
  },
  {
   "cell_type": "code",
   "execution_count": null,
   "metadata": {},
   "outputs": [],
   "source": []
  },
  {
   "cell_type": "markdown",
   "metadata": {},
   "source": [
    "## Exercise:\n",
    "Executing and using the list of tuples below...\n",
    "* Answer each question in a seperate cell\n",
    "1. Print the \"Lacky\" description to the screen using list & tuple indexing.\n",
    "1. Loop through the users list printing each person's username, id and description.\n",
    "1. Add your own entry to the end of the list.\n",
    "1. Loop again but this time unpack the tuples into variables: username, id, description.  \n",
    "    - And print them out.\n",
    "* Copy & paste your answers into chat once completed"
   ]
  },
  {
   "cell_type": "code",
   "execution_count": null,
   "metadata": {},
   "outputs": [],
   "source": [
    "# Execute this cell before answering the questions\n",
    "users = [\n",
    "    ('root', 0, 'Superman'),\n",
    "    ('dave', 121, 'Admin'),\n",
    "    ('renfield', 122, 'Lacky'),\n",
    "    ('daphne', 301, 'Engineer'),\n",
    "]"
   ]
  },
  {
   "cell_type": "code",
   "execution_count": null,
   "metadata": {},
   "outputs": [],
   "source": [
    "#1\n"
   ]
  },
  {
   "cell_type": "code",
   "execution_count": null,
   "metadata": {},
   "outputs": [],
   "source": [
    "#2\n"
   ]
  },
  {
   "cell_type": "code",
   "execution_count": null,
   "metadata": {},
   "outputs": [],
   "source": [
    "#3\n"
   ]
  },
  {
   "cell_type": "code",
   "execution_count": null,
   "metadata": {},
   "outputs": [],
   "source": [
    "#4\n"
   ]
  },
  {
   "cell_type": "code",
   "execution_count": null,
   "metadata": {},
   "outputs": [],
   "source": []
  },
  {
   "cell_type": "code",
   "execution_count": null,
   "metadata": {},
   "outputs": [],
   "source": []
  },
  {
   "cell_type": "code",
   "execution_count": null,
   "metadata": {},
   "outputs": [],
   "source": []
  }
 ],
 "metadata": {
  "kernelspec": {
   "display_name": "Python 3",
   "language": "python",
   "name": "python3"
  },
  "language_info": {
   "codemirror_mode": {
    "name": "ipython",
    "version": 3
   },
   "file_extension": ".py",
   "mimetype": "text/x-python",
   "name": "python",
   "nbconvert_exporter": "python",
   "pygments_lexer": "ipython3",
   "version": "3.8.5"
  }
 },
 "nbformat": 4,
 "nbformat_minor": 2
}
