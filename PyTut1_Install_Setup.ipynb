{
 "cells": [
  {
   "cell_type": "markdown",
   "metadata": {
    "slideshow": {
     "slide_type": "slide"
    }
   },
   "source": [
    "# Agenda\n",
    "### Intro\n",
    "* Python overview\n",
    "* Install Anaconda\n",
    "\n",
    "### First steps\n",
    "* Using the repl\n",
    "* Creating and running script\n",
    "* Jupyter (iPython)\n",
    "\n",
    "#### Core Language\n",
    "#### Modules\n",
    "#### Editors and IDE's\n",
    "#### Advanced Python\n"
   ]
  },
  {
   "cell_type": "markdown",
   "metadata": {
    "slideshow": {
     "slide_type": "slide"
    }
   },
   "source": [
    "# Python Overview\n",
    "-----------------------\n",
    "\n",
    "\n",
    "* Scripting language, interpreted high-level programming language for general-purpose programming.\n",
    "\n",
    "* Creator (BDFL) Guido Von Rossum developed in the 1980's, first release 1991.\n",
    "\n",
    "* Python has a design philosophy that emphasizes code readability, notably using significant whitespace. It provides constructs that enable clear programming on both small and large scales.\n",
    "\n",
    "\n",
    "\n",
    "* Many versions of Python; CPython, PyPy, Stackless Python, MicroPython.\n",
    "\n",
    "* Cross-compliers; Jython (Java Bytecode), IronPython (.NET), Cython (C, C++), Grumpy (by Google complies to Go), etc...\n",
    "\n",
    "* CPython is written in C and compiles Python programs into intermediate bytecode which is executed by the python Virtual Machine.\n",
    "\n",
    "* CPython has a very large library (OS, GUI, Database, Network, Web, ML/AI, Scientific, Data Analytics, etc)"
   ]
  },
  {
   "cell_type": "markdown",
   "metadata": {
    "slideshow": {
     "slide_type": "slide"
    }
   },
   "source": [
    "# Install Anaconda\n",
    "----------\n",
    "### Visit site: https://www.anaconda.com/download/\n",
    "* Select latest version 3+ package!\n",
    "     - Most new programmers should use latest python 3\n",
    "     - Python 2 still around and python 2.7 version is the best bridge to version 3\n",
    "* If upgrading run the \"Anaconda Prompt\" and type;\n",
    "```\n",
    "> conda update conda\n",
    "> conda update anaconda\n",
    "```\n",
    "---\n",
    "* Anaconda is the most popular Data Science Python (and 'R') distribution\n",
    "* It is a distribtion and package management system containing 1000+ popular modules for python\n",
    "* Most noteable are:\n",
    "    - conda (package management)\n",
    "    - pandas (data wrangling)\n",
    "    \n",
    "\n",
    "\n"
   ]
  },
  {
   "cell_type": "markdown",
   "metadata": {
    "slideshow": {
     "slide_type": "slide"
    }
   },
   "source": [
    "# Using the Python repl\n",
    "* From a command prompt type;\n",
    " \n",
    "`> python`\n",
    "\n",
    "* Try these commands;\n",
    "---\n",
    "```python\n",
    "print 'Hello World!'\n",
    "print('Hello World!')\n",
    "name = 'fred'\n",
    "print(name)\n",
    "greet = \"Hello \" + name + '!'\n",
    "print(greet)\n",
    "print(f'Hello {name.upper()}!')\n",
    "```\n",
    "---"
   ]
  },
  {
   "cell_type": "markdown",
   "metadata": {
    "slideshow": {
     "slide_type": "slide"
    }
   },
   "source": [
    "# Code block indentation\n",
    "---\n",
    "```python\n",
    "age = 17\n",
    "if age < 18:\n",
    "    print('You cannot drink')\n",
    "    \n",
    "if age < 18:\n",
    "    print('You cannot drink')\n",
    "    print('But maybe you can drive')\n",
    "else:\n",
    "    print('You can drink')\n",
    "    print('You can drive')\n",
    "    print('But you must not drink and drive')\n",
    "```\n",
    "---\n",
    "\n",
    "* To exit the repl on Windows type Ctrl-Z \\<enter\\> \n",
    "* Unix type Ctrl-D\n",
    "* Or type \"`exit()`\""
   ]
  },
  {
   "cell_type": "markdown",
   "metadata": {
    "slideshow": {
     "slide_type": "slide"
    }
   },
   "source": [
    "# Creating and running a script\n",
    "---\n",
    "```\n",
    "> mkdir \\pytut\n",
    "> cd \\pytut\n",
    "> Notepad hello.py\n",
    "```\n",
    "---\n",
    "```python\n",
    "def greet(name=None):\n",
    "    if name==None:\n",
    "        name = 'World'\n",
    "    \n",
    "    text = 'Hello ' + name + '!'\n",
    "    print(text)\n",
    "    \n",
    "print(greet)\n",
    "answer = input('What is your name? ')\n",
    "greet(answer)\n",
    "\n",
    "```\n",
    "---\n",
    "```\n",
    "> python hello.py\n",
    "```\n"
   ]
  },
  {
   "cell_type": "markdown",
   "metadata": {
    "slideshow": {
     "slide_type": "slide"
    }
   },
   "source": [
    "# Jupyter (iPython) Notebook\n",
    "* From Anaconda start the \"Jupyter notebook\"\n",
    "---\n",
    "* Has a command mode and input mode (Esc to toggle)\n",
    "* h = help\n",
    "* a = create cell above\n",
    "* b = create cell below\n",
    "* dd = delete\n",
    "* <tab\\> completion\n",
    "* <shift\\>+<enter\\> = run cell\n",
    "---\n",
    "* ! = to run shell commands\n",
    "* %magic and %%magic\n"
   ]
  },
  {
   "cell_type": "code",
   "execution_count": null,
   "metadata": {},
   "outputs": [],
   "source": []
  },
  {
   "cell_type": "code",
   "execution_count": null,
   "metadata": {},
   "outputs": [],
   "source": []
  }
 ],
 "metadata": {
  "kernelspec": {
   "display_name": "Python 3",
   "language": "python",
   "name": "python3"
  },
  "language_info": {
   "codemirror_mode": {
    "name": "ipython",
    "version": 3
   },
   "file_extension": ".py",
   "mimetype": "text/x-python",
   "name": "python",
   "nbconvert_exporter": "python",
   "pygments_lexer": "ipython3",
   "version": "3.6.6"
  }
 },
 "nbformat": 4,
 "nbformat_minor": 2
}
