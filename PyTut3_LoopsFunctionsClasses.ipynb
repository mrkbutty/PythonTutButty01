{
 "cells": [
  {
   "cell_type": "markdown",
   "metadata": {},
   "source": [
    "## Before continuing, please select menu option:  **Cell => All output => clear**"
   ]
  },
  {
   "cell_type": "markdown",
   "metadata": {},
   "source": [
    "# For Loops\n",
    "* Allows you to perform an action a set number of times\n",
    "* Usually used on iterator types; lists, tuples, or generators"
   ]
  },
  {
   "cell_type": "code",
   "execution_count": null,
   "metadata": {},
   "outputs": [],
   "source": []
  },
  {
   "cell_type": "code",
   "execution_count": null,
   "metadata": {},
   "outputs": [],
   "source": []
  },
  {
   "cell_type": "code",
   "execution_count": null,
   "metadata": {},
   "outputs": [],
   "source": []
  },
  {
   "cell_type": "code",
   "execution_count": null,
   "metadata": {},
   "outputs": [],
   "source": []
  },
  {
   "cell_type": "code",
   "execution_count": null,
   "metadata": {},
   "outputs": [],
   "source": []
  },
  {
   "cell_type": "code",
   "execution_count": null,
   "metadata": {},
   "outputs": [],
   "source": [
    "# You can use for loops to cycle through a list\n",
    "grocery_list = ['Juice', 'Tomatoes', 'Potatoes', 'Bananas']\n",
    " \n",
    "for i in grocery_list:\n",
    "    print(i)"
   ]
  },
  {
   "cell_type": "code",
   "execution_count": null,
   "metadata": {},
   "outputs": [],
   "source": []
  },
  {
   "cell_type": "code",
   "execution_count": null,
   "metadata": {},
   "outputs": [],
   "source": [
    "# You can also define a list of numbers to cycle through\n",
    "for x in [2, 4, 6, 8, 10]:\n",
    "    print(x)"
   ]
  },
  {
   "cell_type": "code",
   "execution_count": null,
   "metadata": {},
   "outputs": [],
   "source": []
  },
  {
   "cell_type": "code",
   "execution_count": null,
   "metadata": {},
   "outputs": [],
   "source": [
    "# Or any object\n",
    "def myfunc():\n",
    "    pass\n",
    "\n",
    "for i in [2, 4.3, 'hello', (8,10), myfunc]:\n",
    "    print(i)"
   ]
  },
  {
   "cell_type": "code",
   "execution_count": null,
   "metadata": {},
   "outputs": [],
   "source": []
  },
  {
   "cell_type": "code",
   "execution_count": null,
   "metadata": {},
   "outputs": [],
   "source": [
    "# You can double up for loops to cycle through lists\n",
    "num_list =[[1, 2, 3],[10, 20, 30],[100, 200, 300]];\n",
    " \n",
    "for x in range(0, 3):\n",
    "    for y in range(0, 3):\n",
    "        print(num_list[x][y])"
   ]
  },
  {
   "cell_type": "code",
   "execution_count": null,
   "metadata": {},
   "outputs": [],
   "source": []
  },
  {
   "cell_type": "markdown",
   "metadata": {},
   "source": [
    "### Exercise\n",
    "1. Using two for loops simialr to above.\n",
    "2. Iterate over the counters below and print out each item:"
   ]
  },
  {
   "cell_type": "code",
   "execution_count": null,
   "metadata": {},
   "outputs": [],
   "source": [
    "counters = [[1, 2, 3], [4, 5, 6, 7], [8, 9, 10, 11, 12]]"
   ]
  },
  {
   "cell_type": "code",
   "execution_count": null,
   "metadata": {},
   "outputs": [],
   "source": []
  },
  {
   "cell_type": "code",
   "execution_count": null,
   "metadata": {},
   "outputs": [],
   "source": []
  },
  {
   "cell_type": "markdown",
   "metadata": {},
   "source": [
    "## Generators"
   ]
  },
  {
   "cell_type": "code",
   "execution_count": null,
   "metadata": {},
   "outputs": [],
   "source": [
    "# The range keyword returns a *list:\n",
    "for x in range(0, 10):\n",
    "    print(x , ' ', end=\"\")\n",
    "print('\\n')"
   ]
  },
  {
   "cell_type": "code",
   "execution_count": null,
   "metadata": {},
   "outputs": [],
   "source": [
    "# However, in reality a range is a generator which yields the values back to the caller.\n",
    "# In python 2 it returns a list containing the range so there is also xrange to return a generator\n",
    "print('Python3 range =', range(5,10))  # Python2 generator is xrange\n",
    "print('Python2 would use more memory and return a list =', list(range(5,10)))"
   ]
  },
  {
   "cell_type": "code",
   "execution_count": null,
   "metadata": {},
   "outputs": [],
   "source": []
  },
  {
   "cell_type": "code",
   "execution_count": null,
   "metadata": {},
   "outputs": [],
   "source": [
    "# Testing range creation with a generator:\n",
    "%timeit range(10000)"
   ]
  },
  {
   "cell_type": "code",
   "execution_count": null,
   "metadata": {},
   "outputs": [],
   "source": [
    "# As Python2 would work to generate a list:\n",
    "%timeit list(range(10000))"
   ]
  },
  {
   "cell_type": "code",
   "execution_count": null,
   "metadata": {},
   "outputs": [],
   "source": []
  },
  {
   "cell_type": "code",
   "execution_count": null,
   "metadata": {},
   "outputs": [],
   "source": []
  },
  {
   "cell_type": "code",
   "execution_count": null,
   "metadata": {},
   "outputs": [],
   "source": []
  },
  {
   "cell_type": "code",
   "execution_count": null,
   "metadata": {},
   "outputs": [],
   "source": [
    "# enumerate is a very useful feature;\n",
    "list(enumerate(grocery_list, 5))"
   ]
  },
  {
   "cell_type": "code",
   "execution_count": null,
   "metadata": {},
   "outputs": [],
   "source": [
    "for count, item in enumerate(grocery_list):\n",
    "    print('#', count, '=', item)"
   ]
  },
  {
   "cell_type": "code",
   "execution_count": null,
   "metadata": {},
   "outputs": [],
   "source": []
  },
  {
   "cell_type": "markdown",
   "metadata": {},
   "source": [
    "### Exercise\n",
    "1. ???"
   ]
  },
  {
   "cell_type": "code",
   "execution_count": null,
   "metadata": {},
   "outputs": [],
   "source": []
  },
  {
   "cell_type": "markdown",
   "metadata": {},
   "source": [
    "# List comprehensions (& generator & dictionary) \n",
    "* Are a pythonic way of expressing a ‘for-loop’ that appends to a list in a single line of code.\n",
    "\n",
    "A list comprehension typically has 3 components:\n",
    "\n",
    "* The output (which can be string, number, list or any object you want to put in the list.)\n",
    "* For Statements\n",
    "* Conditional filtering (optional)\n",
    "\n",
    "Below is a typical format of a list comprehension;\n",
    "\n",
    "[(output expression) for (i in iterable) if (filter condition)]\n"
   ]
  },
  {
   "cell_type": "code",
   "execution_count": null,
   "metadata": {},
   "outputs": [],
   "source": [
    "result = []\n",
    "for i in range(10):\n",
    "    if i%2 == 0:\n",
    "        result.append(i)\n",
    "result"
   ]
  },
  {
   "cell_type": "code",
   "execution_count": null,
   "metadata": {},
   "outputs": [],
   "source": []
  },
  {
   "cell_type": "code",
   "execution_count": null,
   "metadata": {},
   "outputs": [],
   "source": [
    "result = [i for i in range(10) if i % 2 == 0]\n",
    "result"
   ]
  },
  {
   "cell_type": "code",
   "execution_count": null,
   "metadata": {},
   "outputs": [],
   "source": []
  },
  {
   "cell_type": "code",
   "execution_count": null,
   "metadata": {},
   "outputs": [],
   "source": [
    "[i ** 2 if i%2==0 else i ** 3 for i in [1, 2, 3, 4, 5]]"
   ]
  },
  {
   "cell_type": "markdown",
   "metadata": {},
   "source": [
    "**How can we improve above?**"
   ]
  },
  {
   "cell_type": "code",
   "execution_count": null,
   "metadata": {},
   "outputs": [],
   "source": []
  },
  {
   "cell_type": "code",
   "execution_count": null,
   "metadata": {},
   "outputs": [],
   "source": [
    "# Flatten a list of lists\n",
    "mat = [[1,2,3,4], [5,6,7,8], [9,10,11,12], [13,14,15,16]]\n",
    "[i for row in mat for i in row if i % 2==0]"
   ]
  },
  {
   "cell_type": "code",
   "execution_count": null,
   "metadata": {},
   "outputs": [],
   "source": []
  },
  {
   "cell_type": "code",
   "execution_count": null,
   "metadata": {},
   "outputs": [],
   "source": [
    "# For each number in list_b, get the number and its position in mylist as a list of tuples\n",
    "mylist = [9, 3, 6, 1, 5, 0, 8, 2, 4, 7]\n",
    "list_b = [6, 4, 6, 1, 2, 2]\n",
    "[(i, mylist.index(i)) for i in list_b]"
   ]
  },
  {
   "cell_type": "code",
   "execution_count": null,
   "metadata": {},
   "outputs": [],
   "source": []
  },
  {
   "cell_type": "markdown",
   "metadata": {},
   "source": [
    "**Generator comprehension**"
   ]
  },
  {
   "cell_type": "code",
   "execution_count": null,
   "metadata": {},
   "outputs": [],
   "source": [
    "# List comprehension versus Generator comprehension\n",
    "listcomp = [ f'Count{i}' for i in range(3) ]\n",
    "iterator = ( f'Count{i}' for i in range(3) )"
   ]
  },
  {
   "cell_type": "code",
   "execution_count": null,
   "metadata": {},
   "outputs": [],
   "source": [
    "print(listcomp)\n",
    "print(iterator)"
   ]
  },
  {
   "cell_type": "code",
   "execution_count": null,
   "metadata": {},
   "outputs": [],
   "source": [
    "for x in iterator:\n",
    "    print(x)"
   ]
  },
  {
   "cell_type": "markdown",
   "metadata": {},
   "source": [
    "**Try running the above a second time.  What happens?**"
   ]
  },
  {
   "cell_type": "code",
   "execution_count": null,
   "metadata": {},
   "outputs": [],
   "source": [
    "iterator = ( f'Count{i}' for i in range(3) )\n",
    "next(iterator)"
   ]
  },
  {
   "cell_type": "code",
   "execution_count": null,
   "metadata": {},
   "outputs": [],
   "source": [
    "next(iterator)"
   ]
  },
  {
   "cell_type": "code",
   "execution_count": null,
   "metadata": {},
   "outputs": [],
   "source": [
    "next(iterator)"
   ]
  },
  {
   "cell_type": "code",
   "execution_count": null,
   "metadata": {},
   "outputs": [],
   "source": [
    "next(iterator)"
   ]
  },
  {
   "cell_type": "code",
   "execution_count": null,
   "metadata": {},
   "outputs": [],
   "source": [
    "iterator = ( f'Count{i}' for i in range(3) )\n",
    "list(iterator)"
   ]
  },
  {
   "cell_type": "code",
   "execution_count": null,
   "metadata": {},
   "outputs": [],
   "source": []
  },
  {
   "cell_type": "code",
   "execution_count": null,
   "metadata": {},
   "outputs": [],
   "source": [
    "# Generator comprehensions generally use a lot less memory:\n",
    "import sys\n",
    "nums_squared_lc = [i * 2 for i in range(100000)]\n",
    "print(sys.getsizeof(nums_squared_lc))\n",
    "87624\n",
    "nums_squared_gc = (i ** 2 for i in range(100000))\n",
    "print(sys.getsizeof(nums_squared_gc))"
   ]
  },
  {
   "cell_type": "code",
   "execution_count": null,
   "metadata": {},
   "outputs": [],
   "source": []
  },
  {
   "cell_type": "code",
   "execution_count": null,
   "metadata": {},
   "outputs": [],
   "source": [
    "# If the list is smaller than available memory then list comprehensions can be faster to evaluate:\n",
    "import cProfile\n",
    "cProfile.run('sum([i * 2 for i in range(100000)])')"
   ]
  },
  {
   "cell_type": "code",
   "execution_count": null,
   "metadata": {},
   "outputs": [],
   "source": [
    "import cProfile\n",
    "cProfile.run('sum((i * 2 for i in range(100000)))')"
   ]
  },
  {
   "cell_type": "code",
   "execution_count": null,
   "metadata": {},
   "outputs": [],
   "source": []
  },
  {
   "cell_type": "markdown",
   "metadata": {},
   "source": [
    "**Dictionary comprehension**"
   ]
  },
  {
   "cell_type": "code",
   "execution_count": null,
   "metadata": {},
   "outputs": [],
   "source": [
    "{i: mylist.index(i) for i in list_b}"
   ]
  },
  {
   "cell_type": "code",
   "execution_count": null,
   "metadata": {},
   "outputs": [],
   "source": []
  },
  {
   "cell_type": "code",
   "execution_count": null,
   "metadata": {},
   "outputs": [],
   "source": [
    "words = '''\n",
    "Beautiful is better than ugly.\n",
    "Explicit is better than implicit.\n",
    "Simple is better than complex.\n",
    "Complex is better than complicated.\n",
    "Flat is better than nested.\n",
    "Sparse is better than dense.\n",
    "Readability counts.\n",
    "'''.split()"
   ]
  },
  {
   "cell_type": "code",
   "execution_count": null,
   "metadata": {},
   "outputs": [],
   "source": [
    "{i:words.count(i) for i in words}"
   ]
  },
  {
   "cell_type": "code",
   "execution_count": null,
   "metadata": {},
   "outputs": [],
   "source": [
    "%%timeit\n",
    "# it's not always faster then other methods\n",
    "{i:words.count(i) for i in words}"
   ]
  },
  {
   "cell_type": "code",
   "execution_count": null,
   "metadata": {},
   "outputs": [],
   "source": [
    "%%timeit\n",
    "d = {}\n",
    "for w in words: d[w] = d.get(w, 0) + 1"
   ]
  },
  {
   "cell_type": "code",
   "execution_count": null,
   "metadata": {},
   "outputs": [],
   "source": []
  },
  {
   "cell_type": "code",
   "execution_count": null,
   "metadata": {},
   "outputs": [],
   "source": [
    "# Thinking outside the box\n",
    "numbers = '1 7 2 0 -11 14 -3 -7'\n",
    "[x(numbers.split(), key=int) for x in (max, min)]"
   ]
  },
  {
   "cell_type": "markdown",
   "metadata": {},
   "source": [
    "## Exercise\n",
    "1. Explain the comprehension above?\n",
    "2. What rule does it break?"
   ]
  },
  {
   "cell_type": "code",
   "execution_count": null,
   "metadata": {},
   "outputs": [],
   "source": []
  },
  {
   "cell_type": "code",
   "execution_count": null,
   "metadata": {},
   "outputs": [],
   "source": []
  },
  {
   "cell_type": "code",
   "execution_count": null,
   "metadata": {},
   "outputs": [],
   "source": []
  },
  {
   "cell_type": "markdown",
   "metadata": {},
   "source": [
    "# While Loops\n",
    "* While loops are used when you don't know ahead of time how many times you'll have to loop"
   ]
  },
  {
   "cell_type": "code",
   "execution_count": null,
   "metadata": {},
   "outputs": [],
   "source": []
  },
  {
   "cell_type": "code",
   "execution_count": null,
   "metadata": {},
   "outputs": [],
   "source": [
    "import random\n",
    "\n",
    "random_num = random.randrange(0,100)\n",
    "while (random_num != 15):\n",
    "    print(random_num)\n",
    "    random_num = random.randrange(0,100)"
   ]
  },
  {
   "cell_type": "code",
   "execution_count": null,
   "metadata": {},
   "outputs": [],
   "source": []
  },
  {
   "cell_type": "code",
   "execution_count": null,
   "metadata": {},
   "outputs": [],
   "source": [
    "# An iterator for a while loop is defined before the loop\n",
    "i = 0;\n",
    "while (i <= 20):\n",
    "    if(i%2 == 0):\n",
    "        print(i)\n",
    "    elif(i == 9):\n",
    "        break  # Forces the loop to end all together\n",
    "    else:\n",
    "        i += 1  # Shorthand for i = i + 1\n",
    "        continue  # Skips to the next iteration of the loop\n",
    " \n",
    "    i += 1"
   ]
  },
  {
   "cell_type": "code",
   "execution_count": null,
   "metadata": {},
   "outputs": [],
   "source": []
  },
  {
   "cell_type": "markdown",
   "metadata": {},
   "source": [
    "# Functions\n",
    "* Functions allow you to reuse and write readable code\n",
    "* Type def (define), function name and parameters it receives\n",
    "* return is used to return something to the caller of the function"
   ]
  },
  {
   "cell_type": "code",
   "execution_count": null,
   "metadata": {},
   "outputs": [],
   "source": [
    "def addNumbers(fNum, sNum):\n",
    "    sumNum = fNum + sNum\n",
    "    return sumNum"
   ]
  },
  {
   "cell_type": "code",
   "execution_count": null,
   "metadata": {},
   "outputs": [],
   "source": [
    "print(addNumbers)"
   ]
  },
  {
   "cell_type": "code",
   "execution_count": null,
   "metadata": {},
   "outputs": [],
   "source": [
    "print(addNumbers(1, 4))"
   ]
  },
  {
   "cell_type": "code",
   "execution_count": null,
   "metadata": {},
   "outputs": [],
   "source": [
    "print(fNum)\n",
    "# Can't get the value of fNum because it was created in a function\n",
    "# It is said to be out of scope"
   ]
  },
  {
   "cell_type": "code",
   "execution_count": null,
   "metadata": {},
   "outputs": [],
   "source": []
  },
  {
   "cell_type": "code",
   "execution_count": null,
   "metadata": {},
   "outputs": [],
   "source": [
    "# If you define a variable outside of the function it is a global\n",
    "aNum = 5;\n",
    "def subNumbers(fNum, sNum):\n",
    "    newNum = fNum - sNum + aNum\n",
    "    return newNum"
   ]
  },
  {
   "cell_type": "code",
   "execution_count": null,
   "metadata": {},
   "outputs": [],
   "source": [
    "print(subNumbers(1, 4), aNum)"
   ]
  },
  {
   "cell_type": "code",
   "execution_count": null,
   "metadata": {},
   "outputs": [],
   "source": []
  },
  {
   "cell_type": "code",
   "execution_count": null,
   "metadata": {},
   "outputs": [],
   "source": [
    "# Using default arguments\n",
    "def addNumbers(fNum, sNum=10):\n",
    "    sumNum = fNum + sNum\n",
    "    return sumNum\n",
    "\n",
    "print(addNumbers(7,1))\n",
    "print(addNumbers(5))"
   ]
  },
  {
   "cell_type": "code",
   "execution_count": null,
   "metadata": {},
   "outputs": [],
   "source": []
  },
  {
   "cell_type": "markdown",
   "metadata": {},
   "source": [
    "**Usage of default arguments is very common in the standard library**<br>\n",
    "For example:<br>\n",
    "```python\n",
    "open(file, mode='r', buffering=-1, encoding=None, errors=None, newline=None, closefd=True, opener=None)\n",
    "```"
   ]
  },
  {
   "cell_type": "code",
   "execution_count": null,
   "metadata": {},
   "outputs": [],
   "source": []
  },
  {
   "cell_type": "code",
   "execution_count": null,
   "metadata": {},
   "outputs": [],
   "source": [
    "# GOTCHA - mutable default arguments...\n",
    "def append_to(element, to=[]):\n",
    "    to.append(element)\n",
    "    return to"
   ]
  },
  {
   "cell_type": "code",
   "execution_count": null,
   "metadata": {},
   "outputs": [],
   "source": [
    "my_list = append_to(12)\n",
    "print(my_list)\n",
    "\n",
    "my_other_list = append_to(42)\n",
    "print(my_other_list)\n",
    "# You might expect the following output...\n",
    "# [12]\n",
    "# [42]\n",
    "# but..."
   ]
  },
  {
   "cell_type": "code",
   "execution_count": null,
   "metadata": {},
   "outputs": [],
   "source": []
  },
  {
   "cell_type": "code",
   "execution_count": null,
   "metadata": {},
   "outputs": [],
   "source": [
    "# Fixed version\n",
    "def append_to(element, to=None):\n",
    "    if to is None:\n",
    "        to = []\n",
    "    to.append(element)\n",
    "    return to"
   ]
  },
  {
   "cell_type": "code",
   "execution_count": null,
   "metadata": {},
   "outputs": [],
   "source": [
    "my_list = append_to(12)\n",
    "print(my_list)\n",
    "\n",
    "my_other_list = append_to(42)\n",
    "print(my_other_list)"
   ]
  },
  {
   "cell_type": "code",
   "execution_count": null,
   "metadata": {},
   "outputs": [],
   "source": []
  },
  {
   "cell_type": "code",
   "execution_count": null,
   "metadata": {},
   "outputs": [],
   "source": [
    "def ends(l):\n",
    "    return l[0], l[-1]"
   ]
  },
  {
   "cell_type": "code",
   "execution_count": null,
   "metadata": {},
   "outputs": [],
   "source": [
    "# Tuple unpacking\n",
    "left, right = ends([3, 5, 8, 3, 9])\n",
    "print(left)\n",
    "print(right)"
   ]
  },
  {
   "cell_type": "code",
   "execution_count": null,
   "metadata": {},
   "outputs": [],
   "source": [
    "# An easier way with the (*) unpacking operator:\n",
    "left, *middle, right = (3, 5, 8, 3, 9)\n",
    "print(left, middle, right)"
   ]
  },
  {
   "cell_type": "code",
   "execution_count": null,
   "metadata": {},
   "outputs": [],
   "source": [
    "myrange = (3, 6)\n",
    "for i in range(*myrange): print(i)"
   ]
  },
  {
   "cell_type": "code",
   "execution_count": null,
   "metadata": {},
   "outputs": [],
   "source": []
  },
  {
   "cell_type": "markdown",
   "metadata": {},
   "source": [
    "**Generator functions**"
   ]
  },
  {
   "cell_type": "code",
   "execution_count": null,
   "metadata": {},
   "outputs": [],
   "source": []
  },
  {
   "cell_type": "code",
   "execution_count": null,
   "metadata": {},
   "outputs": [],
   "source": [
    "def yieldtest():\n",
    "    s = 'This is the first string'\n",
    "    yield s\n",
    "    s = 'This is the second string'\n",
    "    yield s"
   ]
  },
  {
   "cell_type": "code",
   "execution_count": null,
   "metadata": {},
   "outputs": [],
   "source": [
    "genobj = yieldtest()\n",
    "print(next(genobj))"
   ]
  },
  {
   "cell_type": "code",
   "execution_count": null,
   "metadata": {},
   "outputs": [],
   "source": [
    "print(next(genobj))"
   ]
  },
  {
   "cell_type": "code",
   "execution_count": null,
   "metadata": {},
   "outputs": [],
   "source": [
    "print(next(genobj))"
   ]
  },
  {
   "cell_type": "markdown",
   "metadata": {},
   "source": [
    "**Once generators are exhausted they raise a `stopIteration` exception**"
   ]
  },
  {
   "cell_type": "code",
   "execution_count": null,
   "metadata": {},
   "outputs": [],
   "source": []
  },
  {
   "cell_type": "code",
   "execution_count": null,
   "metadata": {},
   "outputs": [],
   "source": [
    "# Create your own generator\n",
    "def counter(n):\n",
    "    i = 0\n",
    "    while i < n:\n",
    "        yield(i)\n",
    "        i += 1"
   ]
  },
  {
   "cell_type": "code",
   "execution_count": null,
   "metadata": {},
   "outputs": [],
   "source": [
    "for x in counter(3):\n",
    "    print(x)"
   ]
  },
  {
   "cell_type": "markdown",
   "metadata": {},
   "source": [
    "**Try stepping through the above in Thonny**"
   ]
  },
  {
   "cell_type": "code",
   "execution_count": null,
   "metadata": {},
   "outputs": [],
   "source": []
  },
  {
   "cell_type": "markdown",
   "metadata": {},
   "source": [
    "**Example reading a large file:**\n",
    "```python\n",
    "csv_gen = csv_reader(\"some_csv.txt\")\n",
    "row_count = 0\n",
    "for row in csv_gen:\n",
    "    row_count += 1\n",
    "print(f\"Row count is {row_count}\")\n",
    "```\n",
    "Looking at this example, you might expect csv_gen to be a list. To populate this list, csv_reader() opens a file and loads its contents into csv_gen. Then, the program iterates over the list and increments row_count for each row.\n",
    "\n",
    "This is a reasonable explanation, but would this design still work if the file is very large? What if the file is larger than the memory you have available? To answer this question, let’s assume that `csv_reader()` just opens the file and reads it into an array:\n",
    "\n",
    "```python\n",
    "def csv_reader(file_name):\n",
    "    file = open(file_name)\n",
    "    result = file.read().split(\"\\n\")\n",
    "    return result\n",
    "```\n",
    "This function opens a given file and uses `file.read()` along with `.split()` to add each line as a separate element to a list. If you were to use this version of csv_reader() in the row counting code block you saw further up, then you’d get the following output:\n",
    "\n",
    "```\n",
    "Traceback (most recent call last):\n",
    "  File \"ex1_naive.py\", line 22, in <module>\n",
    "    main()\n",
    "  File \"ex1_naive.py\", line 13, in main\n",
    "    csv_gen = csv_reader(\"file.txt\")\n",
    "  File \"ex1_naive.py\", line 6, in csv_reader\n",
    "    result = file.read().split(\"\\n\")\n",
    "MemoryError\n",
    "```\n",
    "In this case, open() returns a generator object that you can lazily iterate through line by line. However, ```file.read().split()``` loads everything into memory at once, causing the `MemoryError`.\n",
    "\n",
    "Before that happens, you’ll probably notice your computer slow to a crawl. You might even need to kill the program with a KeyboardInterrupt. So, how can you handle these huge data files? Take a look at a new definition of `csv_reader()`:\n",
    "```python\n",
    "def csv_reader(file_name):\n",
    "    for row in open(file_name, \"r\"):\n",
    "        yield row\n",
    "```\n",
    "In this version, you open the file, iterate through it, and yield a row. This code should produce the following output, with no memory errors:\n",
    "```\n",
    "Row count is 64186394\n",
    "```\n",
    "\n"
   ]
  },
  {
   "cell_type": "code",
   "execution_count": null,
   "metadata": {},
   "outputs": [],
   "source": []
  },
  {
   "cell_type": "markdown",
   "metadata": {},
   "source": [
    "## Exercise:\n",
    "1. Without using `range` write a function that takes a parameter 'n' and returns a list of odd numbers from 0 up to 'n'.\n",
    "2. Change the function to allow iteration when 'n' is a large number, but in a memory efficient way (do not test with very high numbers as it might hang your system).\n",
    "3. Write another function which takes output of the first function to filter and print only primes.\n",
    "\n",
    "*Prime number = A number that is divisible only by itself and 1*"
   ]
  },
  {
   "cell_type": "code",
   "execution_count": null,
   "metadata": {},
   "outputs": [],
   "source": []
  },
  {
   "cell_type": "code",
   "execution_count": null,
   "metadata": {},
   "outputs": [],
   "source": []
  },
  {
   "cell_type": "code",
   "execution_count": null,
   "metadata": {},
   "outputs": [],
   "source": []
  },
  {
   "cell_type": "markdown",
   "metadata": {},
   "source": [
    "**Advanced generators**"
   ]
  },
  {
   "cell_type": "code",
   "execution_count": null,
   "metadata": {},
   "outputs": [],
   "source": [
    "# function checks to see if number is same reversed (code does not matter for this demonstration)\n",
    "def is_palindrome(num):\n",
    "    # Skip single-digit inputs\n",
    "    if num // 10 == 0:\n",
    "        return False\n",
    "    temp = num\n",
    "    reversed_num = 0\n",
    "\n",
    "    while temp != 0:\n",
    "        reversed_num = (reversed_num * 10) + (temp % 10)\n",
    "        temp = temp // 10\n",
    "\n",
    "    if num == reversed_num:\n",
    "        return True\n",
    "    else:\n",
    "        return False\n",
    "    \n",
    "\n",
    "# Generates a never ending supply of palindromes\n",
    "def infinite_palindromes():\n",
    "    num = 0\n",
    "    while True:\n",
    "        if is_palindrome(num):\n",
    "            i = (yield num)  # yield is an expresion not a statement\n",
    "            if i is not None:\n",
    "                num = i\n",
    "        num += 1"
   ]
  },
  {
   "cell_type": "code",
   "execution_count": null,
   "metadata": {},
   "outputs": [],
   "source": [
    "pal_gen = infinite_palindromes()\n",
    "for i in pal_gen:\n",
    "    print(i)\n",
    "    digits = len(str(i))\n",
    "    if digits > 5:\n",
    "        pal_gen.close(ValueError(\"We don't like large palindromes\")) # try changing throw(*) to close()\n",
    "    pal_gen.send(10 ** digits) # sends data back to the coroutine"
   ]
  },
  {
   "cell_type": "code",
   "execution_count": null,
   "metadata": {},
   "outputs": [],
   "source": []
  },
  {
   "cell_type": "code",
   "execution_count": null,
   "metadata": {},
   "outputs": [],
   "source": []
  },
  {
   "cell_type": "markdown",
   "metadata": {},
   "source": [
    "**args & kwargs**"
   ]
  },
  {
   "cell_type": "code",
   "execution_count": null,
   "metadata": {},
   "outputs": [],
   "source": [
    "# Normal function limited to two arguments:\n",
    "def mysum(a, b):\n",
    "    return a+b\n",
    "\n",
    "mysum(3, 1)"
   ]
  },
  {
   "cell_type": "code",
   "execution_count": null,
   "metadata": {},
   "outputs": [],
   "source": []
  },
  {
   "cell_type": "code",
   "execution_count": null,
   "metadata": {},
   "outputs": [],
   "source": [
    "# Improved to use a iterator so you can sum multiple values\n",
    "def mysum(iterator):\n",
    "    total = 0\n",
    "    for i in iterator:\n",
    "        total = total + i\n",
    "    return total\n",
    "\n",
    "x = [1, 2, 3]\n",
    "mysum(x)"
   ]
  },
  {
   "cell_type": "code",
   "execution_count": null,
   "metadata": {},
   "outputs": [],
   "source": []
  },
  {
   "cell_type": "code",
   "execution_count": null,
   "metadata": {},
   "outputs": [],
   "source": [
    "# Better to use the tuple unpacking operator:\n",
    "def mysum(*args): # could be any name but *args is standard form\n",
    "    total = 0\n",
    "    for i in args:\n",
    "        total += i\n",
    "    return total\n",
    "\n",
    "mysum(1,2,3,4)"
   ]
  },
  {
   "cell_type": "code",
   "execution_count": null,
   "metadata": {},
   "outputs": [],
   "source": []
  },
  {
   "cell_type": "code",
   "execution_count": null,
   "metadata": {},
   "outputs": [],
   "source": [
    "# **kwargs works simialr to *args but provides named arguments:\n",
    "def concatenate(**kwargs): # Again **kwargs is standard convention\n",
    "    result = ''\n",
    "    for arg in kwargs.values():  # kwargs is a dictionary\n",
    "        result += arg\n",
    "    return result\n",
    "\n",
    "concatenate(a='Leap', b='Before', c='You', d='Look')    "
   ]
  },
  {
   "cell_type": "code",
   "execution_count": null,
   "metadata": {},
   "outputs": [],
   "source": []
  },
  {
   "cell_type": "markdown",
   "metadata": {},
   "source": [
    "**Usage of \\*args & \\*\\*kwargs is very common for 3rd party libraries**<br>\n",
    "For example:<br>\n",
    "```python\n",
    "DataFrame.plot(self, *args, **kwargs)\n",
    "```"
   ]
  },
  {
   "cell_type": "code",
   "execution_count": null,
   "metadata": {},
   "outputs": [],
   "source": []
  },
  {
   "cell_type": "markdown",
   "metadata": {},
   "source": [
    "### Lambda\n",
    "* AKA Anonymous functions\n",
    "```python\n",
    "lambda parameters: expression\n",
    "```\n",
    "Behaves like;\n",
    "```python\n",
    "def <lambda>(parameters):\n",
    "    return expression\n",
    "```"
   ]
  },
  {
   "cell_type": "code",
   "execution_count": null,
   "metadata": {},
   "outputs": [],
   "source": [
    "add = lambda x, y: x + y\n",
    "print(add(3, 5))"
   ]
  },
  {
   "cell_type": "code",
   "execution_count": null,
   "metadata": {},
   "outputs": [],
   "source": []
  },
  {
   "cell_type": "code",
   "execution_count": null,
   "metadata": {},
   "outputs": [],
   "source": [
    "l = [ (3,2), (3,1), (1,4), (2,0) ]\n",
    "l.sort()\n",
    "l"
   ]
  },
  {
   "cell_type": "code",
   "execution_count": null,
   "metadata": {},
   "outputs": [],
   "source": [
    "# Assign an anonymous function to return the second item in each tuple\n",
    "l = [ (3,2), (3,1), (1,4), (2,0) ]\n",
    "mysort = lambda x: x[1]\n",
    "l.sort(key=mysort)\n",
    "l"
   ]
  },
  {
   "cell_type": "code",
   "execution_count": null,
   "metadata": {},
   "outputs": [],
   "source": []
  },
  {
   "cell_type": "code",
   "execution_count": null,
   "metadata": {},
   "outputs": [],
   "source": [
    "# Usually just pass the anomynous function directly to sort\n",
    "l = [ (3,2), (3,1), (1,4), (2,0) ]\n",
    "l.sort(key=lambda x: x[1])\n",
    "l"
   ]
  },
  {
   "cell_type": "code",
   "execution_count": null,
   "metadata": {},
   "outputs": [],
   "source": []
  },
  {
   "cell_type": "code",
   "execution_count": null,
   "metadata": {},
   "outputs": [],
   "source": [
    "# This used to work in Python2 but tuple parameter unpacking in function parameters was removed in ver 3\n",
    "# Use the form above where tuples are passed as one parameter\n",
    "# https://www.python.org/dev/peps/pep-3113/\n",
    "l = [ (3,2), (3,1), (1,4), (2,0) ]\n",
    "l.sort(key=lambda x,y : y)\n",
    "l"
   ]
  },
  {
   "cell_type": "code",
   "execution_count": null,
   "metadata": {},
   "outputs": [],
   "source": []
  },
  {
   "cell_type": "code",
   "execution_count": null,
   "metadata": {},
   "outputs": [],
   "source": []
  },
  {
   "cell_type": "markdown",
   "metadata": {},
   "source": [
    "## Exercise:\n",
    "1. Write a function which adds multiple numbers and optional argument to multiply the sum.\n",
    "2. Add a fourth keyword argument to supply a flag to toggle print out or just return the calcuated value.\n",
    "3. There's more than one way to capture the arguments, can you provide an alternative to your first solution?"
   ]
  },
  {
   "cell_type": "code",
   "execution_count": null,
   "metadata": {},
   "outputs": [],
   "source": []
  },
  {
   "cell_type": "code",
   "execution_count": null,
   "metadata": {},
   "outputs": [],
   "source": []
  },
  {
   "cell_type": "code",
   "execution_count": null,
   "metadata": {},
   "outputs": [],
   "source": []
  },
  {
   "cell_type": "code",
   "execution_count": null,
   "metadata": {},
   "outputs": [],
   "source": []
  },
  {
   "cell_type": "code",
   "execution_count": null,
   "metadata": {},
   "outputs": [],
   "source": []
  },
  {
   "cell_type": "code",
   "execution_count": null,
   "metadata": {},
   "outputs": [],
   "source": []
  },
  {
   "cell_type": "markdown",
   "metadata": {},
   "source": [
    "# File I/O"
   ]
  },
  {
   "cell_type": "markdown",
   "metadata": {},
   "source": [
    "<br>Modes are:\n",
    "- 'r'\topen for reading (default)\n",
    "- 'w'\topen for writing, truncating the file first\n",
    "- 'x'\topen for exclusive creation, failing if the file already exists\n",
    "- 'a'\topen for writing, appending to the end of the file if it exists\n",
    "- 'b'\tbinary mode\n",
    "- 't'\ttext mode (default)\n",
    "- '+'\topen a disk file for updating (reading and writing)\n",
    "- 'U'\tuniversal newlines mode (deprecated)\n",
    "\n",
    "Difference between binary/text:\n",
    "- Files opened in binary mode return contents as bytes objects without unicode decoding. \n",
    "- In text mode the contents of the file are returned as str, After the bytes are decoded using a platform-dependent or specified encoding."
   ]
  },
  {
   "cell_type": "code",
   "execution_count": null,
   "metadata": {},
   "outputs": [],
   "source": [
    "myfn = 'mytest.txt'\n",
    "fd = open(myfn, 'wb')"
   ]
  },
  {
   "cell_type": "code",
   "execution_count": null,
   "metadata": {},
   "outputs": [],
   "source": []
  },
  {
   "cell_type": "code",
   "execution_count": null,
   "metadata": {},
   "outputs": [],
   "source": [
    "# Get the file mode used\n",
    "print(fd.mode)"
   ]
  },
  {
   "cell_type": "code",
   "execution_count": null,
   "metadata": {},
   "outputs": [],
   "source": []
  },
  {
   "cell_type": "code",
   "execution_count": null,
   "metadata": {},
   "outputs": [],
   "source": [
    "# Get the files name\n",
    "print(fd.name)"
   ]
  },
  {
   "cell_type": "code",
   "execution_count": null,
   "metadata": {},
   "outputs": [],
   "source": []
  },
  {
   "cell_type": "code",
   "execution_count": null,
   "metadata": {},
   "outputs": [],
   "source": [
    "# Write text to a file with a newline\n",
    "fd.write(bytes(\"Write me to the file\\n\", 'UTF-8'))"
   ]
  },
  {
   "cell_type": "code",
   "execution_count": null,
   "metadata": {},
   "outputs": [],
   "source": []
  },
  {
   "cell_type": "code",
   "execution_count": null,
   "metadata": {},
   "outputs": [],
   "source": [
    "# Close the file\n",
    "fd.close()"
   ]
  },
  {
   "cell_type": "code",
   "execution_count": null,
   "metadata": {},
   "outputs": [],
   "source": []
  },
  {
   "cell_type": "code",
   "execution_count": null,
   "metadata": {},
   "outputs": [],
   "source": [
    "# Opens a file for reading and writing\n",
    "fd = open(myfn, \"rb+\")\n",
    "# Read text from the file\n",
    "text = fd.read()\n",
    "print(type(text))\n",
    "print(text)"
   ]
  },
  {
   "cell_type": "code",
   "execution_count": null,
   "metadata": {},
   "outputs": [],
   "source": [
    "# Implicitly closed before re-opening:\n",
    "fd = open(myfn, \"r+\")\n",
    "# Read text from the file\n",
    "text = fd.read()\n",
    "print(type(text))\n",
    "print(text)"
   ]
  },
  {
   "cell_type": "code",
   "execution_count": null,
   "metadata": {},
   "outputs": [],
   "source": [
    "# Close the file\n",
    "fd.close()"
   ]
  },
  {
   "cell_type": "code",
   "execution_count": null,
   "metadata": {},
   "outputs": [],
   "source": []
  },
  {
   "cell_type": "code",
   "execution_count": null,
   "metadata": {},
   "outputs": [],
   "source": [
    "# using the with statement context manager:\n",
    "with open(myfn, \"r+\") as fd:\n",
    "    # Read text from the file\n",
    "    text = fd.read()\n",
    "    print(type(text))\n",
    "    print(text)\n",
    "# file is automatically closed\n",
    "fn.seek(0)"
   ]
  },
  {
   "cell_type": "code",
   "execution_count": null,
   "metadata": {},
   "outputs": [],
   "source": []
  },
  {
   "cell_type": "code",
   "execution_count": null,
   "metadata": {},
   "outputs": [],
   "source": [
    "import os\n",
    "# Delete the file\n",
    "os.remove(myfn)"
   ]
  },
  {
   "cell_type": "code",
   "execution_count": null,
   "metadata": {},
   "outputs": [],
   "source": []
  },
  {
   "cell_type": "code",
   "execution_count": null,
   "metadata": {},
   "outputs": [],
   "source": [
    "# Looking to see if the demo files are available with a Jupyter special execute prefix (!):\n",
    "!dir SSHOW_SYS.txt AllConf.csv"
   ]
  },
  {
   "cell_type": "code",
   "execution_count": null,
   "metadata": {},
   "outputs": [],
   "source": [
    "filename = 'SSHOW_SYS.txt'\n",
    "filename = 'AllConf.csv'\n",
    "if os.path.exists(filename): print('Yes') "
   ]
  },
  {
   "cell_type": "code",
   "execution_count": null,
   "metadata": {},
   "outputs": [],
   "source": [
    "if os.path.exists(filename):\n",
    "    with open(filename) as fd:\n",
    "        for i, line in enumerate(fd):\n",
    "            line=line.strip()\n",
    "            print(f'[{i}] {line}')\n",
    "            if i > 10: break            "
   ]
  },
  {
   "cell_type": "code",
   "execution_count": null,
   "metadata": {},
   "outputs": [],
   "source": []
  },
  {
   "cell_type": "markdown",
   "metadata": {},
   "source": [
    "## Exercise\n",
    "- Write some code to process either the `SSHOW_SYS.txt` or `Allconf.csv` and print out your favorite section.\n",
    "    - `SSHOW_SYS.txt` example: text between `???/switchshow` to blank line.  \n",
    "    - `Allconf.csv` example: text between `<<System Option Information>>` to next `<<?>>` section."
   ]
  },
  {
   "cell_type": "code",
   "execution_count": null,
   "metadata": {},
   "outputs": [],
   "source": []
  },
  {
   "cell_type": "code",
   "execution_count": null,
   "metadata": {},
   "outputs": [],
   "source": []
  },
  {
   "cell_type": "markdown",
   "metadata": {},
   "source": [
    "## Generators are great for processing files & pipelines\n",
    "\n",
    "Imagine a large dataset:\n",
    "\n",
    "> permalink,company,numEmps,category,city,state,fundedDate,raisedAmt,raisedCurrency,round<br>\n",
    "> digg,Digg,60,web,San Francisco,CA,1-Dec-06,8500000,USD,b<br>\n",
    "> digg,Digg,60,web,San Francisco,CA,1-Oct-05,2800000,USD,a<br>\n",
    "> facebook,Facebook,450,web,Palo Alto,CA,1-Sep-04,500000,USD,angel<br>\n",
    "> facebook,Facebook,450,web,Palo Alto,CA,1-May-05,12700000,USD,a<br>\n",
    "> photobucket,Photobucket,60,web,Palo Alto,CA,1-Mar-05,3000000,USD,a<br>\n",
    "> ...\n",
    "\n",
    "Strategy:\n",
    "\n",
    "1. Read every line of the file.\n",
    "2. Split each line into a list of values.\n",
    "3. Extract the column names.\n",
    "4. Use the column names and lists to create a dictionary.\n",
    "5. Filter out the rounds you aren’t interested in.\n",
    "6. Calculate the total and average values for the rounds you are interested in."
   ]
  },
  {
   "cell_type": "code",
   "execution_count": null,
   "metadata": {},
   "outputs": [],
   "source": [
    "# Is the sample available:\n",
    "!dir techcrunch.csv"
   ]
  },
  {
   "cell_type": "code",
   "execution_count": null,
   "metadata": {},
   "outputs": [],
   "source": [
    "# Read in the file:\n",
    "file_name = \"techcrunch.csv\"\n",
    "lines = (line for line in open(file_name))"
   ]
  },
  {
   "cell_type": "code",
   "execution_count": null,
   "metadata": {},
   "outputs": [],
   "source": [
    "# Split each line ito values:\n",
    "list_line = (s.rstrip().split(\",\") for s in lines)"
   ]
  },
  {
   "cell_type": "code",
   "execution_count": null,
   "metadata": {},
   "outputs": [],
   "source": [
    "# Get just the header row:\n",
    "cols = next(list_line)"
   ]
  },
  {
   "cell_type": "code",
   "execution_count": null,
   "metadata": {},
   "outputs": [],
   "source": [
    "# Convert data into a dictionary:\n",
    "company_dicts = (dict(zip(cols, data)) for data in list_line)"
   ]
  },
  {
   "cell_type": "code",
   "execution_count": null,
   "metadata": {},
   "outputs": [],
   "source": [
    "# Filter the rounds you are not interested in:\n",
    "funding = (\n",
    "    int(company_dict[\"raisedAmt\"])\n",
    "    for company_dict in company_dicts\n",
    "    if company_dict[\"round\"].upper() == \"A\"\n",
    ")"
   ]
  },
  {
   "cell_type": "code",
   "execution_count": null,
   "metadata": {},
   "outputs": [],
   "source": []
  },
  {
   "cell_type": "code",
   "execution_count": null,
   "metadata": {},
   "outputs": [],
   "source": [
    "# Calculate the total:\n",
    "total_series_a = sum(funding)\n",
    "print(f\"Total series A fundraising: ${total_series_a}\")"
   ]
  },
  {
   "cell_type": "code",
   "execution_count": null,
   "metadata": {},
   "outputs": [],
   "source": []
  },
  {
   "cell_type": "markdown",
   "metadata": {},
   "source": [
    "## Exercise\n",
    " 1. When does the code to read the data lines from the file get executed above?\n",
    " 2. Modify above to calcuate the average of the filtered rounds."
   ]
  },
  {
   "cell_type": "code",
   "execution_count": null,
   "metadata": {},
   "outputs": [],
   "source": []
  },
  {
   "cell_type": "code",
   "execution_count": null,
   "metadata": {},
   "outputs": [],
   "source": []
  },
  {
   "cell_type": "code",
   "execution_count": null,
   "metadata": {},
   "outputs": [],
   "source": []
  },
  {
   "cell_type": "code",
   "execution_count": null,
   "metadata": {},
   "outputs": [],
   "source": []
  },
  {
   "cell_type": "markdown",
   "metadata": {},
   "source": [
    "# CLASSES AND OBJECTS\n",
    "* The concept of OOP allows us to model real world things using code\n",
    "* Every object has attributes (e.g. color, height, weight) which are object variables\n",
    "* Every object has abilities (walk, talk, eat) which are object functions (or methods)"
   ]
  },
  {
   "cell_type": "code",
   "execution_count": null,
   "metadata": {},
   "outputs": [],
   "source": [
    "class Animal:\n",
    "    # None signifies the lack of a value (like null)\n",
    "    # You can make a variable private by starting it with __\n",
    "    # This is a class attribute: \n",
    "    __count = 0\n",
    "\n",
    " \n",
    "    # The constructor is called to set up or initialize an object\n",
    "    # self allows an object to refer to itself inside of the class\n",
    "    def __init__(self, name, height, weight, sound):\n",
    "        self.name = name\n",
    "        self.__height = height\n",
    "        self.__weight = weight\n",
    "        self.__sound = sound\n",
    "        Animal.__count += 1\n",
    "        \n",
    "    def count():\n",
    "        return Animal.__count\n",
    " \n",
    "    def set_name(self, name):\n",
    "        self.__name = name\n",
    " \n",
    "    def set_height(self, height):\n",
    "        self.__height = height\n",
    " \n",
    "    def set_weight(self, height):\n",
    "        self.__height = height\n",
    " \n",
    "    def set_sound(self, sound):\n",
    "        self.__sound = sound\n",
    " \n",
    "    def get_name(self):\n",
    "        return self.__name\n",
    " \n",
    "    def get_height(self):\n",
    "        return str(self.__height)\n",
    " \n",
    "    def get_weight(self):\n",
    "        return str(self.__weight)\n",
    " \n",
    "    def get_sound(self):\n",
    "        return self.__sound\n",
    " \n",
    "    def get_type(self):\n",
    "        print(\"Animal\")\n",
    " \n",
    "    def toString(self):\n",
    "        return \"{} is {} cm tall and {} kilograms and says {}\".format(self.__name, self.__height, self.__weight, self.__sound)"
   ]
  },
  {
   "cell_type": "code",
   "execution_count": null,
   "metadata": {},
   "outputs": [],
   "source": [
    "print(Animal)"
   ]
  },
  {
   "cell_type": "code",
   "execution_count": null,
   "metadata": {},
   "outputs": [],
   "source": [
    "Animal.__count"
   ]
  },
  {
   "cell_type": "code",
   "execution_count": null,
   "metadata": {},
   "outputs": [],
   "source": [
    "# How to create a Animal object\n",
    "cat = Animal('Whiskers', 33, 10, 'Meow')"
   ]
  },
  {
   "cell_type": "code",
   "execution_count": null,
   "metadata": {},
   "outputs": [],
   "source": []
  },
  {
   "cell_type": "code",
   "execution_count": null,
   "metadata": {},
   "outputs": [],
   "source": [
    "Animal.count()"
   ]
  },
  {
   "cell_type": "code",
   "execution_count": null,
   "metadata": {},
   "outputs": [],
   "source": [
    "cat.__name"
   ]
  },
  {
   "cell_type": "code",
   "execution_count": null,
   "metadata": {},
   "outputs": [],
   "source": []
  },
  {
   "cell_type": "code",
   "execution_count": null,
   "metadata": {},
   "outputs": [],
   "source": [
    "print(cat.toString())"
   ]
  },
  {
   "cell_type": "code",
   "execution_count": null,
   "metadata": {},
   "outputs": [],
   "source": []
  },
  {
   "cell_type": "code",
   "execution_count": null,
   "metadata": {},
   "outputs": [],
   "source": [
    "# You can't access this value directly because it is private\n",
    "print(cat.__name)"
   ]
  },
  {
   "cell_type": "code",
   "execution_count": null,
   "metadata": {},
   "outputs": [],
   "source": []
  },
  {
   "cell_type": "code",
   "execution_count": null,
   "metadata": {},
   "outputs": [],
   "source": [
    "# INHERITANCE -------------\n",
    "# You can inherit all of the variables and methods from another class\n",
    "\n",
    "class Dog(Animal):\n",
    "    __owner = None\n",
    " \n",
    "    def __init__(self, name, height, weight, sound, owner):\n",
    "        self.__owner = owner\n",
    "        self.__animal_type = None\n",
    " \n",
    "        # How to call the super class constructor\n",
    "        super(Dog, self).__init__(name, height, weight, sound)\n",
    " \n",
    "    def set_owner(self, owner):\n",
    "        self.__owner = owner\n",
    " \n",
    "    def get_owner(self):\n",
    "        return self.__owner\n",
    " \n",
    "    def get_type(self):\n",
    "        print (\"Dog\")\n",
    " \n",
    "    # We can overwrite functions in the super class\n",
    "    def toString(self):\n",
    "        return \"{} is {} cm tall and {} kilograms and says {}. His owner is {}\".format(self.get_name(), self.get_height(), self.get_weight(), self.get_sound(), self.__owner)\n",
    " \n",
    "    # You don't have to require attributes to be sent\n",
    "    # This allows for method overloading\n",
    "    def multiple_sounds(self, how_many=None):\n",
    "        if how_many is None:\n",
    "            print(self.get_sound)\n",
    "        else:\n",
    "            print(self.get_sound() * how_many)\n",
    " "
   ]
  },
  {
   "cell_type": "code",
   "execution_count": null,
   "metadata": {},
   "outputs": [],
   "source": []
  },
  {
   "cell_type": "code",
   "execution_count": null,
   "metadata": {},
   "outputs": [],
   "source": [
    "spot = Dog(\"Spot\", 53, 27, \"Ruff\", \"Derek\")\n",
    "print(spot.toString())"
   ]
  },
  {
   "cell_type": "code",
   "execution_count": null,
   "metadata": {},
   "outputs": [],
   "source": []
  },
  {
   "cell_type": "code",
   "execution_count": null,
   "metadata": {},
   "outputs": [],
   "source": [
    "# Polymorphism allows use to refer to objects as their super class\n",
    "# and the correct functions are called automatically\n",
    " \n",
    "class AnimalTesting:\n",
    "    def get_type(self, animal):\n",
    "        animal.get_type()"
   ]
  },
  {
   "cell_type": "code",
   "execution_count": null,
   "metadata": {},
   "outputs": [],
   "source": []
  },
  {
   "cell_type": "code",
   "execution_count": null,
   "metadata": {},
   "outputs": [],
   "source": [
    "test_animals = AnimalTesting()\n",
    " \n",
    "test_animals.get_type(cat)\n",
    "test_animals.get_type(spot)"
   ]
  },
  {
   "cell_type": "code",
   "execution_count": null,
   "metadata": {},
   "outputs": [],
   "source": []
  },
  {
   "cell_type": "code",
   "execution_count": null,
   "metadata": {},
   "outputs": [],
   "source": [
    "spot.multiple_sounds(4)"
   ]
  },
  {
   "cell_type": "code",
   "execution_count": null,
   "metadata": {},
   "outputs": [],
   "source": []
  },
  {
   "cell_type": "code",
   "execution_count": null,
   "metadata": {},
   "outputs": [],
   "source": []
  },
  {
   "cell_type": "markdown",
   "metadata": {},
   "source": [
    "## Namespaces"
   ]
  },
  {
   "cell_type": "code",
   "execution_count": null,
   "metadata": {},
   "outputs": [],
   "source": [
    "# Functions local scopes:\n",
    "def square(base):\n",
    "    result = base ** 2\n",
    "    print(f'The square of {base} is: {result}')\n",
    "\n",
    "# Same local variables in the new function \n",
    "def cube(base):\n",
    "    result = base ** 3\n",
    "    print(f'The cube of {base} is: {result}')"
   ]
  },
  {
   "cell_type": "code",
   "execution_count": 34,
   "metadata": {},
   "outputs": [
    {
     "ename": "NameError",
     "evalue": "name 'result' is not defined",
     "output_type": "error",
     "traceback": [
      "\u001b[1;31m---------------------------------------------------------------------------\u001b[0m",
      "\u001b[1;31mNameError\u001b[0m                                 Traceback (most recent call last)",
      "\u001b[1;32m<ipython-input-34-3cfd9bd030cb>\u001b[0m in \u001b[0;36m<module>\u001b[1;34m\u001b[0m\n\u001b[0;32m      1\u001b[0m \u001b[1;31m# you cannot access names within the functions above\u001b[0m\u001b[1;33m\u001b[0m\u001b[1;33m\u001b[0m\u001b[1;33m\u001b[0m\u001b[0m\n\u001b[1;32m----> 2\u001b[1;33m \u001b[0mresult\u001b[0m\u001b[1;33m\u001b[0m\u001b[1;33m\u001b[0m\u001b[0m\n\u001b[0m",
      "\u001b[1;31mNameError\u001b[0m: name 'result' is not defined"
     ]
    }
   ],
   "source": [
    "# you cannot access names within the functions above\n",
    "result"
   ]
  },
  {
   "cell_type": "code",
   "execution_count": 35,
   "metadata": {},
   "outputs": [
    {
     "ename": "NameError",
     "evalue": "name 'base' is not defined",
     "output_type": "error",
     "traceback": [
      "\u001b[1;31m---------------------------------------------------------------------------\u001b[0m",
      "\u001b[1;31mNameError\u001b[0m                                 Traceback (most recent call last)",
      "\u001b[1;32m<ipython-input-35-51c64a6f4fc3>\u001b[0m in \u001b[0;36m<module>\u001b[1;34m\u001b[0m\n\u001b[1;32m----> 1\u001b[1;33m \u001b[0mbase\u001b[0m\u001b[1;33m\u001b[0m\u001b[1;33m\u001b[0m\u001b[0m\n\u001b[0m",
      "\u001b[1;31mNameError\u001b[0m: name 'base' is not defined"
     ]
    }
   ],
   "source": [
    "base"
   ]
  },
  {
   "cell_type": "code",
   "execution_count": null,
   "metadata": {},
   "outputs": [],
   "source": [
    "# inspecting the __code__ attribute which holds information about the function\n",
    "print('varnames:', square.__code__.co_varnames)\n",
    "print('arg count:', square.__code__.co_argcount)\n",
    "print('constants:', square.__code__.co_consts)"
   ]
  },
  {
   "cell_type": "code",
   "execution_count": null,
   "metadata": {},
   "outputs": [],
   "source": []
  },
  {
   "cell_type": "code",
   "execution_count": null,
   "metadata": {},
   "outputs": [],
   "source": []
  },
  {
   "cell_type": "code",
   "execution_count": 8,
   "metadata": {},
   "outputs": [
    {
     "name": "stdout",
     "output_type": "stream",
     "text": [
      "Function Scope: 5\n",
      "Method Scope: 4\n",
      "Example Scope: 3\n",
      "Module Scope: 2\n"
     ]
    }
   ],
   "source": [
    "# Scopes within namespaces:\n",
    "x = \"2\"  # x is now defined within the module namespace\n",
    "def example():\n",
    "    x = \"3\" # x is now defined as 3 within the local namespace of example\n",
    "    def method():\n",
    "        # global x  # try running a second time with this uncommented\n",
    "        # nonlocal x   # also try with nonlocal instead of global\n",
    "        x = \"4\" # x is now defined as 4 within the local namespace of method\n",
    "        def function():\n",
    "            x = \"5\" # x is now defined as 5 within the local namespace of function\n",
    "            print(\"Function Scope: \" + x)\n",
    "        function()\n",
    "        print(\"Method Scope: \" + x)\n",
    "    method()\n",
    "    print(\"Example Scope: \" + x)\n",
    "example()\n",
    "print(\"Module Scope: \" + x)"
   ]
  },
  {
   "cell_type": "code",
   "execution_count": null,
   "metadata": {},
   "outputs": [],
   "source": []
  },
  {
   "cell_type": "code",
   "execution_count": 9,
   "metadata": {},
   "outputs": [
    {
     "ename": "SyntaxError",
     "evalue": "no binding for nonlocal 'x' found (<ipython-input-9-3dc9e3b80f42>, line 3)",
     "output_type": "error",
     "traceback": [
      "\u001b[1;36m  File \u001b[1;32m\"<ipython-input-9-3dc9e3b80f42>\"\u001b[1;36m, line \u001b[1;32m3\u001b[0m\n\u001b[1;33m    nonlocal x  # x will now be defined as being within the example scope\u001b[0m\n\u001b[1;37m    ^\u001b[0m\n\u001b[1;31mSyntaxError\u001b[0m\u001b[1;31m:\u001b[0m no binding for nonlocal 'x' found\n"
     ]
    }
   ],
   "source": [
    "x = \"2\"  # x is now defined within the module namespace\n",
    "def example():\n",
    "    nonlocal x  # x will now be defined as being within the example scope\n",
    "    x = \"3\" # x is now defined as 3 within the local namespace of example"
   ]
  },
  {
   "cell_type": "code",
   "execution_count": null,
   "metadata": {},
   "outputs": [],
   "source": []
  },
  {
   "cell_type": "markdown",
   "metadata": {},
   "source": [
    "**Note**: Global names can be updated or modified from any place in your global Python scope. Beyond that, the global statement can be used to modify global names from almost any place in your code, as you’ll see in The global Statement.\n",
    "\n",
    "Modifying global names is generally considered bad programming practice because it can lead to code that is:\n",
    "\n",
    "- **Difficult to debug**: Almost any statement in the program can change the value of a global name.\n",
    "- **Hard to understand**: You need to be aware of all the statements that access and modify global names.\n",
    "- **Impossible to reuse**: The code is dependent on global names that are specific to a concrete program.\n",
    "\n",
    "Good programming practice recommends using local names rather than global names. Here are some tips:\n",
    "\n",
    "- **Write** self-contained functions that rely on local names rather than global ones.\n",
    "- **Try** to use unique objects names, no matter what scope you’re in.\n",
    "- **Avoid** global name modifications throughout your programs.\n",
    "- **Avoid** cross-module name modifications.\n",
    "- **Use** global names as constants that don’t change during your program’s execution."
   ]
  },
  {
   "cell_type": "code",
   "execution_count": null,
   "metadata": {},
   "outputs": [],
   "source": []
  },
  {
   "cell_type": "code",
   "execution_count": null,
   "metadata": {},
   "outputs": [],
   "source": []
  },
  {
   "cell_type": "markdown",
   "metadata": {},
   "source": [
    "Python scopes are implemented as dictionaries that map names to objects. These dictionaries are commonly called namespaces. These are the concrete mechanisms that Python uses to store names. They’re stored in a special attribute called `.__dict__.`"
   ]
  },
  {
   "cell_type": "code",
   "execution_count": 16,
   "metadata": {},
   "outputs": [
    {
     "data": {
      "text/plain": [
       "dict_keys(['__name__', '__doc__', '__package__', '__loader__', '__spec__', 'breakpointhook', 'callstats', '_clear_type_cache', '_current_frames', 'displayhook', 'exc_info', 'excepthook', 'exit', 'getdefaultencoding', 'getallocatedblocks', 'getfilesystemencoding', 'getfilesystemencodeerrors', 'getrefcount', 'getrecursionlimit', 'getsizeof', '_getframe', 'getwindowsversion', '_enablelegacywindowsfsencoding', 'intern', 'is_finalizing', 'setcheckinterval', 'getcheckinterval', 'setswitchinterval', 'getswitchinterval', 'setprofile', 'getprofile', 'setrecursionlimit', 'settrace', 'gettrace', 'call_tracing', '_debugmallocstats', 'set_coroutine_origin_tracking_depth', 'get_coroutine_origin_tracking_depth', 'set_coroutine_wrapper', 'get_coroutine_wrapper', 'set_asyncgen_hooks', 'get_asyncgen_hooks', '__displayhook__', '__excepthook__', '__breakpointhook__', 'version', 'hexversion', '_git', '_framework', 'api_version', 'copyright', 'platform', 'maxsize', 'float_info', 'int_info', 'hash_info', 'maxunicode', 'builtin_module_names', 'byteorder', 'dllhandle', 'winver', 'version_info', 'implementation', 'flags', 'float_repr_style', 'thread_info', 'modules', 'stderr', '__stderr__', 'meta_path', 'path_importer_cache', 'path_hooks', 'path', 'executable', 'prefix', 'base_prefix', 'exec_prefix', 'base_exec_prefix', '_base_executable', 'argv', 'warnoptions', '_xoptions', 'dont_write_bytecode', '__stdin__', 'stdin', '__stdout__', 'stdout', '_home', '__interactivehook__', 'ps1', 'ps2', 'ps3', 'last_type', 'last_value', 'last_traceback'])"
      ]
     },
     "execution_count": 16,
     "metadata": {},
     "output_type": "execute_result"
    }
   ],
   "source": [
    "import sys\n",
    "sys.__dict__.keys()"
   ]
  },
  {
   "cell_type": "code",
   "execution_count": 11,
   "metadata": {},
   "outputs": [
    {
     "data": {
      "text/plain": [
       "'In : '"
      ]
     },
     "execution_count": 11,
     "metadata": {},
     "output_type": "execute_result"
    }
   ],
   "source": [
    "# Access namespace names via dot notation:\n",
    "sys.ps1"
   ]
  },
  {
   "cell_type": "code",
   "execution_count": 13,
   "metadata": {},
   "outputs": [
    {
     "data": {
      "text/plain": [
       "'In : '"
      ]
     },
     "execution_count": 13,
     "metadata": {},
     "output_type": "execute_result"
    }
   ],
   "source": [
    "# Or using the dunder dictionary:\n",
    "sys.__dict__['ps1']"
   ]
  },
  {
   "cell_type": "code",
   "execution_count": null,
   "metadata": {},
   "outputs": [],
   "source": []
  },
  {
   "cell_type": "code",
   "execution_count": null,
   "metadata": {},
   "outputs": [],
   "source": []
  }
 ],
 "metadata": {
  "kernelspec": {
   "display_name": "Python 3",
   "language": "python",
   "name": "python3"
  },
  "language_info": {
   "codemirror_mode": {
    "name": "ipython",
    "version": 3
   },
   "file_extension": ".py",
   "mimetype": "text/x-python",
   "name": "python",
   "nbconvert_exporter": "python",
   "pygments_lexer": "ipython3",
   "version": "3.7.6"
  }
 },
 "nbformat": 4,
 "nbformat_minor": 2
}
