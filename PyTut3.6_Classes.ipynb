{
 "cells": [
  {
   "cell_type": "markdown",
   "metadata": {},
   "source": [
    "## Before continuing, please select menu option:  **Cell => All output => clear**"
   ]
  },
  {
   "cell_type": "code",
   "execution_count": null,
   "metadata": {},
   "outputs": [],
   "source": []
  },
  {
   "cell_type": "code",
   "execution_count": null,
   "metadata": {},
   "outputs": [],
   "source": []
  },
  {
   "cell_type": "code",
   "execution_count": null,
   "metadata": {},
   "outputs": [],
   "source": []
  },
  {
   "cell_type": "markdown",
   "metadata": {},
   "source": [
    "# Classes and Objects\n",
    "* The concept of OOP allows us to model real world things using code\n",
    "* Every object has attributes (e.g. color, height, weight) which are object variables\n",
    "* Every object has abilities (walk, talk, eat) which are object functions (or methods)"
   ]
  },
  {
   "cell_type": "code",
   "execution_count": null,
   "metadata": {},
   "outputs": [],
   "source": [
    "class Animal:\n",
    "    # None signifies the lack of a value (like null)\n",
    "    # You can make a variable private by starting it with __\n",
    "    # This is a class attribute: \n",
    "    __count = 0  # double underscores mangle private names from outside inspection\n",
    "\n",
    " \n",
    "    # The constructor is called to set up or initialize an object\n",
    "    # self allows an object to refer to itself inside of the class\n",
    "    def __init__(self, name, height, weight, sound):\n",
    "        self.__name = name   # double underscores mangle private names from outside inspection\n",
    "        self._height = height  # Single underscores are a private \"convention\"\n",
    "        self._weight = weight\n",
    "        self.sound = sound  # no underscores means safe to modify outside the class\n",
    "        Animal.__count += 1\n",
    "    \n",
    "    @staticmethod\n",
    "    def count():\n",
    "        return Animal.__count\n",
    " \n",
    "    def set_name(self, name):\n",
    "        self.__name = name\n",
    "        # For example we might update a index in a database etc using the __name\n",
    " \n",
    "    def set_height(self, height):\n",
    "        self._height = height\n",
    " \n",
    "    def set_weight(self, height):\n",
    "        self._height = height\n",
    " \n",
    "    def set_sound(self, sound):\n",
    "        self._sound = sound\n",
    " \n",
    "    def get_name(self):\n",
    "        return self.__name\n",
    " \n",
    "    def get_height(self):\n",
    "        return str(self._height)\n",
    " \n",
    "    def get_weight(self):\n",
    "        return str(self._weight)\n",
    " \n",
    "    def get_sound(self):\n",
    "        return self._sound\n",
    " \n",
    "    def get_type(self):\n",
    "        return 'Animal'\n",
    " \n",
    "    def toString(self):\n",
    "        return f'{self.__name} is {self._height} cm tall and {self._weight} kilograms and says {self.sound}'"
   ]
  },
  {
   "cell_type": "code",
   "execution_count": null,
   "metadata": {},
   "outputs": [],
   "source": [
    "print(Animal)"
   ]
  },
  {
   "cell_type": "code",
   "execution_count": null,
   "metadata": {},
   "outputs": [],
   "source": [
    "# How to create a Animal object\n",
    "cat = Animal('Whiskers', 33, 10, 'Meow')\n",
    "chicken = Animal('Foghorn', 180, 90, 'Ah say!')"
   ]
  },
  {
   "cell_type": "code",
   "execution_count": null,
   "metadata": {},
   "outputs": [],
   "source": [
    "print(cat)\n",
    "print(cat._height)\n",
    "Animal.__count"
   ]
  },
  {
   "cell_type": "code",
   "execution_count": null,
   "metadata": {},
   "outputs": [],
   "source": [
    "Animal.count()"
   ]
  },
  {
   "cell_type": "code",
   "execution_count": null,
   "metadata": {},
   "outputs": [],
   "source": []
  },
  {
   "cell_type": "code",
   "execution_count": null,
   "metadata": {},
   "outputs": [],
   "source": [
    "print(cat.toString())\n",
    "print(chicken.toString())"
   ]
  },
  {
   "cell_type": "code",
   "execution_count": null,
   "metadata": {},
   "outputs": [],
   "source": []
  },
  {
   "cell_type": "code",
   "execution_count": null,
   "metadata": {},
   "outputs": [],
   "source": [
    "# You can't access this value directly because it is private\n",
    "print(cat.__name)"
   ]
  },
  {
   "cell_type": "code",
   "execution_count": null,
   "metadata": {},
   "outputs": [],
   "source": []
  },
  {
   "cell_type": "code",
   "execution_count": null,
   "metadata": {},
   "outputs": [],
   "source": [
    "# INHERITANCE -------------\n",
    "# You can inherit all of the variables and methods from another class\n",
    "\n",
    "class Dog(Animal):\n",
    "    __dogcount = 0\n",
    " \n",
    "    def __init__(self, name, height, weight, sound, owner):\n",
    "        self._owner = owner\n",
    "\n",
    "        # How to call the super class constructor\n",
    "        super().__init__(name, height, weight, sound)\n",
    "        Dog.__dogcount += 1\n",
    " \n",
    "\n",
    "    def set_owner(self, owner):\n",
    "        self._owner = owner\n",
    " \n",
    "    def get_owner(self):\n",
    "        return self._owner\n",
    " \n",
    "    def get_type(self):\n",
    "        return 'Dog'\n",
    " \n",
    "    # We can overwrite functions in the super class\n",
    "    @staticmethod\n",
    "    def count():\n",
    "        return f'{Dog.__dogcount} dogs out of {Animal.count()} total animals'\n",
    "    \n",
    "    # Here we use a method name with special functionaility:\n",
    "    def __str__(self):\n",
    "        return f'{self.toString()}. His owner is {self._owner}'\n",
    "    \n",
    "    def __repr__(self):\n",
    "        return f'{self.__class__}: {str(self)}'\n",
    " \n",
    " "
   ]
  },
  {
   "cell_type": "code",
   "execution_count": null,
   "metadata": {},
   "outputs": [],
   "source": []
  },
  {
   "cell_type": "code",
   "execution_count": null,
   "metadata": {},
   "outputs": [],
   "source": [
    "spot = Dog(\"Spot\", 53, 27, \"Ruff\", \"Derek\")\n",
    "print(spot)\n",
    "print(spot.get_owner())"
   ]
  },
  {
   "cell_type": "code",
   "execution_count": null,
   "metadata": {},
   "outputs": [],
   "source": []
  },
  {
   "cell_type": "code",
   "execution_count": null,
   "metadata": {},
   "outputs": [],
   "source": [
    "spot"
   ]
  },
  {
   "cell_type": "code",
   "execution_count": null,
   "metadata": {},
   "outputs": [],
   "source": [
    "spot.count()"
   ]
  },
  {
   "cell_type": "code",
   "execution_count": null,
   "metadata": {},
   "outputs": [],
   "source": []
  },
  {
   "cell_type": "code",
   "execution_count": null,
   "metadata": {},
   "outputs": [],
   "source": [
    "# Polymorphism allows use to refer to objects as their super class\n",
    "# and the correct functions are called automatically\n",
    " \n",
    "class AnimalTesting:\n",
    "    def get_type(self, animal):\n",
    "        return animal.get_type()"
   ]
  },
  {
   "cell_type": "code",
   "execution_count": null,
   "metadata": {},
   "outputs": [],
   "source": []
  },
  {
   "cell_type": "code",
   "execution_count": null,
   "metadata": {},
   "outputs": [],
   "source": [
    "test_animals = AnimalTesting()\n",
    " \n",
    "print(test_animals.get_type(cat))\n",
    "print(test_animals.get_type(spot))"
   ]
  },
  {
   "cell_type": "code",
   "execution_count": null,
   "metadata": {},
   "outputs": [],
   "source": []
  },
  {
   "cell_type": "code",
   "execution_count": null,
   "metadata": {},
   "outputs": [],
   "source": [
    "isinstance(spot, Dog)"
   ]
  },
  {
   "cell_type": "code",
   "execution_count": null,
   "metadata": {},
   "outputs": [],
   "source": [
    "isinstance(spot, Animal)"
   ]
  },
  {
   "cell_type": "code",
   "execution_count": null,
   "metadata": {},
   "outputs": [],
   "source": [
    "isinstance(chicken, Dog)"
   ]
  },
  {
   "cell_type": "code",
   "execution_count": null,
   "metadata": {},
   "outputs": [],
   "source": [
    "isinstance(chicken, Animal)"
   ]
  },
  {
   "cell_type": "code",
   "execution_count": null,
   "metadata": {},
   "outputs": [],
   "source": []
  },
  {
   "cell_type": "code",
   "execution_count": null,
   "metadata": {},
   "outputs": [],
   "source": []
  },
  {
   "cell_type": "code",
   "execution_count": null,
   "metadata": {},
   "outputs": [],
   "source": []
  },
  {
   "cell_type": "code",
   "execution_count": null,
   "metadata": {},
   "outputs": [],
   "source": []
  },
  {
   "cell_type": "markdown",
   "metadata": {},
   "source": [
    "### Further reading see:\n",
    "- https://realpython.com/python3-object-oriented-programming/\n",
    "- https://realpython.com/python-data-classes/"
   ]
  },
  {
   "cell_type": "code",
   "execution_count": null,
   "metadata": {},
   "outputs": [],
   "source": []
  },
  {
   "cell_type": "code",
   "execution_count": null,
   "metadata": {},
   "outputs": [],
   "source": []
  },
  {
   "cell_type": "code",
   "execution_count": null,
   "metadata": {},
   "outputs": [],
   "source": []
  }
 ],
 "metadata": {
  "kernelspec": {
   "display_name": "Python 3",
   "language": "python",
   "name": "python3"
  },
  "language_info": {
   "codemirror_mode": {
    "name": "ipython",
    "version": 3
   },
   "file_extension": ".py",
   "mimetype": "text/x-python",
   "name": "python",
   "nbconvert_exporter": "python",
   "pygments_lexer": "ipython3",
   "version": "3.8.5"
  }
 },
 "nbformat": 4,
 "nbformat_minor": 2
}
