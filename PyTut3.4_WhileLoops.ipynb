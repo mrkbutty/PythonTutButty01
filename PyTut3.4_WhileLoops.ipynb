{
 "cells": [
  {
   "cell_type": "markdown",
   "metadata": {},
   "source": [
    "## Before continuing, please select menu option:  **Cell => All output => clear**"
   ]
  },
  {
   "cell_type": "code",
   "execution_count": null,
   "metadata": {},
   "outputs": [],
   "source": []
  },
  {
   "cell_type": "code",
   "execution_count": null,
   "metadata": {},
   "outputs": [],
   "source": []
  },
  {
   "cell_type": "code",
   "execution_count": null,
   "metadata": {},
   "outputs": [],
   "source": []
  },
  {
   "cell_type": "markdown",
   "metadata": {},
   "source": [
    "# While Loops\n",
    "* While loops are typically used when you don't know ahead of time how many times you'll have to loop"
   ]
  },
  {
   "cell_type": "code",
   "execution_count": null,
   "metadata": {},
   "outputs": [],
   "source": []
  },
  {
   "cell_type": "code",
   "execution_count": null,
   "metadata": {},
   "outputs": [],
   "source": [
    "import random\n",
    "\n",
    "count = 0\n",
    "random_num = 0\n",
    "while (random_num != 5):\n",
    "    count += 1\n",
    "    random_num = random.randrange(0,10)\n",
    "    print(f'Guess {count}:', random_num)"
   ]
  },
  {
   "cell_type": "code",
   "execution_count": null,
   "metadata": {},
   "outputs": [],
   "source": []
  },
  {
   "cell_type": "code",
   "execution_count": null,
   "metadata": {},
   "outputs": [],
   "source": [
    "# An iterator for a while loop is defined before the loop\n",
    "i = 0;\n",
    "while True:   # Loop forever\n",
    "    if i % 2 == 0:\n",
    "        print('Even:', i)\n",
    "    elif i == 9:\n",
    "        print('Breaking while')\n",
    "        break  # Forces the loop to end all together\n",
    "    else:\n",
    "        print('Adding 3')\n",
    "        i += 3  # Shorthand for i = i + 3\n",
    "        continue  # Skips to the next iteration of the loop\n",
    "    print('Adding 1')\n",
    "    i += 1"
   ]
  },
  {
   "cell_type": "code",
   "execution_count": null,
   "metadata": {},
   "outputs": [],
   "source": []
  }
 ],
 "metadata": {
  "kernelspec": {
   "display_name": "Python 3",
   "language": "python",
   "name": "python3"
  },
  "language_info": {
   "codemirror_mode": {
    "name": "ipython",
    "version": 3
   },
   "file_extension": ".py",
   "mimetype": "text/x-python",
   "name": "python",
   "nbconvert_exporter": "python",
   "pygments_lexer": "ipython3",
   "version": "3.8.5"
  }
 },
 "nbformat": 4,
 "nbformat_minor": 2
}
