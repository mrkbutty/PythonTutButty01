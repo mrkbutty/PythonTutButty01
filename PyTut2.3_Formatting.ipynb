{
 "cells": [
  {
   "cell_type": "markdown",
   "metadata": {},
   "source": [
    "## Before continuing, please select menu option:  **Cell => All output => clear**"
   ]
  },
  {
   "cell_type": "code",
   "execution_count": null,
   "metadata": {},
   "outputs": [],
   "source": []
  },
  {
   "cell_type": "code",
   "execution_count": null,
   "metadata": {},
   "outputs": [],
   "source": []
  },
  {
   "cell_type": "code",
   "execution_count": null,
   "metadata": {},
   "outputs": [],
   "source": []
  },
  {
   "cell_type": "code",
   "execution_count": null,
   "metadata": {},
   "outputs": [],
   "source": []
  },
  {
   "cell_type": "markdown",
   "metadata": {},
   "source": [
    "# Formatting Strings\n",
    "### Old 'C' style formatting: \n",
    "https://docs.python.org/3/library/stdtypes.html#printf-style-bytes-formatting\n",
    "\n",
    "Formatting specification is applied with the form `'%<spec>' % <values>`\n",
    "\t\n",
    "#### Format Specification Mini-Language\n",
    "format_spec: `[[fill]align][sign][#][0][width][grouping_option][.precision][type]`\n",
    " - fill = Any character\n",
    " - align = `<` | `>` | `=` | `^`\n",
    " - sign = `+` | `-` | ` `\n",
    " - width = Number\n",
    " - grouping_option = `_` | `,`\n",
    " - precision = Number\n",
    " - type = `b` | `c` | `d` | `e` | `E` | `f` | `F` | `g` | `G` | `n` | `o` | `s` | `x` | `X` | `%`\n",
    "\n",
    "Common types:\n",
    "\n",
    "    - %s = String\n",
    "    - %d or %i = Signed decimal integer\n",
    "    - %f = float\n",
    "    - %r = represent (`__repr__`)\n",
    "    - %x = Signed hexadecimal (lowercase)\n",
    "    - %X = Signed hexadecimal (uppercase)\n",
    "    \n",
    "* Here is a float example with width and precision:  \n",
    "    - Formatter string: `'Float: %07.3f'` applied to 1.2345 would output: `Float: 001.234`\n",
    "\n",
    "---\n",
    "\n",
    "### The string 'format' method:\n",
    "https://docs.python.org/3/tutorial/inputoutput.html#the-string-format-method  \n",
    "https://docs.python.org/3/library/string.html#formatstrings  \n",
    "\n",
    "The \"replacement field\" is in the string using this format:\n",
    "    `{ [field_name_or_number] [! conversion] [: format_spec] }`\n",
    "\n",
    "* For example:\n",
    "    - `'Float: {0:07.3f}'.format(1.2345)` # would output: `Float: 001.234`\n",
    "    \n",
    "---\n",
    "\n",
    "* **New Style \"f-strings\":**\n",
    "    - **https://docs.python.org/3/tutorial/inputoutput.html#formatted-string-literals**\n",
    "    - **https://docs.python.org/3/library/string.html#formatspec**\n",
    "    \n",
    "These formatters are very useful and readable.  \n",
    "* The formatter and variable/expression is interpolated into the f-string.\n",
    "* They provide same formatting as the format method.\n",
    "* However, they include an expression rather than a variable reference.\n",
    "* And do not need a call to the format method.\n",
    "    - Example:\n",
    "    ```\n",
    "    var = 1.2345\n",
    "    f'Float: { var :07.3f}'          # outputs: 'Float: 001.234'\n",
    "    f'{var} x 2 = { var * 2 :.1f}'   # outputs: '1.2345 x 2 = 2.5'\n",
    "    ```"
   ]
  },
  {
   "cell_type": "code",
   "execution_count": null,
   "metadata": {},
   "outputs": [],
   "source": [
    "# Old style 'C' format specification:\n",
    "print('Float: %07.3f' % 1.2345)"
   ]
  },
  {
   "cell_type": "code",
   "execution_count": null,
   "metadata": {},
   "outputs": [],
   "source": [
    "# The float formatter example:\n",
    "print('Float: %07.3f' % 1.2345)"
   ]
  },
  {
   "cell_type": "code",
   "execution_count": null,
   "metadata": {},
   "outputs": [],
   "source": [
    "# f-string example:\n",
    "var = 1.2345\n",
    "print(f'Float: {var:07.3f}')\n",
    "print(f'{var} x 2 = { var * 2 :.1f}')"
   ]
  },
  {
   "cell_type": "code",
   "execution_count": null,
   "metadata": {},
   "outputs": [],
   "source": [
    "# The float formatter example:\n",
    "print('Float: %07.3f' % 1.2345)"
   ]
  },
  {
   "cell_type": "code",
   "execution_count": null,
   "metadata": {},
   "outputs": [],
   "source": []
  },
  {
   "cell_type": "code",
   "execution_count": null,
   "metadata": {},
   "outputs": [],
   "source": []
  },
  {
   "cell_type": "code",
   "execution_count": null,
   "metadata": {},
   "outputs": [],
   "source": [
    "# Old style 'C' formatting using modulus operator %\n",
    "name = 'World'\n",
    "num = 19\n",
    "\n",
    "print('Hello %s!' % name)\n",
    "print('%d is my favorite number especially in hex: 0x%x' % (num, num))\n",
    "print('Width and Precision can also be defined e.g. %10.4f' % 0.12345)"
   ]
  },
  {
   "cell_type": "code",
   "execution_count": null,
   "metadata": {},
   "outputs": [],
   "source": [
    "# Newer 2.6+ format specifiers;\n",
    "person = {'name': 'Mark', 'age':21}\n",
    "\n",
    "print('First={} Second={} Third={}'.format(1,2,'three'))\n",
    "print('By position: First={2} Second={0} Third={1}{1}{1}'.format(1,2,'three'))\n",
    "print('By variable: {x} is {y} at heart! '.format(x=person['name'], y=person['age']))\n",
    "print('By dict: {name} is {age} at heart! '.format(**person))\n",
    "print('I would really like £{:,.02f} in {!r}'.format(1000000, 'cash'))\n",
    "print('Conversion: {0:d} = Hex({0:x}) = Oct({0:o}) = Binary {0:b}'.format(105))"
   ]
  },
  {
   "cell_type": "code",
   "execution_count": null,
   "metadata": {},
   "outputs": [],
   "source": [
    "# Ver 2.6+ also support left/right center justifiers <^>;\n",
    "text = 'here'\n",
    "print('X{:15}X{:>15}X{:^15}X{:<15}X'.format(text, text, text, text))"
   ]
  },
  {
   "cell_type": "code",
   "execution_count": null,
   "metadata": {},
   "outputs": [],
   "source": [
    "# The best new feature in python 3.6 is 'f' string interpolation;\n",
    "import math, datetime\n",
    "name = 'Mark Butty'\n",
    "width, precision = 10, 5\n",
    "\n",
    "print(f'Hello {name} there are {len(name)} characters in your name')\n",
    "print(f'5 x 4 = {5 * 4}')\n",
    "print(f'PI is {math.pi:^{width}.{precision}} in binary')\n",
    "print(f'Conversion also work: {105:d} = Hex({105:x}) = Oct({105:o}) = Binary {105:b}')\n",
    "print(f'Today is {datetime.datetime.today():%A %B %d, %Y}')"
   ]
  },
  {
   "cell_type": "code",
   "execution_count": null,
   "metadata": {},
   "outputs": [],
   "source": [
    "# Mixing format and interpolation - useful for headings;\n",
    "\n",
    "mbflag = True\n",
    "units = 'MB' if mbflag else 'PG'\n",
    "print('{:^19}    {:^19} {:^9} {:>14} {:>12} {:>12}'.format(\n",
    "    'Start_time', 'End_time', 'VolCount', \n",
    "    f'ZeroReclaim_{units}', f'Target_{units}', f'Actual_{units}'))"
   ]
  },
  {
   "cell_type": "code",
   "execution_count": null,
   "metadata": {},
   "outputs": [],
   "source": []
  },
  {
   "cell_type": "code",
   "execution_count": null,
   "metadata": {},
   "outputs": [],
   "source": []
  },
  {
   "cell_type": "markdown",
   "metadata": {},
   "source": [
    "## Exercise:\n",
    "* Answer each question in a seperate cell\n",
    "1. Create four variables, an integer, a float to 3 decimal places and two strings.\n",
    "1. Create a composite string of the two strings.\n",
    "1. Print out (or make final expression) a line with the numbers and the composite string to a width of 20 using formatters.\n",
    "1. Divide the integer by the float and output the answer to a precision of one decimal place\n",
    "1. Output a line of eighty '=' using as concise an expression as possible\n",
    "\n",
    "* Comment your code, copy and paste into the chat"
   ]
  },
  {
   "cell_type": "code",
   "execution_count": null,
   "metadata": {},
   "outputs": [],
   "source": [
    "#1\n"
   ]
  },
  {
   "cell_type": "code",
   "execution_count": null,
   "metadata": {},
   "outputs": [],
   "source": [
    "#2\n"
   ]
  },
  {
   "cell_type": "code",
   "execution_count": null,
   "metadata": {},
   "outputs": [],
   "source": [
    "#3\n"
   ]
  },
  {
   "cell_type": "code",
   "execution_count": null,
   "metadata": {},
   "outputs": [],
   "source": [
    "#4\n"
   ]
  },
  {
   "cell_type": "code",
   "execution_count": null,
   "metadata": {},
   "outputs": [],
   "source": [
    "#5\n"
   ]
  },
  {
   "cell_type": "code",
   "execution_count": null,
   "metadata": {},
   "outputs": [],
   "source": []
  },
  {
   "cell_type": "code",
   "execution_count": null,
   "metadata": {},
   "outputs": [],
   "source": []
  },
  {
   "cell_type": "code",
   "execution_count": null,
   "metadata": {},
   "outputs": [],
   "source": []
  },
  {
   "cell_type": "code",
   "execution_count": null,
   "metadata": {},
   "outputs": [],
   "source": []
  },
  {
   "cell_type": "code",
   "execution_count": null,
   "metadata": {},
   "outputs": [],
   "source": []
  }
 ],
 "metadata": {
  "kernelspec": {
   "display_name": "Python 3",
   "language": "python",
   "name": "python3"
  },
  "language_info": {
   "codemirror_mode": {
    "name": "ipython",
    "version": 3
   },
   "file_extension": ".py",
   "mimetype": "text/x-python",
   "name": "python",
   "nbconvert_exporter": "python",
   "pygments_lexer": "ipython3",
   "version": "3.8.5"
  }
 },
 "nbformat": 4,
 "nbformat_minor": 2
}
