{
 "cells": [
  {
   "cell_type": "markdown",
   "metadata": {},
   "source": [
    "# For Loops\n",
    "* Allows you to perform an action a set number of times\n",
    "* Usually used on iterator types; lists, tuples, or generators"
   ]
  },
  {
   "cell_type": "code",
   "execution_count": null,
   "metadata": {},
   "outputs": [],
   "source": []
  },
  {
   "cell_type": "code",
   "execution_count": 56,
   "metadata": {},
   "outputs": [
    {
     "name": "stdout",
     "output_type": "stream",
     "text": [
      "Python3 range = range(5, 10)\n",
      "Python2 would return a list = [5, 6, 7, 8, 9]\n"
     ]
    }
   ],
   "source": [
    "# The range keyword returns a range type which is a generator\n",
    "# In python 2 it returns a list containig the range so there is also xrange to return a generator\n",
    "print('Python3 range =', range(5,10))\n",
    "print('Python2 would return a list =', list(range(5,10)))"
   ]
  },
  {
   "cell_type": "code",
   "execution_count": null,
   "metadata": {},
   "outputs": [],
   "source": []
  },
  {
   "cell_type": "code",
   "execution_count": 1,
   "metadata": {},
   "outputs": [
    {
     "name": "stdout",
     "output_type": "stream",
     "text": [
      "0  1  2  3  4  5  6  7  8  9  \n",
      "\n"
     ]
    }
   ],
   "source": [
    "# Range performs the action 10 times 0 - 9\n",
    "for x in range(0, 10):\n",
    "    print(x , ' ', end=\"\")\n",
    "print('\\n')"
   ]
  },
  {
   "cell_type": "code",
   "execution_count": null,
   "metadata": {},
   "outputs": [],
   "source": []
  },
  {
   "cell_type": "code",
   "execution_count": 45,
   "metadata": {},
   "outputs": [
    {
     "name": "stdout",
     "output_type": "stream",
     "text": [
      "Juice\n",
      "Tomatoes\n",
      "Potatoes\n",
      "Bananas\n"
     ]
    }
   ],
   "source": [
    "# You can use for loops to cycle through a list\n",
    "grocery_list = ['Juice', 'Tomatoes', 'Potatoes', 'Bananas']\n",
    " \n",
    "for y in grocery_list:\n",
    "    print(y)"
   ]
  },
  {
   "cell_type": "code",
   "execution_count": null,
   "metadata": {},
   "outputs": [],
   "source": []
  },
  {
   "cell_type": "code",
   "execution_count": null,
   "metadata": {},
   "outputs": [],
   "source": [
    "# You can also define a list of numbers to cycle through\n",
    "for x in [2,4,6,8,10]:\n",
    "    print(x)"
   ]
  },
  {
   "cell_type": "code",
   "execution_count": null,
   "metadata": {},
   "outputs": [],
   "source": []
  },
  {
   "cell_type": "code",
   "execution_count": null,
   "metadata": {},
   "outputs": [],
   "source": [
    "# You can double up for loops to cycle through lists\n",
    "num_list =[[1,2,3],[10,20,30],[100,200,300]];\n",
    " \n",
    "for x in range(0,3):\n",
    "    for y in range(0,3):\n",
    "        print(num_list[x][y])"
   ]
  },
  {
   "cell_type": "code",
   "execution_count": null,
   "metadata": {},
   "outputs": [],
   "source": []
  },
  {
   "cell_type": "code",
   "execution_count": 51,
   "metadata": {},
   "outputs": [
    {
     "data": {
      "text/plain": [
       "[(5, 'Juice'), (6, 'Tomatoes'), (7, 'Potatoes'), (8, 'Bananas')]"
      ]
     },
     "execution_count": 51,
     "metadata": {},
     "output_type": "execute_result"
    }
   ],
   "source": [
    "# enumerate is a very useful feature;\n",
    "list(enumerate(grocery_list, 5))"
   ]
  },
  {
   "cell_type": "code",
   "execution_count": null,
   "metadata": {},
   "outputs": [],
   "source": [
    "for count, item in enumerate(grocery_list):\n",
    "    print('#', count, '=', item)"
   ]
  },
  {
   "cell_type": "code",
   "execution_count": null,
   "metadata": {},
   "outputs": [],
   "source": []
  },
  {
   "cell_type": "markdown",
   "metadata": {},
   "source": [
    "# While Loops\n",
    "* While loops are used when you don't know ahead of time how many times you'll have to loop"
   ]
  },
  {
   "cell_type": "code",
   "execution_count": 2,
   "metadata": {},
   "outputs": [],
   "source": [
    "import random"
   ]
  },
  {
   "cell_type": "code",
   "execution_count": null,
   "metadata": {},
   "outputs": [],
   "source": [
    "random_num = random.randrange(0,100)\n",
    " \n",
    "while (random_num != 15):\n",
    "    print(random_num)\n",
    "    random_num = random.randrange(0,100)"
   ]
  },
  {
   "cell_type": "code",
   "execution_count": null,
   "metadata": {},
   "outputs": [],
   "source": []
  },
  {
   "cell_type": "code",
   "execution_count": 3,
   "metadata": {},
   "outputs": [
    {
     "name": "stdout",
     "output_type": "stream",
     "text": [
      "0\n",
      "2\n",
      "4\n",
      "6\n",
      "8\n"
     ]
    }
   ],
   "source": [
    "# An iterator for a while loop is defined before the loop\n",
    "i = 0;\n",
    "while (i <= 20):\n",
    "    if(i%2 == 0):\n",
    "        print(i)\n",
    "    elif(i == 9):\n",
    "        break  # Forces the loop to end all together\n",
    "    else:\n",
    "        i += 1  # Shorthand for i = i + 1\n",
    "        continue  # Skips to the next iteration of the loop\n",
    " \n",
    "    i += 1"
   ]
  },
  {
   "cell_type": "code",
   "execution_count": null,
   "metadata": {},
   "outputs": [],
   "source": []
  },
  {
   "cell_type": "markdown",
   "metadata": {},
   "source": [
    "# Functions\n",
    "* Functions allow you to reuse and write readable code\n",
    "* Type def (define), function name and parameters it receives\n",
    "* return is used to return something to the caller of the function"
   ]
  },
  {
   "cell_type": "code",
   "execution_count": 5,
   "metadata": {},
   "outputs": [],
   "source": [
    "def addNumbers(fNum, sNum):\n",
    "    sumNum = fNum + sNum\n",
    "    return sumNum"
   ]
  },
  {
   "cell_type": "code",
   "execution_count": 8,
   "metadata": {},
   "outputs": [
    {
     "name": "stdout",
     "output_type": "stream",
     "text": [
      "<function addNumbers at 0x0000000005765048>\n"
     ]
    }
   ],
   "source": [
    "print(addNumbers)"
   ]
  },
  {
   "cell_type": "code",
   "execution_count": 6,
   "metadata": {},
   "outputs": [
    {
     "name": "stdout",
     "output_type": "stream",
     "text": [
      "5\n"
     ]
    }
   ],
   "source": [
    "print(addNumbers(1, 4))"
   ]
  },
  {
   "cell_type": "code",
   "execution_count": 10,
   "metadata": {},
   "outputs": [
    {
     "ename": "NameError",
     "evalue": "name 'fNum' is not defined",
     "output_type": "error",
     "traceback": [
      "\u001b[1;31m---------------------------------------------------------------------------\u001b[0m",
      "\u001b[1;31mNameError\u001b[0m                                 Traceback (most recent call last)",
      "\u001b[1;32m<ipython-input-10-d055c5d8145f>\u001b[0m in \u001b[0;36m<module>\u001b[1;34m()\u001b[0m\n\u001b[1;32m----> 1\u001b[1;33m \u001b[0mprint\u001b[0m\u001b[1;33m(\u001b[0m\u001b[0mfNum\u001b[0m\u001b[1;33m)\u001b[0m\u001b[1;33m\u001b[0m\u001b[0m\n\u001b[0m\u001b[0;32m      2\u001b[0m \u001b[1;31m# Can't get the value of fNum because it was created in a function\u001b[0m\u001b[1;33m\u001b[0m\u001b[1;33m\u001b[0m\u001b[0m\n\u001b[0;32m      3\u001b[0m \u001b[1;31m# It is said to be out of scope\u001b[0m\u001b[1;33m\u001b[0m\u001b[1;33m\u001b[0m\u001b[0m\n",
      "\u001b[1;31mNameError\u001b[0m: name 'fNum' is not defined"
     ]
    }
   ],
   "source": [
    "print(fNum)\n",
    "# Can't get the value of fNum because it was created in a function\n",
    "# It is said to be out of scope"
   ]
  },
  {
   "cell_type": "code",
   "execution_count": null,
   "metadata": {},
   "outputs": [],
   "source": []
  },
  {
   "cell_type": "code",
   "execution_count": 17,
   "metadata": {},
   "outputs": [],
   "source": [
    "# If you define a variable outside of the function it is a global\n",
    "aNum = 5;\n",
    "def subNumbers(fNum, sNum):\n",
    "    newNum = fNum - sNum + aNum\n",
    "    return newNum"
   ]
  },
  {
   "cell_type": "code",
   "execution_count": 18,
   "metadata": {},
   "outputs": [
    {
     "name": "stdout",
     "output_type": "stream",
     "text": [
      "2 5\n"
     ]
    }
   ],
   "source": [
    "print(subNumbers(1, 4), aNum)"
   ]
  },
  {
   "cell_type": "code",
   "execution_count": null,
   "metadata": {},
   "outputs": [],
   "source": []
  },
  {
   "cell_type": "code",
   "execution_count": 118,
   "metadata": {},
   "outputs": [
    {
     "name": "stdout",
     "output_type": "stream",
     "text": [
      "8\n",
      "15\n"
     ]
    }
   ],
   "source": [
    "# Using default arguments\n",
    "def addNumbers(fNum, sNum=10):\n",
    "    sumNum = fNum + sNum\n",
    "    return sumNum\n",
    "\n",
    "print(addNumbers(7,1))\n",
    "print(addNumbers(5))"
   ]
  },
  {
   "cell_type": "code",
   "execution_count": null,
   "metadata": {},
   "outputs": [],
   "source": []
  },
  {
   "cell_type": "code",
   "execution_count": 126,
   "metadata": {},
   "outputs": [],
   "source": [
    "# GOTCHA - mutable default arguments...\n",
    "def append_to(element, to=[]):\n",
    "    to.append(element)\n",
    "    return to"
   ]
  },
  {
   "cell_type": "code",
   "execution_count": 127,
   "metadata": {},
   "outputs": [
    {
     "name": "stdout",
     "output_type": "stream",
     "text": [
      "[12]\n",
      "[12, 42]\n"
     ]
    }
   ],
   "source": [
    "my_list = append_to(12)\n",
    "print(my_list)\n",
    "\n",
    "my_other_list = append_to(42)\n",
    "print(my_other_list)\n",
    "# You might expect the following output...\n",
    "# [12]\n",
    "# [42]\n",
    "# but..."
   ]
  },
  {
   "cell_type": "code",
   "execution_count": null,
   "metadata": {},
   "outputs": [],
   "source": []
  },
  {
   "cell_type": "code",
   "execution_count": 128,
   "metadata": {},
   "outputs": [],
   "source": [
    "# Fixed version\n",
    "def append_to(element, to=None):\n",
    "    if to is None:\n",
    "        to = []\n",
    "    to.append(element)\n",
    "    return to"
   ]
  },
  {
   "cell_type": "code",
   "execution_count": 129,
   "metadata": {},
   "outputs": [
    {
     "name": "stdout",
     "output_type": "stream",
     "text": [
      "[12]\n",
      "[42]\n"
     ]
    }
   ],
   "source": [
    "my_list = append_to(12)\n",
    "print(my_list)\n",
    "\n",
    "my_other_list = append_to(42)\n",
    "print(my_other_list)"
   ]
  },
  {
   "cell_type": "code",
   "execution_count": null,
   "metadata": {},
   "outputs": [],
   "source": []
  },
  {
   "cell_type": "code",
   "execution_count": 99,
   "metadata": {},
   "outputs": [],
   "source": [
    "# Tuple unpacking\n",
    "def ends(l):\n",
    "    return l[0], l[-1]"
   ]
  },
  {
   "cell_type": "code",
   "execution_count": 100,
   "metadata": {},
   "outputs": [
    {
     "name": "stdout",
     "output_type": "stream",
     "text": [
      "3\n",
      "[9]\n"
     ]
    }
   ],
   "source": [
    "left, right = ends([3,5,8,3,9])\n",
    "print(left)\n",
    "print(right)"
   ]
  },
  {
   "cell_type": "code",
   "execution_count": 104,
   "metadata": {},
   "outputs": [],
   "source": [
    "args = (3,6)"
   ]
  },
  {
   "cell_type": "code",
   "execution_count": 107,
   "metadata": {},
   "outputs": [
    {
     "data": {
      "text/plain": [
       "range(3, 6)"
      ]
     },
     "execution_count": 107,
     "metadata": {},
     "output_type": "execute_result"
    }
   ],
   "source": [
    "range(*args)"
   ]
  },
  {
   "cell_type": "code",
   "execution_count": null,
   "metadata": {},
   "outputs": [],
   "source": []
  },
  {
   "cell_type": "markdown",
   "metadata": {},
   "source": [
    "### Lambda\n",
    "* AKA Anonymous functions\n",
    "```python\n",
    "lambda parameters: expression\n",
    "```\n",
    "Behaves like;\n",
    "```python\n",
    "def <lambda>(parameters):\n",
    "    return expression\n",
    "```"
   ]
  },
  {
   "cell_type": "code",
   "execution_count": 3,
   "metadata": {},
   "outputs": [
    {
     "name": "stdout",
     "output_type": "stream",
     "text": [
      "8\n"
     ]
    }
   ],
   "source": [
    "add = lambda x, y: x + y\n",
    "print(add(3, 5))"
   ]
  },
  {
   "cell_type": "code",
   "execution_count": null,
   "metadata": {},
   "outputs": [],
   "source": []
  },
  {
   "cell_type": "code",
   "execution_count": 4,
   "metadata": {},
   "outputs": [
    {
     "data": {
      "text/plain": [
       "[(1, 4), (2, 0), (3, 1), (3, 2)]"
      ]
     },
     "execution_count": 4,
     "metadata": {},
     "output_type": "execute_result"
    }
   ],
   "source": [
    "l = [ (3,2), (3,1), (1,4), (2,0) ]\n",
    "l.sort()\n",
    "l"
   ]
  },
  {
   "cell_type": "code",
   "execution_count": 5,
   "metadata": {},
   "outputs": [
    {
     "data": {
      "text/plain": [
       "[(2, 0), (3, 1), (3, 2), (1, 4)]"
      ]
     },
     "execution_count": 5,
     "metadata": {},
     "output_type": "execute_result"
    }
   ],
   "source": [
    "# Assign an anonymous function to return the second item in each tuple\n",
    "l = [ (3,2), (3,1), (1,4), (2,0) ]\n",
    "mysort = lambda x: x[1]\n",
    "l.sort(key=mysort)\n",
    "l"
   ]
  },
  {
   "cell_type": "code",
   "execution_count": null,
   "metadata": {},
   "outputs": [],
   "source": []
  },
  {
   "cell_type": "code",
   "execution_count": 6,
   "metadata": {},
   "outputs": [
    {
     "data": {
      "text/plain": [
       "[(2, 0), (3, 1), (3, 2), (1, 4)]"
      ]
     },
     "execution_count": 6,
     "metadata": {},
     "output_type": "execute_result"
    }
   ],
   "source": [
    "# Usually just pass the anomynous function directly to sort\n",
    "l = [ (3,2), (3,1), (1,4), (2,0) ]\n",
    "l.sort(key=lambda x: x[1])\n",
    "l"
   ]
  },
  {
   "cell_type": "code",
   "execution_count": null,
   "metadata": {},
   "outputs": [],
   "source": []
  },
  {
   "cell_type": "code",
   "execution_count": 7,
   "metadata": {},
   "outputs": [
    {
     "ename": "TypeError",
     "evalue": "<lambda>() missing 1 required positional argument: 'y'",
     "output_type": "error",
     "traceback": [
      "\u001b[1;31m---------------------------------------------------------------------------\u001b[0m",
      "\u001b[1;31mTypeError\u001b[0m                                 Traceback (most recent call last)",
      "\u001b[1;32m<ipython-input-7-e6fd5e7cf182>\u001b[0m in \u001b[0;36m<module>\u001b[1;34m()\u001b[0m\n\u001b[0;32m      2\u001b[0m \u001b[1;31m# https://www.python.org/dev/peps/pep-3113/\u001b[0m\u001b[1;33m\u001b[0m\u001b[1;33m\u001b[0m\u001b[0m\n\u001b[0;32m      3\u001b[0m \u001b[0ml\u001b[0m \u001b[1;33m=\u001b[0m \u001b[1;33m[\u001b[0m \u001b[1;33m(\u001b[0m\u001b[1;36m3\u001b[0m\u001b[1;33m,\u001b[0m\u001b[1;36m2\u001b[0m\u001b[1;33m)\u001b[0m\u001b[1;33m,\u001b[0m \u001b[1;33m(\u001b[0m\u001b[1;36m3\u001b[0m\u001b[1;33m,\u001b[0m\u001b[1;36m1\u001b[0m\u001b[1;33m)\u001b[0m\u001b[1;33m,\u001b[0m \u001b[1;33m(\u001b[0m\u001b[1;36m1\u001b[0m\u001b[1;33m,\u001b[0m\u001b[1;36m4\u001b[0m\u001b[1;33m)\u001b[0m\u001b[1;33m,\u001b[0m \u001b[1;33m(\u001b[0m\u001b[1;36m2\u001b[0m\u001b[1;33m,\u001b[0m\u001b[1;36m0\u001b[0m\u001b[1;33m)\u001b[0m \u001b[1;33m]\u001b[0m\u001b[1;33m\u001b[0m\u001b[0m\n\u001b[1;32m----> 4\u001b[1;33m \u001b[0ml\u001b[0m\u001b[1;33m.\u001b[0m\u001b[0msort\u001b[0m\u001b[1;33m(\u001b[0m\u001b[0mkey\u001b[0m\u001b[1;33m=\u001b[0m\u001b[1;32mlambda\u001b[0m \u001b[0mx\u001b[0m\u001b[1;33m,\u001b[0m\u001b[0my\u001b[0m \u001b[1;33m:\u001b[0m \u001b[0my\u001b[0m\u001b[1;33m)\u001b[0m\u001b[1;33m\u001b[0m\u001b[0m\n\u001b[0m\u001b[0;32m      5\u001b[0m \u001b[0ml\u001b[0m\u001b[1;33m\u001b[0m\u001b[0m\n",
      "\u001b[1;31mTypeError\u001b[0m: <lambda>() missing 1 required positional argument: 'y'"
     ]
    }
   ],
   "source": [
    "# This used to work in Python2 but tuple parameter unpacking in function parameters was removed in ver 3\n",
    "# Use the form above where tuples are passed as one parameter\n",
    "# https://www.python.org/dev/peps/pep-3113/\n",
    "l = [ (3,2), (3,1), (1,4), (2,0) ]\n",
    "l.sort(key=lambda x,y : y)\n",
    "l"
   ]
  },
  {
   "cell_type": "code",
   "execution_count": null,
   "metadata": {},
   "outputs": [],
   "source": []
  },
  {
   "cell_type": "code",
   "execution_count": null,
   "metadata": {},
   "outputs": [],
   "source": []
  },
  {
   "cell_type": "markdown",
   "metadata": {},
   "source": [
    "# File I/O"
   ]
  },
  {
   "cell_type": "code",
   "execution_count": 8,
   "metadata": {},
   "outputs": [],
   "source": [
    "# Overwrite or create a file for writing\n",
    "# Modes are;\n",
    "#  'r'\topen for reading (default)\n",
    "#  'w'\topen for writing, truncating the file first\n",
    "#  'x'\topen for exclusive creation, failing if the file already exists\n",
    "#  'a'\topen for writing, appending to the end of the file if it exists\n",
    "#  'b'\tbinary mode\n",
    "#  't'\ttext mode (default)\n",
    "#  '+'\topen a disk file for updating (reading and writing)\n",
    "#  'U'\tuniversal newlines mode (deprecated)\n",
    "\n",
    "# Difference between binary/text;\n",
    "#   Files opened in binary mode return contents as bytes objects without any decoding. \n",
    "#   In text mode the contents of the file are returned as str, After the bytes are decoded using a platform-dependent or specified encoding.\n",
    "\n",
    "test_file = open(\"test.txt\", \"wb\")"
   ]
  },
  {
   "cell_type": "code",
   "execution_count": null,
   "metadata": {},
   "outputs": [],
   "source": []
  },
  {
   "cell_type": "code",
   "execution_count": 9,
   "metadata": {},
   "outputs": [
    {
     "name": "stdout",
     "output_type": "stream",
     "text": [
      "wb\n"
     ]
    }
   ],
   "source": [
    "# Get the file mode used\n",
    "print(test_file.mode)"
   ]
  },
  {
   "cell_type": "code",
   "execution_count": null,
   "metadata": {},
   "outputs": [],
   "source": []
  },
  {
   "cell_type": "code",
   "execution_count": 10,
   "metadata": {},
   "outputs": [
    {
     "name": "stdout",
     "output_type": "stream",
     "text": [
      "test.txt\n"
     ]
    }
   ],
   "source": [
    "# Get the files name\n",
    "print(test_file.name)"
   ]
  },
  {
   "cell_type": "code",
   "execution_count": null,
   "metadata": {},
   "outputs": [],
   "source": []
  },
  {
   "cell_type": "code",
   "execution_count": 11,
   "metadata": {},
   "outputs": [
    {
     "data": {
      "text/plain": [
       "21"
      ]
     },
     "execution_count": 11,
     "metadata": {},
     "output_type": "execute_result"
    }
   ],
   "source": [
    "# Write text to a file with a newline\n",
    "test_file.write(bytes(\"Write me to the file\\n\", 'UTF-8'))"
   ]
  },
  {
   "cell_type": "code",
   "execution_count": null,
   "metadata": {},
   "outputs": [],
   "source": []
  },
  {
   "cell_type": "code",
   "execution_count": 12,
   "metadata": {},
   "outputs": [],
   "source": [
    "# Close the file\n",
    "test_file.close()"
   ]
  },
  {
   "cell_type": "code",
   "execution_count": null,
   "metadata": {},
   "outputs": [],
   "source": []
  },
  {
   "cell_type": "code",
   "execution_count": 28,
   "metadata": {},
   "outputs": [
    {
     "name": "stdout",
     "output_type": "stream",
     "text": [
      "<class 'bytes'>\n",
      "b'Write me to the file\\n'\n"
     ]
    }
   ],
   "source": [
    "# Opens a file for reading and writing\n",
    "test_file = open(\"test.txt\", \"rb+\")\n",
    "# Read text from the file\n",
    "text_in_file = test_file.read()\n",
    "print(type(text_in_file))\n",
    "print(text_in_file)"
   ]
  },
  {
   "cell_type": "code",
   "execution_count": 25,
   "metadata": {},
   "outputs": [
    {
     "name": "stdout",
     "output_type": "stream",
     "text": [
      "<class 'str'>\n",
      "Write me to the file\n",
      "\n"
     ]
    }
   ],
   "source": [
    "# Implicitly closed\n",
    "test_file = open(\"test.txt\", \"r+\")\n",
    "# Read text from the file\n",
    "text_in_file = test_file.read()\n",
    "print(type(text_in_file))\n",
    "print(text_in_file)"
   ]
  },
  {
   "cell_type": "code",
   "execution_count": null,
   "metadata": {},
   "outputs": [],
   "source": []
  },
  {
   "cell_type": "code",
   "execution_count": 29,
   "metadata": {},
   "outputs": [],
   "source": [
    "# Close the file\n",
    "test_file.close()"
   ]
  },
  {
   "cell_type": "code",
   "execution_count": null,
   "metadata": {},
   "outputs": [],
   "source": []
  },
  {
   "cell_type": "code",
   "execution_count": 30,
   "metadata": {},
   "outputs": [],
   "source": [
    "import os"
   ]
  },
  {
   "cell_type": "code",
   "execution_count": 31,
   "metadata": {},
   "outputs": [],
   "source": [
    "# Delete the file\n",
    "os.remove(\"test.txt\")"
   ]
  },
  {
   "cell_type": "code",
   "execution_count": null,
   "metadata": {},
   "outputs": [],
   "source": []
  },
  {
   "cell_type": "markdown",
   "metadata": {},
   "source": [
    "# CLASSES AND OBJECTS\n",
    "* The concept of OOP allows us to model real world things using code\n",
    "* Every object has attributes (e.g. color, height, weight) which are object variables\n",
    "* Every object has abilities (walk, talk, eat) which are object functions (or methods)"
   ]
  },
  {
   "cell_type": "code",
   "execution_count": 33,
   "metadata": {},
   "outputs": [],
   "source": [
    "class Animal:\n",
    "    # None signifies the lack of a value (like null)\n",
    "    # You can make a variable private by starting it with __\n",
    "    __name = None\n",
    "    __height = None\n",
    "    __weight = None\n",
    "    __sound = None\n",
    " \n",
    "    # The constructor is called to set up or initialize an object\n",
    "    # self allows an object to refer to itself inside of the class\n",
    "    def __init__(self, name, height, weight, sound):\n",
    "        self.__name = name\n",
    "        self.__height = height\n",
    "        self.__weight = weight\n",
    "        self.__sound = sound\n",
    " \n",
    "    def set_name(self, name):\n",
    "        self.__name = name\n",
    " \n",
    "    def set_height(self, height):\n",
    "        self.__height = height\n",
    " \n",
    "    def set_weight(self, height):\n",
    "        self.__height = height\n",
    " \n",
    "    def set_sound(self, sound):\n",
    "        self.__sound = sound\n",
    " \n",
    "    def get_name(self):\n",
    "        return self.__name\n",
    " \n",
    "    def get_height(self):\n",
    "        return str(self.__height)\n",
    " \n",
    "    def get_weight(self):\n",
    "        return str(self.__weight)\n",
    " \n",
    "    def get_sound(self):\n",
    "        return self.__sound\n",
    " \n",
    "    def get_type(self):\n",
    "        print(\"Animal\")\n",
    " \n",
    "    def toString(self):\n",
    "        return \"{} is {} cm tall and {} kilograms and says {}\".format(self.__name, self.__height, self.__weight, self.__sound)"
   ]
  },
  {
   "cell_type": "code",
   "execution_count": 34,
   "metadata": {},
   "outputs": [
    {
     "name": "stdout",
     "output_type": "stream",
     "text": [
      "<class '__main__.Animal'>\n"
     ]
    }
   ],
   "source": [
    "print(Animal)"
   ]
  },
  {
   "cell_type": "code",
   "execution_count": null,
   "metadata": {},
   "outputs": [],
   "source": []
  },
  {
   "cell_type": "code",
   "execution_count": 35,
   "metadata": {},
   "outputs": [],
   "source": [
    "# How to create a Animal object\n",
    "cat = Animal('Whiskers', 33, 10, 'Meow')"
   ]
  },
  {
   "cell_type": "code",
   "execution_count": null,
   "metadata": {},
   "outputs": [],
   "source": []
  },
  {
   "cell_type": "code",
   "execution_count": 36,
   "metadata": {},
   "outputs": [
    {
     "name": "stdout",
     "output_type": "stream",
     "text": [
      "Whiskers is 33 cm tall and 10 kilograms and says Meow\n"
     ]
    }
   ],
   "source": [
    "print(cat.toString())"
   ]
  },
  {
   "cell_type": "code",
   "execution_count": null,
   "metadata": {},
   "outputs": [],
   "source": []
  },
  {
   "cell_type": "code",
   "execution_count": 37,
   "metadata": {},
   "outputs": [
    {
     "ename": "AttributeError",
     "evalue": "'Animal' object has no attribute '__name'",
     "output_type": "error",
     "traceback": [
      "\u001b[1;31m---------------------------------------------------------------------------\u001b[0m",
      "\u001b[1;31mAttributeError\u001b[0m                            Traceback (most recent call last)",
      "\u001b[1;32m<ipython-input-37-4c42c63a1302>\u001b[0m in \u001b[0;36m<module>\u001b[1;34m()\u001b[0m\n\u001b[0;32m      1\u001b[0m \u001b[1;31m# You can't access this value directly because it is private\u001b[0m\u001b[1;33m\u001b[0m\u001b[1;33m\u001b[0m\u001b[0m\n\u001b[1;32m----> 2\u001b[1;33m \u001b[0mprint\u001b[0m\u001b[1;33m(\u001b[0m\u001b[0mcat\u001b[0m\u001b[1;33m.\u001b[0m\u001b[0m__name\u001b[0m\u001b[1;33m)\u001b[0m\u001b[1;33m\u001b[0m\u001b[0m\n\u001b[0m",
      "\u001b[1;31mAttributeError\u001b[0m: 'Animal' object has no attribute '__name'"
     ]
    }
   ],
   "source": [
    "# You can't access this value directly because it is private\n",
    "print(cat.__name)"
   ]
  },
  {
   "cell_type": "code",
   "execution_count": null,
   "metadata": {},
   "outputs": [],
   "source": []
  },
  {
   "cell_type": "code",
   "execution_count": 39,
   "metadata": {},
   "outputs": [],
   "source": [
    "# INHERITANCE -------------\n",
    "# You can inherit all of the variables and methods from another class\n",
    "\n",
    "class Dog(Animal):\n",
    "    __owner = None\n",
    " \n",
    "    def __init__(self, name, height, weight, sound, owner):\n",
    "        self.__owner = owner\n",
    "        self.__animal_type = None\n",
    " \n",
    "        # How to call the super class constructor\n",
    "        super(Dog, self).__init__(name, height, weight, sound)\n",
    " \n",
    "    def set_owner(self, owner):\n",
    "        self.__owner = owner\n",
    " \n",
    "    def get_owner(self):\n",
    "        return self.__owner\n",
    " \n",
    "    def get_type(self):\n",
    "        print (\"Dog\")\n",
    " \n",
    "    # We can overwrite functions in the super class\n",
    "    def toString(self):\n",
    "        return \"{} is {} cm tall and {} kilograms and says {}. His owner is {}\".format(self.get_name(), self.get_height(), self.get_weight(), self.get_sound(), self.__owner)\n",
    " \n",
    "    # You don't have to require attributes to be sent\n",
    "    # This allows for method overloading\n",
    "    def multiple_sounds(self, how_many=None):\n",
    "        if how_many is None:\n",
    "            print(self.get_sound)\n",
    "        else:\n",
    "            print(self.get_sound() * how_many)\n",
    " "
   ]
  },
  {
   "cell_type": "code",
   "execution_count": null,
   "metadata": {},
   "outputs": [],
   "source": []
  },
  {
   "cell_type": "code",
   "execution_count": 40,
   "metadata": {},
   "outputs": [
    {
     "name": "stdout",
     "output_type": "stream",
     "text": [
      "Spot is 53 cm tall and 27 kilograms and says Ruff. His owner is Derek\n"
     ]
    }
   ],
   "source": [
    "spot = Dog(\"Spot\", 53, 27, \"Ruff\", \"Derek\")\n",
    "print(spot.toString())"
   ]
  },
  {
   "cell_type": "code",
   "execution_count": null,
   "metadata": {},
   "outputs": [],
   "source": []
  },
  {
   "cell_type": "code",
   "execution_count": 42,
   "metadata": {},
   "outputs": [],
   "source": [
    "# Polymorphism allows use to refer to objects as their super class\n",
    "# and the correct functions are called automatically\n",
    " \n",
    "class AnimalTesting:\n",
    "    def get_type(self, animal):\n",
    "        animal.get_type()"
   ]
  },
  {
   "cell_type": "code",
   "execution_count": null,
   "metadata": {},
   "outputs": [],
   "source": []
  },
  {
   "cell_type": "code",
   "execution_count": 43,
   "metadata": {},
   "outputs": [
    {
     "name": "stdout",
     "output_type": "stream",
     "text": [
      "Animal\n",
      "Dog\n"
     ]
    }
   ],
   "source": [
    "test_animals = AnimalTesting()\n",
    " \n",
    "test_animals.get_type(cat)\n",
    "test_animals.get_type(spot)"
   ]
  },
  {
   "cell_type": "code",
   "execution_count": null,
   "metadata": {},
   "outputs": [],
   "source": []
  },
  {
   "cell_type": "code",
   "execution_count": 44,
   "metadata": {},
   "outputs": [
    {
     "name": "stdout",
     "output_type": "stream",
     "text": [
      "RuffRuffRuffRuff\n"
     ]
    }
   ],
   "source": [
    "spot.multiple_sounds(4)"
   ]
  },
  {
   "cell_type": "code",
   "execution_count": null,
   "metadata": {},
   "outputs": [],
   "source": []
  },
  {
   "cell_type": "code",
   "execution_count": null,
   "metadata": {},
   "outputs": [],
   "source": []
  },
  {
   "cell_type": "code",
   "execution_count": null,
   "metadata": {},
   "outputs": [],
   "source": []
  },
  {
   "cell_type": "code",
   "execution_count": null,
   "metadata": {},
   "outputs": [],
   "source": []
  }
 ],
 "metadata": {
  "kernelspec": {
   "display_name": "Python 3",
   "language": "python",
   "name": "python3"
  },
  "language_info": {
   "codemirror_mode": {
    "name": "ipython",
    "version": 3
   },
   "file_extension": ".py",
   "mimetype": "text/x-python",
   "name": "python",
   "nbconvert_exporter": "python",
   "pygments_lexer": "ipython3",
   "version": "3.6.6"
  }
 },
 "nbformat": 4,
 "nbformat_minor": 2
}
