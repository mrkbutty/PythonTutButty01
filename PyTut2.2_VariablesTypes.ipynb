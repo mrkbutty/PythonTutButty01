{
 "cells": [
  {
   "cell_type": "markdown",
   "metadata": {},
   "source": [
    "## Before continuing, please select menu option:  **Cell => All output => clear**"
   ]
  },
  {
   "cell_type": "code",
   "execution_count": null,
   "metadata": {},
   "outputs": [],
   "source": []
  },
  {
   "cell_type": "code",
   "execution_count": null,
   "metadata": {},
   "outputs": [],
   "source": []
  },
  {
   "cell_type": "code",
   "execution_count": null,
   "metadata": {},
   "outputs": [],
   "source": []
  },
  {
   "cell_type": "markdown",
   "metadata": {},
   "source": [
    "## Literals, variables and assignment\n",
    "* A variable is a place to store values\n",
    "* Its name is like a label for that value (or rather object)\n",
    "* A variable name can contain letters, numbers, or _ but cannot start with a number\n",
    "\n",
    "* **You also should not name variables any of the language keywords:**\n",
    "```\n",
    "False      await      else       import     pass\n",
    "None       break      except     in         raise\n",
    "True       class      finally    is         return\n",
    "and        continue   for        lambda     try\n",
    "as         def        from       nonlocal   while\n",
    "assert     del        global     not        with\n",
    "async      elif       if         or         yield\n",
    "```\n",
    "\n",
    "Or python built-in objects, functions and identifiers, listed with `dir(__builtin__)`"
   ]
  },
  {
   "cell_type": "code",
   "execution_count": null,
   "metadata": {},
   "outputs": [],
   "source": []
  },
  {
   "cell_type": "code",
   "execution_count": null,
   "metadata": {},
   "outputs": [],
   "source": [
    "# Valid variable names and assignments:\n",
    "i = 666\n",
    "MyVar = 2 # Camel case is not the usual convention for python variables\n",
    "counter2 = 3\n",
    "# 3counter = 4 is invalid as it starts with a number\n",
    "_my_name = 'Superman' # valid but the convention is this is a special (private) variable\n",
    "his_name = \"'Joker'\"  # double quotes can be used but convention is normally to use single quotes unless enclosing"
   ]
  },
  {
   "cell_type": "code",
   "execution_count": null,
   "metadata": {},
   "outputs": [],
   "source": [
    "print(his_name)\n",
    "his_name"
   ]
  },
  {
   "cell_type": "code",
   "execution_count": null,
   "metadata": {},
   "outputs": [],
   "source": []
  },
  {
   "cell_type": "code",
   "execution_count": null,
   "metadata": {},
   "outputs": [],
   "source": [
    "# A Python variable is a symbolic name that is a reference or pointer to an object. \n",
    "# Once an object is assigned to a variable, you can refer to the object by that name. \n",
    "# But the data itself is still contained within the object.\n",
    "print(type(i)) # \"666\" created previously is the object pointed to by symbol \"i\"\n",
    "print(type(his_name))"
   ]
  },
  {
   "cell_type": "code",
   "execution_count": null,
   "metadata": {},
   "outputs": [],
   "source": []
  },
  {
   "cell_type": "code",
   "execution_count": null,
   "metadata": {},
   "outputs": [],
   "source": [
    "# When this is executed there is no copy you have just created a new symbol \"n\".\n",
    "#  \"n\" is now pointing to the same int object \"666\" that was created and assigned to \"i\"\n",
    "n = i\n",
    "print(i, n)\n",
    "print(i == n)\n",
    "print(i is n)\n",
    "print(id(i))\n",
    "print(id(n))"
   ]
  },
  {
   "cell_type": "code",
   "execution_count": null,
   "metadata": {},
   "outputs": [],
   "source": []
  },
  {
   "cell_type": "code",
   "execution_count": null,
   "metadata": {},
   "outputs": [],
   "source": [
    "n = 42 # Now a new int object \"42\" is created and symbol \"n\" is pointing to the new object\n",
    "print(i, n)\n",
    "print(i == n)\n",
    "print(i is n)\n",
    "print(id(i))\n",
    "print(id(n))"
   ]
  },
  {
   "cell_type": "code",
   "execution_count": null,
   "metadata": {},
   "outputs": [],
   "source": []
  },
  {
   "cell_type": "code",
   "execution_count": null,
   "metadata": {},
   "outputs": [],
   "source": [
    "n = i\n",
    "print(hex(id(i)))\n",
    "print(hex(id(n)))\n",
    "n += 4\n",
    "print(i)\n",
    "print(n)\n",
    "print(hex(id(i)))\n",
    "print(hex(id(n)))"
   ]
  },
  {
   "cell_type": "code",
   "execution_count": null,
   "metadata": {},
   "outputs": [],
   "source": []
  },
  {
   "cell_type": "code",
   "execution_count": null,
   "metadata": {},
   "outputs": [],
   "source": [
    "# if we do this what happens to the \"666\" object?\n",
    "i = 0"
   ]
  },
  {
   "cell_type": "code",
   "execution_count": null,
   "metadata": {},
   "outputs": [],
   "source": []
  },
  {
   "cell_type": "code",
   "execution_count": null,
   "metadata": {},
   "outputs": [],
   "source": [
    "# Strings:\n",
    "name = \"Fred\"  # All these lines are equivilant\n",
    "name = 'Fred'\n",
    "name = 'Fr' \"ed\"  # Auto concatenated (not used often)\n",
    "print(name)"
   ]
  },
  {
   "cell_type": "code",
   "execution_count": null,
   "metadata": {},
   "outputs": [],
   "source": [
    "name + ' Blogs\\n' * 5 # Yes you can multiple strings"
   ]
  },
  {
   "cell_type": "code",
   "execution_count": null,
   "metadata": {},
   "outputs": [],
   "source": [
    "print(name + ' Blogs\\n' * 5)   # Printed instead of evaluated so that the \\n gets rendered"
   ]
  },
  {
   "cell_type": "code",
   "execution_count": null,
   "metadata": {},
   "outputs": [],
   "source": []
  },
  {
   "cell_type": "code",
   "execution_count": null,
   "metadata": {},
   "outputs": [],
   "source": [
    "# You can also assign variables in loops:\n",
    "greeting = 'Hello World'   # The string is assigned to the greeting variable\n",
    "for char in greeting:      # We loop through the string assigning each character to variable char\n",
    "    print(char)"
   ]
  },
  {
   "cell_type": "code",
   "execution_count": null,
   "metadata": {},
   "outputs": [],
   "source": []
  },
  {
   "cell_type": "code",
   "execution_count": null,
   "metadata": {},
   "outputs": [],
   "source": []
  },
  {
   "cell_type": "code",
   "execution_count": null,
   "metadata": {},
   "outputs": [],
   "source": []
  },
  {
   "cell_type": "markdown",
   "metadata": {},
   "source": [
    "## Types"
   ]
  },
  {
   "cell_type": "markdown",
   "metadata": {},
   "source": [
    "* There are 6 main data types Boolean, Numeric, Strings, List, Tuple, Dictionary\n",
    "* You can store any of them in the same variable because Python is dynamically typed"
   ]
  },
  {
   "cell_type": "code",
   "execution_count": null,
   "metadata": {},
   "outputs": [],
   "source": [
    "name = True   # Boolean\n",
    "name = 15     # Integer\n",
    "name = 1.234  # float\n",
    "name = 'Burt' # String\n",
    "# At this point it is likely that \"15\" and the \"True\" above still exist. \n",
    "# But they are not accessable because no symbol is pointing to the object.\n",
    "# \"Garbage collection\" runs intermittently reclaiming such orphaned object space\"\n",
    "print(name)"
   ]
  },
  {
   "cell_type": "code",
   "execution_count": null,
   "metadata": {},
   "outputs": [],
   "source": [
    "# There are also binary strings:\n",
    "string_from_file = b'abcdefghi'\n",
    "string_from_file"
   ]
  },
  {
   "cell_type": "code",
   "execution_count": null,
   "metadata": {},
   "outputs": [],
   "source": []
  },
  {
   "cell_type": "code",
   "execution_count": null,
   "metadata": {},
   "outputs": [],
   "source": [
    "# An example of a list:\n",
    "fruits = [ 'apple', 'orange', 'pear' ]\n",
    "print(fruits)\n",
    "fruits[1]"
   ]
  },
  {
   "cell_type": "code",
   "execution_count": null,
   "metadata": {},
   "outputs": [],
   "source": []
  },
  {
   "cell_type": "code",
   "execution_count": null,
   "metadata": {},
   "outputs": [],
   "source": [
    "# An example of a tuple:\n",
    "primes = (1 , 3, 5, 7, 9)\n",
    "print(primes)\n",
    "primes[3]"
   ]
  },
  {
   "cell_type": "code",
   "execution_count": null,
   "metadata": {},
   "outputs": [],
   "source": []
  },
  {
   "cell_type": "code",
   "execution_count": null,
   "metadata": {},
   "outputs": [],
   "source": [
    "# An example of a dictionary:\n",
    "num2words = { 1: 'one', 2:'two', 3:'three' }\n",
    "print(num2words[2])\n",
    "num2words"
   ]
  },
  {
   "cell_type": "code",
   "execution_count": null,
   "metadata": {},
   "outputs": [],
   "source": [
    "# Another example of a dictionary:\n",
    "word2nums = { 'one': 1, 'two': 2, 'three': 3 }\n",
    "print(word2nums['three'])\n",
    "word2nums"
   ]
  },
  {
   "cell_type": "code",
   "execution_count": null,
   "metadata": {},
   "outputs": [],
   "source": []
  },
  {
   "cell_type": "code",
   "execution_count": null,
   "metadata": {},
   "outputs": [],
   "source": []
  },
  {
   "cell_type": "code",
   "execution_count": null,
   "metadata": {},
   "outputs": [],
   "source": []
  },
  {
   "cell_type": "code",
   "execution_count": null,
   "metadata": {},
   "outputs": [],
   "source": [
    "# Note the underscores are allowed in a recent change of python 3.6 for literal groupings\n",
    "age = 18 # decimal\n",
    "age = 0x0000_0012 # hex\n",
    "age = 0o22 # octal\n",
    "age = 0b0001_0010 # binary\n",
    "age"
   ]
  },
  {
   "cell_type": "code",
   "execution_count": null,
   "metadata": {},
   "outputs": [],
   "source": [
    "# Remember Jupyter will output the last expression to the screen\n",
    "age = age + 1\n",
    "age += 1\n",
    "age -= 2\n",
    "age"
   ]
  },
  {
   "cell_type": "code",
   "execution_count": null,
   "metadata": {},
   "outputs": [],
   "source": [
    "# Floating point numbers\n",
    "f = 4.2\n",
    "f2 = 7.\n",
    "mypi = 3.141593\n",
    "print('%.3f' % mypi)  # Using a 'C' type print formatter to round the float"
   ]
  },
  {
   "cell_type": "markdown",
   "metadata": {},
   "source": [
    "See https://docs.python.org/3/library/stdtypes.html#old-string-formatting for formatting details"
   ]
  },
  {
   "cell_type": "code",
   "execution_count": null,
   "metadata": {},
   "outputs": [],
   "source": []
  },
  {
   "cell_type": "markdown",
   "metadata": {},
   "source": [
    "### Rounding etc:"
   ]
  },
  {
   "cell_type": "code",
   "execution_count": null,
   "metadata": {},
   "outputs": [],
   "source": [
    "round(3/2)"
   ]
  },
  {
   "cell_type": "code",
   "execution_count": null,
   "metadata": {},
   "outputs": [],
   "source": [
    "round(1.49)"
   ]
  },
  {
   "cell_type": "code",
   "execution_count": null,
   "metadata": {},
   "outputs": [],
   "source": [
    "3 // 2"
   ]
  },
  {
   "cell_type": "code",
   "execution_count": null,
   "metadata": {},
   "outputs": [],
   "source": [
    "import math\n",
    "math.ceil(1.49)"
   ]
  },
  {
   "cell_type": "code",
   "execution_count": null,
   "metadata": {},
   "outputs": [],
   "source": []
  },
  {
   "cell_type": "markdown",
   "metadata": {},
   "source": [
    "### Maximum numbers:"
   ]
  },
  {
   "cell_type": "code",
   "execution_count": null,
   "metadata": {},
   "outputs": [],
   "source": [
    "# Maximum sizes of ints /floats\n",
    "# In Python2 you can use sys.maxint\n",
    "# Python3 the int size is unbounded and only limited by memory\n",
    "import sys\n",
    "print(sys.int_info)\n",
    "print(sys.float_info)\n",
    "print(sys.maxsize)"
   ]
  },
  {
   "cell_type": "markdown",
   "metadata": {},
   "source": [
    "Most Python platforms represent *float* values as 64-bit double precision.  Approximately 1.8 x 10<sup>308</sup>.<br>\n",
    "The closest a nonzero number can be to zero is approximately 5.0 ⨉ 10<sup>-324</sup>.\n",
    "\n",
    "Floating point numbers are represented internally as binary (base-2) fractions. Most decimal fractions cannot be represented exactly as binary fractions, so in most cases the internal representation of a floating-point number is an approximation of the actual value. In practice, the difference between the actual value and the represented value is very small and should not usually cause significant problems."
   ]
  },
  {
   "cell_type": "code",
   "execution_count": null,
   "metadata": {},
   "outputs": [],
   "source": [
    "42e3"
   ]
  },
  {
   "cell_type": "code",
   "execution_count": null,
   "metadata": {},
   "outputs": [],
   "source": [
    "42e-3"
   ]
  },
  {
   "cell_type": "code",
   "execution_count": null,
   "metadata": {},
   "outputs": [],
   "source": [
    "1.79e308 # maximum float precision"
   ]
  },
  {
   "cell_type": "code",
   "execution_count": null,
   "metadata": {},
   "outputs": [],
   "source": [
    "1.8e308 # > 1.8 x (10 ** 308) becomes infinate"
   ]
  },
  {
   "cell_type": "code",
   "execution_count": null,
   "metadata": {},
   "outputs": [],
   "source": [
    "5e-324   # minimum float precision  "
   ]
  },
  {
   "cell_type": "code",
   "execution_count": null,
   "metadata": {},
   "outputs": [],
   "source": [
    "5e-325   # below this will print 0 "
   ]
  },
  {
   "cell_type": "code",
   "execution_count": null,
   "metadata": {},
   "outputs": [],
   "source": []
  },
  {
   "cell_type": "code",
   "execution_count": null,
   "metadata": {},
   "outputs": [],
   "source": []
  },
  {
   "cell_type": "code",
   "execution_count": null,
   "metadata": {},
   "outputs": [],
   "source": []
  },
  {
   "cell_type": "markdown",
   "metadata": {},
   "source": [
    "### Complex Numbers\n",
    "A complex number is specified as real_part + imaginary_part, where the imaginary_part is written with a j or J."
   ]
  },
  {
   "cell_type": "code",
   "execution_count": null,
   "metadata": {},
   "outputs": [],
   "source": [
    "# Following numbers are complex numbers\n",
    "x = 2j\n",
    "y = 3+4j\n",
    "y"
   ]
  },
  {
   "cell_type": "code",
   "execution_count": null,
   "metadata": {},
   "outputs": [],
   "source": [
    "x = 3+4j\n",
    "print(x.real)\n",
    "print(x.imag)"
   ]
  },
  {
   "cell_type": "code",
   "execution_count": null,
   "metadata": {},
   "outputs": [],
   "source": []
  },
  {
   "cell_type": "code",
   "execution_count": null,
   "metadata": {},
   "outputs": [],
   "source": []
  },
  {
   "cell_type": "code",
   "execution_count": null,
   "metadata": {},
   "outputs": [],
   "source": []
  },
  {
   "cell_type": "markdown",
   "metadata": {},
   "source": [
    "### Operators:"
   ]
  },
  {
   "cell_type": "code",
   "execution_count": null,
   "metadata": {},
   "outputs": [],
   "source": [
    "# The arithmetic operators +, -, *, /, %, **, //\n",
    "# ** Exponential calculation\n",
    "# // Floor Division\n",
    "print(\"5 + 2 =\", 5 + 2)\n",
    "print(\"5 - 2 =\", 5 - 2)\n",
    "print(\"5 * 2 =\", 5 * 2)\n",
    "print(\"5 / 2 =\", 5 /  2)\n",
    "print(\"5 % 2 =\", 5 % 2)   # Modulas or remainder\n",
    "print(\"5 ** 3 =\", 5 ** 3) # or \n",
    "print(\"5 // 2 =\", 5 // 2)"
   ]
  },
  {
   "cell_type": "code",
   "execution_count": null,
   "metadata": {},
   "outputs": [],
   "source": []
  },
  {
   "cell_type": "code",
   "execution_count": null,
   "metadata": {},
   "outputs": [],
   "source": [
    "# Bitwise operators\n",
    "print(1 << 5)\n",
    "print(16 >> 2)\n",
    "print(2 & 3)\n",
    "print(2 | 3)\n",
    "print(2 ^ 3) # XOR\n",
    "print(~2) # Compliment (switch 0 for 1 and 1 for 0, same as -x - 1."
   ]
  },
  {
   "cell_type": "code",
   "execution_count": null,
   "metadata": {},
   "outputs": [],
   "source": []
  },
  {
   "cell_type": "code",
   "execution_count": null,
   "metadata": {},
   "outputs": [],
   "source": [
    "# Precidence: Normal order of Operation states * and / is performed before + and -\n",
    " \n",
    "print(\"1 + 2 - 3 * 2 =\", 1 + 2 - 3 * 2)\n",
    "print(\"(1 + 2 - 3) * 2 =\", (1 + 2 - 3) * 2)"
   ]
  },
  {
   "cell_type": "code",
   "execution_count": null,
   "metadata": {},
   "outputs": [],
   "source": []
  },
  {
   "cell_type": "markdown",
   "metadata": {},
   "source": [
    "## Strings"
   ]
  },
  {
   "cell_type": "code",
   "execution_count": null,
   "metadata": {},
   "outputs": [],
   "source": [
    "# A string is a string of characters surrounded by \" or '\n",
    "# If you must use a \" or ' between the same quote escape it with \\\n",
    "quote = 'This is a way to \"enclose\" quotes'\n",
    "quote = \"And this is the 'other' way\"\n",
    "quote = \"\\\"Always\\\" remember your unique,\"\n",
    "quote"
   ]
  },
  {
   "cell_type": "code",
   "execution_count": null,
   "metadata": {},
   "outputs": [],
   "source": [
    "# A multi-line quote\n",
    "multi_line_quote = ''' just\n",
    "like everyone else\" '''\n",
    "multi_line_quote"
   ]
  },
  {
   "cell_type": "code",
   "execution_count": null,
   "metadata": {},
   "outputs": [],
   "source": [
    "print(quote + multi_line_quote)"
   ]
  },
  {
   "cell_type": "code",
   "execution_count": null,
   "metadata": {},
   "outputs": [],
   "source": []
  },
  {
   "cell_type": "code",
   "execution_count": null,
   "metadata": {},
   "outputs": [],
   "source": [
    "# The old method to embed a string in output using %s and \"print formatters\" \n",
    "print(\"%s %s %s\" % ('I like the quote', quote, multi_line_quote))"
   ]
  },
  {
   "cell_type": "code",
   "execution_count": null,
   "metadata": {},
   "outputs": [],
   "source": []
  },
  {
   "cell_type": "code",
   "execution_count": null,
   "metadata": {},
   "outputs": [],
   "source": [
    "# To keep from printing newlines use end=\"\"\n",
    "print(\"I don't like \", end=\"\")\n",
    "print(\"newlines\")"
   ]
  },
  {
   "cell_type": "code",
   "execution_count": null,
   "metadata": {},
   "outputs": [],
   "source": []
  },
  {
   "cell_type": "code",
   "execution_count": null,
   "metadata": {},
   "outputs": [],
   "source": [
    "# By default strings are unicode\n",
    "s1 = 'this is a test string' # this is a string type, and since 3.3 you can also explicitly prefix with a 'u'\n",
    "s2 = b'this is a test string'  # this is a bytes type and can only contain ascii characters\n",
    "print('s1 type =', type(s1))\n",
    "print('s2 type =', type(s2))\n",
    "print(s1)\n",
    "print(s2)\n",
    "print(s1==s2)\n",
    "# You can encode unicode strings into bytes:\n",
    "print('s1 encoded:', s1.encode()) # As no encoding passed UTF-8 is used by default\n",
    "# And the other way around\n",
    "print(s1==s2.decode())"
   ]
  },
  {
   "cell_type": "code",
   "execution_count": null,
   "metadata": {},
   "outputs": [],
   "source": [
    "import chardet\n",
    "x = b'\\xe6\\xa0\\xaa\\xe5\\xbc\\x8f\\xe4\\xbc\\x9a\\xe7\\xa4\\xbe\\xe6\\x97\\xa5\\xe7\\xab\\x8b\\xe8\\xa3\\xbd\\xe4\\xbd\\x9c\\xe6\\x89\\x80'\n",
    "print('x =', x)\n",
    "print('x type =', type(x))\n",
    "print(f'x bytes len:{len(x)}')\n",
    "print(chardet.detect(x))\n",
    "s = x.decode()\n",
    "print(s)\n",
    "print('s type =', type(s))\n",
    "print(f's len:{len(s)}')\n",
    "tobytes = s.encode()\n",
    "print('tobytes =', tobytes)"
   ]
  },
  {
   "cell_type": "code",
   "execution_count": null,
   "metadata": {},
   "outputs": [],
   "source": [
    "s= 'Thats funny! \\N{SMILING FACE WITH OPEN MOUTH AND TIGHTLY-CLOSED EYES}'\n",
    "print(s)\n",
    "print(s.encode()) # default is utf-8\n",
    "print(s.encode('utf-16'))\n",
    "print(s.encode('utf-32'))\n",
    "print(s.encode('ascii','replace')) #Replaces with ?\n",
    "print(s.encode('ascii','namereplace')) #Replaces with Unicode name\n",
    "print(s.encode('latin-1')) # Default is 'strict' which generates an error"
   ]
  },
  {
   "cell_type": "code",
   "execution_count": null,
   "metadata": {},
   "outputs": [],
   "source": []
  },
  {
   "cell_type": "code",
   "execution_count": null,
   "metadata": {},
   "outputs": [],
   "source": []
  },
  {
   "cell_type": "code",
   "execution_count": null,
   "metadata": {},
   "outputs": [],
   "source": []
  },
  {
   "cell_type": "markdown",
   "metadata": {},
   "source": [
    "## Type conversion"
   ]
  },
  {
   "cell_type": "code",
   "execution_count": null,
   "metadata": {},
   "outputs": [],
   "source": [
    "s = '23'\n",
    "int(s)   # Convert a string to a integer"
   ]
  },
  {
   "cell_type": "code",
   "execution_count": null,
   "metadata": {},
   "outputs": [],
   "source": [
    "int(1.9)   # Convert a float to an integer"
   ]
  },
  {
   "cell_type": "code",
   "execution_count": null,
   "metadata": {},
   "outputs": [],
   "source": [
    "str(13) * 5"
   ]
  },
  {
   "cell_type": "code",
   "execution_count": null,
   "metadata": {},
   "outputs": [],
   "source": [
    "float(3)"
   ]
  },
  {
   "cell_type": "code",
   "execution_count": null,
   "metadata": {},
   "outputs": [],
   "source": [
    "float('1.2')"
   ]
  },
  {
   "cell_type": "code",
   "execution_count": null,
   "metadata": {},
   "outputs": [],
   "source": []
  },
  {
   "cell_type": "code",
   "execution_count": null,
   "metadata": {},
   "outputs": [],
   "source": [
    "n = 21\n",
    "blackjack = 'Pontoon ' + str(n)\n",
    "print(type(n), type(blackjack))\n",
    "print(blackjack)"
   ]
  },
  {
   "cell_type": "code",
   "execution_count": null,
   "metadata": {},
   "outputs": [],
   "source": [
    "age = '34'\n",
    "print('Mark is %s' % age)\n",
    "print('But this might be hex %d' % int(age, 16))"
   ]
  },
  {
   "cell_type": "code",
   "execution_count": null,
   "metadata": {},
   "outputs": [],
   "source": []
  },
  {
   "cell_type": "code",
   "execution_count": null,
   "metadata": {},
   "outputs": [],
   "source": []
  },
  {
   "cell_type": "markdown",
   "metadata": {},
   "source": [
    "# Exercise:\n",
    "1. Create a `mypackage` directory under your `<%USERPROFILE%>\\pytut` directory.\n",
    "1. Start VScode in this directory, or \"Open Folder\" and open the `mypackage` directory.\n",
    "1. Get familiar with the VScode file explorer, create a few files, directories and then delete them afterwards.\n",
    "1. Press `<Ctrl>+<Shift>+P` to open the command pallete, then look or search for `Python: Select Interpreter`.\n",
    "    - Select the Anaconda or preferred installed Python.   \n",
    "    \n",
    "    \n",
    "5. Start a `Terminal => New Terminal`.\n",
    "    - This should start a `CMD.exe` but might start PowerShell.\n",
    "    - If prefered select the dropdown from the top center of the new terminal and set the default to `CMD.exe` or your preferred shell.   \n",
    "    \n",
    "1. In the terminal you can execute commands, try the following:\n",
    "\n",
    "```\n",
    "dir\n",
    "Python\n",
    "import sys\n",
    "print(sys.version)\n",
    "print(sys.executable)\n",
    "exit()\n",
    "```\n",
    "\n",
    "7. In your `mypackage` directory create a `hello.py` new file and add this code:\n",
    "\n",
    "```python\n",
    "name = 'World'\n",
    "for i in range(1,6):\n",
    "    msg = 'Hello ' + name + ' ' + str(i)\n",
    "    print(msg)\n",
    "```\n",
    "\n",
    "10. Save the new file and then run the script by clicking the green arrow (top right) or right clicking the file in the editor and selecting 'Run python file in terminal\"\n",
    "1. On line `#4` (print statement) of the script set a breakpoint by clicking and making a red dot in the gutter to left of the line number.\n",
    "1. Run the code in the debugger:\n",
    "    1. Find the Debug Icon, hover over each icon on the left until you find \"Run and Debug\" or press `<Ctrl>+<Shift>+D`.\n",
    "    1. Select \"Run and Debug\" and \"Python File\".\n",
    "    1. The script will start executing in a new \"Python Debug Console\", and stop at the print.\n",
    "    1. Using the debugger button bar now shown at top center of the editor you can hover each button and select `step over` a number of times and observe the execution.\n",
    "    1. Step through a couple of times to see the variables change and output generated in the terminal window.\n",
    "    1. Select the \"DEBUG CONSOLE\" in the Terminal area and type `msg` to output its current value.  Type `i` to output its current value.\n",
    "    1. Change the `i` with `i = 1`.\n",
    "    1. Switch Back to \"Python Debug Console\".\n",
    "    1. Continue to step over.\n",
    "\n",
    "1. Play around with the Debugger for a while.\n"
   ]
  },
  {
   "cell_type": "code",
   "execution_count": null,
   "metadata": {},
   "outputs": [],
   "source": []
  },
  {
   "cell_type": "code",
   "execution_count": null,
   "metadata": {},
   "outputs": [],
   "source": []
  },
  {
   "cell_type": "code",
   "execution_count": null,
   "metadata": {},
   "outputs": [],
   "source": []
  }
 ],
 "metadata": {
  "kernelspec": {
   "display_name": "Python 3",
   "language": "python",
   "name": "python3"
  },
  "language_info": {
   "codemirror_mode": {
    "name": "ipython",
    "version": 3
   },
   "file_extension": ".py",
   "mimetype": "text/x-python",
   "name": "python",
   "nbconvert_exporter": "python",
   "pygments_lexer": "ipython3",
   "version": "3.8.5"
  }
 },
 "nbformat": 4,
 "nbformat_minor": 2
}
