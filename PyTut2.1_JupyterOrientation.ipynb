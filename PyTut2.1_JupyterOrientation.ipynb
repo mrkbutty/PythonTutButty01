{
 "cells": [
  {
   "cell_type": "markdown",
   "metadata": {},
   "source": [
    "# Python Interactive tutorial\n",
    "# Jupyter notebook orientation"
   ]
  },
  {
   "cell_type": "markdown",
   "metadata": {},
   "source": [
    "## Before continuing, please select menu option:  **Cell => All output => clear**"
   ]
  },
  {
   "cell_type": "code",
   "execution_count": null,
   "metadata": {},
   "outputs": [],
   "source": []
  },
  {
   "cell_type": "code",
   "execution_count": null,
   "metadata": {},
   "outputs": [],
   "source": []
  },
  {
   "cell_type": "markdown",
   "metadata": {},
   "source": [
    "#### Double click this cell to see the format of the markdown text before it is rendered.\n",
    "#### Then `<shift> + <enter>` to render again. \n",
    "\n",
    "Headings can be set to different levels using `#(space)` before the text:\n",
    "`# Heading1, ## Heading2, ### Heading3`:\n",
    "\n",
    "# Heading1\n",
    "## Heading2\n",
    "### Heading3\n",
    "\n",
    "A horizontal line is inserted with three hyphens `\"---\"` alone on it's own line:\n",
    "\n",
    "---\n",
    "```\n",
    "*italics*, **bold**:\n",
    "```\n",
    "> *italics*, **bold**\n",
    "\n",
    "```\n",
    "* Bullet points (unordered lists)\n",
    "* Are rendered by prefixing with \"*+-\" \n",
    "* They are auto indented depending on position\n",
    "    - So can be indented to \n",
    "        - different levels\n",
    "* You can also render ordered lists:\n",
    "1. One\n",
    "1. Two\n",
    "1. Three\n",
    "```\n",
    "> * Bullet points (unordered lists)\n",
    "> * Are rendered by prefixing with \"*+-\" \n",
    "> * They are auto indented depending on position\n",
    ">     - So can be indented to \n",
    ">         - different levels\n",
    "> * You can also render ordered lists:\n",
    "> 1. One\n",
    "> 1. Two\n",
    "> 1. Three\n",
    "\n",
    "Surround text with backticks to display explicitly:\n",
    "> \\``< render explicitly >`\\`\n",
    "\n",
    "To start new paragraphs leave a blank line.\n",
    "\n",
    "And to break a line put two spaces  \n",
    "on the end  \n",
    "\n",
    "## Exercise: Set one of the cells below to markup and try each of these examples above.\n",
    "Note: Markdown details available at: https://www.markdownguide.org/basic-syntax/"
   ]
  },
  {
   "cell_type": "code",
   "execution_count": null,
   "metadata": {},
   "outputs": [],
   "source": []
  },
  {
   "cell_type": "code",
   "execution_count": null,
   "metadata": {},
   "outputs": [],
   "source": []
  },
  {
   "cell_type": "code",
   "execution_count": null,
   "metadata": {},
   "outputs": [],
   "source": []
  },
  {
   "cell_type": "code",
   "execution_count": null,
   "metadata": {},
   "outputs": [],
   "source": []
  },
  {
   "cell_type": "code",
   "execution_count": null,
   "metadata": {},
   "outputs": [],
   "source": []
  },
  {
   "cell_type": "markdown",
   "metadata": {},
   "source": [
    "# Checking version, location etc, execute cell below with &lt;shift&gt; + &lt;enter&gt; "
   ]
  },
  {
   "cell_type": "code",
   "execution_count": null,
   "metadata": {},
   "outputs": [],
   "source": [
    "import sys\n",
    "print(sys.version)\n",
    "print(sys.version_info)\n",
    "print(sys.prefix)\n",
    "print(sys.executable)"
   ]
  },
  {
   "cell_type": "code",
   "execution_count": null,
   "metadata": {},
   "outputs": [],
   "source": []
  },
  {
   "cell_type": "code",
   "execution_count": null,
   "metadata": {},
   "outputs": [],
   "source": []
  },
  {
   "cell_type": "markdown",
   "metadata": {},
   "source": [
    "## Start here by executing each cell with &lt;shift&gt; + &lt;enter&gt; "
   ]
  },
  {
   "cell_type": "code",
   "execution_count": null,
   "metadata": {},
   "outputs": [],
   "source": [
    "# The python Hello world is just one line of code\n",
    "# print() outputs data to the screen\n",
    "print(\"Hello World\")\n",
    "# Notice the number increment within the \"In[x]\"\n",
    "# Execute this cell a few times and watch the kernel busy indicator at the top right"
   ]
  },
  {
   "cell_type": "code",
   "execution_count": null,
   "metadata": {},
   "outputs": [],
   "source": [
    "# Note book cells will output or \"render\" the last expression prefixed with \"Out[x]:\"\n",
    "# Run this a few times to see the \"In\" & \"Out\" increment.\n",
    "1\n",
    "2\n",
    "3\n",
    "'Evaluation of last expression' + ' in the cell will render output'"
   ]
  },
  {
   "cell_type": "code",
   "execution_count": null,
   "metadata": {},
   "outputs": [],
   "source": [
    "1+2   # <- This is executed but nothing is output and the result is not stored\n",
    "3+4   # <- This will be rendered"
   ]
  },
  {
   "cell_type": "code",
   "execution_count": null,
   "metadata": {},
   "outputs": [],
   "source": [
    "print(1+2)   # <- This time we print out the result\n",
    "3+4"
   ]
  },
  {
   "cell_type": "code",
   "execution_count": null,
   "metadata": {},
   "outputs": [],
   "source": []
  },
  {
   "cell_type": "code",
   "execution_count": null,
   "metadata": {},
   "outputs": [],
   "source": [
    "# Some stdio operations also render in the Jupyter notebook.\n",
    "# However, it can also tie up the console which case you can interrupt using kernel menu or the stop button.\n",
    "# Again watch the kernel indicator top right while executing this cell\n",
    "name = input('What is your name? ')\n",
    "print('Ow do ' + name + '!')"
   ]
  },
  {
   "cell_type": "code",
   "execution_count": null,
   "metadata": {},
   "outputs": [],
   "source": []
  },
  {
   "cell_type": "code",
   "execution_count": null,
   "metadata": {},
   "outputs": [],
   "source": [
    "# This is a single line comment\n",
    "'''\n",
    "This is a multi-line comment\n",
    "over two lines but can also be accessed as an object attribute\n",
    "It is known as a \"DocString\" and is used to provide docuementation \n",
    "and lookup capabilities.\n",
    "'''\n",
    "print('Bananas!')  # Code lines can be commented from the # onwards"
   ]
  },
  {
   "cell_type": "code",
   "execution_count": null,
   "metadata": {},
   "outputs": [],
   "source": [
    "def myfunction():   # Don't worry about function definitions for now\n",
    "    \"\"\"\n",
    "    The convention is to use double quotes for docstrings\n",
    "    But you could also use single quotes: ```\n",
    "    \"\"\"\n",
    "    pass"
   ]
  },
  {
   "cell_type": "code",
   "execution_count": null,
   "metadata": {},
   "outputs": [],
   "source": [
    "myfunction.__doc__"
   ]
  },
  {
   "cell_type": "code",
   "execution_count": null,
   "metadata": {},
   "outputs": [],
   "source": [
    "# Typically the docstring will describe the function:\n",
    "range?"
   ]
  },
  {
   "cell_type": "code",
   "execution_count": null,
   "metadata": {},
   "outputs": [],
   "source": [
    "# Also try pressing <shift> + <tab> with your cursor at the end of the enumerate:\n",
    "enumerate"
   ]
  },
  {
   "cell_type": "code",
   "execution_count": null,
   "metadata": {},
   "outputs": [],
   "source": []
  },
  {
   "cell_type": "markdown",
   "metadata": {},
   "source": [
    "## Exercise:\n",
    "* Answer each question in a seperate cell\n",
    "1. In a cell below, get an input (suggestion, favorite color).\n",
    "2. Print the answer\n",
    "3. In final line without using print output the sum of 13 x 77\n",
    "4. Add some single line and multiline comments to your code\n",
    "* Copy & paste your code into the chat once complete"
   ]
  },
  {
   "cell_type": "code",
   "execution_count": null,
   "metadata": {},
   "outputs": [],
   "source": [
    "#1\n"
   ]
  },
  {
   "cell_type": "code",
   "execution_count": null,
   "metadata": {},
   "outputs": [],
   "source": [
    "#2\n"
   ]
  },
  {
   "cell_type": "code",
   "execution_count": null,
   "metadata": {},
   "outputs": [],
   "source": [
    "#3\n"
   ]
  },
  {
   "cell_type": "code",
   "execution_count": null,
   "metadata": {},
   "outputs": [],
   "source": [
    "#4\n"
   ]
  },
  {
   "cell_type": "code",
   "execution_count": null,
   "metadata": {},
   "outputs": [],
   "source": []
  },
  {
   "cell_type": "code",
   "execution_count": null,
   "metadata": {},
   "outputs": [],
   "source": []
  },
  {
   "cell_type": "code",
   "execution_count": null,
   "metadata": {},
   "outputs": [],
   "source": []
  },
  {
   "cell_type": "code",
   "execution_count": null,
   "metadata": {},
   "outputs": [],
   "source": []
  }
 ],
 "metadata": {
  "kernelspec": {
   "display_name": "Python 3",
   "language": "python",
   "name": "python3"
  },
  "language_info": {
   "codemirror_mode": {
    "name": "ipython",
    "version": 3
   },
   "file_extension": ".py",
   "mimetype": "text/x-python",
   "name": "python",
   "nbconvert_exporter": "python",
   "pygments_lexer": "ipython3",
   "version": "3.8.5"
  }
 },
 "nbformat": 4,
 "nbformat_minor": 2
}
