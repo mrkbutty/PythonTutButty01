{
 "cells": [
  {
   "cell_type": "markdown",
   "metadata": {},
   "source": [
    "## Before continuing, please select menu option:  **Cell => All output => clear**"
   ]
  },
  {
   "cell_type": "code",
   "execution_count": null,
   "metadata": {},
   "outputs": [],
   "source": []
  },
  {
   "cell_type": "code",
   "execution_count": null,
   "metadata": {},
   "outputs": [],
   "source": []
  },
  {
   "cell_type": "code",
   "execution_count": null,
   "metadata": {},
   "outputs": [],
   "source": []
  },
  {
   "cell_type": "markdown",
   "metadata": {},
   "source": [
    "# Conditionals"
   ]
  },
  {
   "cell_type": "code",
   "execution_count": null,
   "metadata": {},
   "outputs": [],
   "source": [
    "# The if, else and elif statements are used to perform different\n",
    "# actions based off of conditions\n",
    "# Comparison Operators: ==, !=, >, <, >=, <="
   ]
  },
  {
   "cell_type": "code",
   "execution_count": null,
   "metadata": {},
   "outputs": [],
   "source": []
  },
  {
   "cell_type": "code",
   "execution_count": 2,
   "metadata": {},
   "outputs": [
    {
     "name": "stdout",
     "output_type": "stream",
     "text": [
      "Age? 18\n",
      "You are old enough to drive\n",
      "Woo hoo\n"
     ]
    }
   ],
   "source": [
    "age = int(input('Age? '))\n",
    "if age > 17:\n",
    "    print('You are old enough to drive')\n",
    "    pass\n",
    "    print('Woo hoo')"
   ]
  },
  {
   "cell_type": "code",
   "execution_count": null,
   "metadata": {},
   "outputs": [],
   "source": []
  },
  {
   "cell_type": "code",
   "execution_count": 3,
   "metadata": {},
   "outputs": [
    {
     "name": "stdout",
     "output_type": "stream",
     "text": [
      "Age? 8\n",
      "You are not old enough to drive\n"
     ]
    }
   ],
   "source": [
    "# Use an if statement if you want to execute different code regardless\n",
    "# of whether the condition ws met or not\n",
    "\n",
    "age = int(input('Age? '))\n",
    "if age > 17:\n",
    "    print('You are old enough to drive')\n",
    "else:\n",
    "    print('You are not old enough to drive')\n",
    "    pass\n",
    "    # do something else"
   ]
  },
  {
   "cell_type": "code",
   "execution_count": null,
   "metadata": {},
   "outputs": [],
   "source": []
  },
  {
   "cell_type": "code",
   "execution_count": 4,
   "metadata": {},
   "outputs": [
    {
     "name": "stdout",
     "output_type": "stream",
     "text": [
      "Age? 15\n",
      "You are not old enough to drive\n"
     ]
    }
   ],
   "source": [
    "# If you want to check for multiple conditions use elif\n",
    "# If the first matches it won't check other conditions that follow\n",
    "\n",
    "age = int(input('Age? '))\n",
    "if age >= 21:\n",
    "    print('You are old enough to drive a tracked vehicle')\n",
    "elif age >= 17:\n",
    "    print('You are old enough to drive a car')\n",
    "else:\n",
    "    print('You are not old enough to drive')"
   ]
  },
  {
   "cell_type": "code",
   "execution_count": null,
   "metadata": {},
   "outputs": [],
   "source": []
  },
  {
   "cell_type": "code",
   "execution_count": null,
   "metadata": {},
   "outputs": [],
   "source": [
    "# You can combine conditions with logical operators\n",
    "# Logical Operators: and, or, not\n",
    "\n",
    "age = int(input('Age? '))\n",
    "if age >= 1 and age <= 18:\n",
    "    print(\"You get a birthday party, with balloons and cake.\")\n",
    "elif age == 21 or age >= 65:\n",
    "    print(\"You get a birthday party\")\n",
    "elif not(age == 30):\n",
    "    print(\"You don't get a birthday party\")\n",
    "else:\n",
    "    print(\"You get a birthday party, yeah\")"
   ]
  },
  {
   "cell_type": "code",
   "execution_count": null,
   "metadata": {},
   "outputs": [],
   "source": []
  },
  {
   "cell_type": "code",
   "execution_count": 17,
   "metadata": {},
   "outputs": [
    {
     "name": "stdout",
     "output_type": "stream",
     "text": [
      "yes\n"
     ]
    }
   ],
   "source": [
    "x = 6\n",
    "if x > 1 and (x > 5 or x < 10):\n",
    "    print('yes')"
   ]
  },
  {
   "cell_type": "code",
   "execution_count": 18,
   "metadata": {},
   "outputs": [
    {
     "name": "stdout",
     "output_type": "stream",
     "text": [
      "First number? 3\n",
      "Second number? 5\n",
      "Answer is 2\n"
     ]
    }
   ],
   "source": [
    "# Remember that python code uses block indentation:\n",
    "a = int(input('First number? '))\n",
    "b = int(input('Second number? '))\n",
    "\n",
    "if a > b:\n",
    "    c = a -b\n",
    "    print('Answer is', c)\n",
    "elif b > a:\n",
    "    c = b - a\n",
    "    print('Answer is', c)\n",
    "else:\n",
    "    print(\"I don't know what to do!\")\n",
    "    print('a is', a)\n",
    "    print('b is', b)\n",
    "    print('Which one to I take away from the other?')\n",
    "    \n"
   ]
  },
  {
   "cell_type": "code",
   "execution_count": null,
   "metadata": {},
   "outputs": [],
   "source": []
  },
  {
   "cell_type": "code",
   "execution_count": 21,
   "metadata": {},
   "outputs": [
    {
     "data": {
      "text/plain": [
       "0"
      ]
     },
     "execution_count": 21,
     "metadata": {},
     "output_type": "execute_result"
    }
   ],
   "source": [
    "# assignment if/else\n",
    "x = False\n",
    "y = 10 if x else 0\n",
    "y"
   ]
  },
  {
   "cell_type": "code",
   "execution_count": null,
   "metadata": {},
   "outputs": [],
   "source": []
  },
  {
   "cell_type": "code",
   "execution_count": null,
   "metadata": {},
   "outputs": [],
   "source": []
  },
  {
   "cell_type": "markdown",
   "metadata": {},
   "source": [
    "### Truth value testing\n",
    "* Any object can be tested for truth\n",
    "* By default an object is usually considered true unless they have either\n",
    "    * A method \\_\\_bool\\_\\_ which returns False\n",
    "    * A method \\_\\_len\\_\\_ which returns 0"
   ]
  },
  {
   "cell_type": "code",
   "execution_count": 22,
   "metadata": {},
   "outputs": [
    {
     "name": "stdout",
     "output_type": "stream",
     "text": [
      "Its True that it is not False!!!\n"
     ]
    }
   ],
   "source": [
    "# Invert (not) the True to False;\n",
    "if not True: print('Its True!!!')\n",
    "else: print('Its True that it is not False!!!')"
   ]
  },
  {
   "cell_type": "code",
   "execution_count": 23,
   "metadata": {},
   "outputs": [
    {
     "name": "stdout",
     "output_type": "stream",
     "text": [
      "Its True it is False!!!\n"
     ]
    }
   ],
   "source": [
    "# Invert the False to be true;\n",
    "if not False: print('Its True it is False!!!')"
   ]
  },
  {
   "cell_type": "code",
   "execution_count": 26,
   "metadata": {},
   "outputs": [
    {
     "name": "stdout",
     "output_type": "stream",
     "text": [
      "x is set\n",
      "Its True it is False!!!\n"
     ]
    }
   ],
   "source": [
    "x = None\n",
    "\n",
    "if not x:\n",
    "    x = 1\n",
    "    print('x is set')\n",
    "    \n",
    "# Many types can be defined as False;\n",
    "if not None: print('Its True it is False!!!')"
   ]
  },
  {
   "cell_type": "code",
   "execution_count": 27,
   "metadata": {},
   "outputs": [
    {
     "name": "stdout",
     "output_type": "stream",
     "text": [
      "Its True it is False!!!\n",
      "Its True it is False!!!\n",
      "Its True it is False!!!\n",
      "Its True it is False!!!\n",
      "Its True it is False!!!\n"
     ]
    }
   ],
   "source": [
    "#Empty sequences and colelctions;\n",
    "if not '': print('Its True it is False!!!')\n",
    "if not []: print('Its True it is False!!!')\n",
    "if not (): print('Its True it is False!!!')\n",
    "if not {}: print('Its True it is False!!!')\n",
    "if not range(0): print('Its True it is False!!!')"
   ]
  },
  {
   "cell_type": "code",
   "execution_count": 30,
   "metadata": {},
   "outputs": [
    {
     "data": {
      "text/plain": [
       "[]"
      ]
     },
     "execution_count": 30,
     "metadata": {},
     "output_type": "execute_result"
    }
   ],
   "source": [
    "list(range(0))"
   ]
  },
  {
   "cell_type": "code",
   "execution_count": 35,
   "metadata": {},
   "outputs": [],
   "source": [
    "# The assert statement checks for truth and raises an error if false\n",
    "# It is only executed in debug mode (unless running with -O to remove __debug__ code)\n",
    "assert True"
   ]
  },
  {
   "cell_type": "code",
   "execution_count": 36,
   "metadata": {},
   "outputs": [
    {
     "ename": "AssertionError",
     "evalue": "",
     "output_type": "error",
     "traceback": [
      "\u001b[1;31m---------------------------------------------------------------------------\u001b[0m",
      "\u001b[1;31mAssertionError\u001b[0m                            Traceback (most recent call last)",
      "\u001b[1;32m<ipython-input-36-a871fdc9ebee>\u001b[0m in \u001b[0;36m<module>\u001b[1;34m\u001b[0m\n\u001b[1;32m----> 1\u001b[1;33m \u001b[1;32massert\u001b[0m \u001b[1;32mFalse\u001b[0m\u001b[1;33m\u001b[0m\u001b[1;33m\u001b[0m\u001b[0m\n\u001b[0m",
      "\u001b[1;31mAssertionError\u001b[0m: "
     ]
    }
   ],
   "source": [
    "assert False"
   ]
  },
  {
   "cell_type": "code",
   "execution_count": 34,
   "metadata": {},
   "outputs": [],
   "source": [
    "def myfunc():\n",
    "    return 2\n",
    "\n",
    "assert myfunc() == 2"
   ]
  },
  {
   "cell_type": "code",
   "execution_count": null,
   "metadata": {},
   "outputs": [],
   "source": []
  },
  {
   "cell_type": "markdown",
   "metadata": {},
   "source": [
    "## Exercise:\n",
    "* Some of these questions may benefit from breaking the problem down into small parts and working on each part in seperate cells.\n",
    "1. Write some code which asks for the number of wheels and maximum number of passengers (including the driver) and then make a **simple guess** of the vehicle type from the following:\n",
    " - Unicycle, bicycle, car, bus, train, unknown\n",
    " \n",
    " \n",
    "1. Write some code to convert inputed temperature to and from both celsius, fahrenheit.\n",
    " - Round the answers to whole values\n",
    " - C = (9 * F) / 5 + 32\n",
    " - F = (C - 32) * 5 / 9\n",
    " - Accept input suffixed with type, C or F, e.g. 60C\n",
    " - Expected Output :\n",
    "    - 60C is 140 in Fahrenheit\n",
    "    - 45F is 7 in Celsius\n",
    "* Copy & paste your answers into chat once completed"
   ]
  },
  {
   "cell_type": "code",
   "execution_count": null,
   "metadata": {},
   "outputs": [],
   "source": []
  },
  {
   "cell_type": "code",
   "execution_count": null,
   "metadata": {},
   "outputs": [],
   "source": []
  },
  {
   "cell_type": "code",
   "execution_count": null,
   "metadata": {},
   "outputs": [],
   "source": []
  },
  {
   "cell_type": "code",
   "execution_count": null,
   "metadata": {},
   "outputs": [],
   "source": []
  },
  {
   "cell_type": "code",
   "execution_count": 42,
   "metadata": {},
   "outputs": [],
   "source": [
    "# %load answers/wheels.py"
   ]
  },
  {
   "cell_type": "code",
   "execution_count": null,
   "metadata": {},
   "outputs": [],
   "source": []
  },
  {
   "cell_type": "code",
   "execution_count": null,
   "metadata": {},
   "outputs": [],
   "source": []
  },
  {
   "cell_type": "code",
   "execution_count": null,
   "metadata": {},
   "outputs": [],
   "source": []
  },
  {
   "cell_type": "code",
   "execution_count": null,
   "metadata": {},
   "outputs": [],
   "source": []
  },
  {
   "cell_type": "code",
   "execution_count": null,
   "metadata": {},
   "outputs": [],
   "source": []
  },
  {
   "cell_type": "code",
   "execution_count": 48,
   "metadata": {},
   "outputs": [],
   "source": [
    "# %load answers/temperature.py"
   ]
  },
  {
   "cell_type": "code",
   "execution_count": null,
   "metadata": {},
   "outputs": [],
   "source": []
  },
  {
   "cell_type": "markdown",
   "metadata": {},
   "source": [
    "## Memory usage"
   ]
  },
  {
   "cell_type": "code",
   "execution_count": null,
   "metadata": {},
   "outputs": [],
   "source": [
    "dir?"
   ]
  },
  {
   "cell_type": "code",
   "execution_count": null,
   "metadata": {},
   "outputs": [],
   "source": [
    "dir()[-20:] # list of names in the current scope or dir([object]) to list attributes of the object "
   ]
  },
  {
   "cell_type": "code",
   "execution_count": null,
   "metadata": {},
   "outputs": [],
   "source": [
    "import collections\n",
    "dir(collections)[-10:]"
   ]
  },
  {
   "cell_type": "code",
   "execution_count": null,
   "metadata": {},
   "outputs": [],
   "source": [
    "def myfunc(x, y):\n",
    "    name = 'Joe'\n",
    "    print(locals()) # return a dictionary of current local symbol table\n",
    "    \n",
    "myfunc(1, 2)"
   ]
  },
  {
   "cell_type": "code",
   "execution_count": null,
   "metadata": {},
   "outputs": [],
   "source": [
    "globals() # Not really the globals, for a full list try gc.get_objects()"
   ]
  },
  {
   "cell_type": "code",
   "execution_count": null,
   "metadata": {},
   "outputs": [],
   "source": []
  },
  {
   "cell_type": "code",
   "execution_count": null,
   "metadata": {},
   "outputs": [],
   "source": []
  },
  {
   "cell_type": "code",
   "execution_count": null,
   "metadata": {},
   "outputs": [],
   "source": []
  }
 ],
 "metadata": {
  "kernelspec": {
   "display_name": "Python 3",
   "language": "python",
   "name": "python3"
  },
  "language_info": {
   "codemirror_mode": {
    "name": "ipython",
    "version": 3
   },
   "file_extension": ".py",
   "mimetype": "text/x-python",
   "name": "python",
   "nbconvert_exporter": "python",
   "pygments_lexer": "ipython3",
   "version": "3.8.5"
  }
 },
 "nbformat": 4,
 "nbformat_minor": 2
}
