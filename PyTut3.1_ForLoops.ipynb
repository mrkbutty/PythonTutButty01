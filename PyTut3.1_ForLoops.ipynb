{
 "cells": [
  {
   "cell_type": "markdown",
   "metadata": {},
   "source": [
    "## Before continuing, please select menu option:  **Cell => All output => clear**"
   ]
  },
  {
   "cell_type": "code",
   "execution_count": null,
   "metadata": {},
   "outputs": [],
   "source": []
  },
  {
   "cell_type": "code",
   "execution_count": null,
   "metadata": {},
   "outputs": [],
   "source": []
  },
  {
   "cell_type": "code",
   "execution_count": null,
   "metadata": {},
   "outputs": [],
   "source": []
  },
  {
   "cell_type": "markdown",
   "metadata": {},
   "source": [
    "# For Loops\n",
    "* Allows you to perform an action a set number of times\n",
    "* Usually used on iterator types; lists, tuples, or generators"
   ]
  },
  {
   "cell_type": "code",
   "execution_count": null,
   "metadata": {},
   "outputs": [],
   "source": []
  },
  {
   "cell_type": "code",
   "execution_count": null,
   "metadata": {},
   "outputs": [],
   "source": [
    "# As seen previously you can use for loops to cycle through a list:\n",
    "grocery_list = ['Juice', 'Tomatoes', 'Potatoes', 'Bananas']\n",
    " \n",
    "for i in grocery_list:\n",
    "    print(i)"
   ]
  },
  {
   "cell_type": "code",
   "execution_count": null,
   "metadata": {},
   "outputs": [],
   "source": []
  },
  {
   "cell_type": "code",
   "execution_count": null,
   "metadata": {},
   "outputs": [],
   "source": [
    "# And through tuples, dictionary keys etc:\n",
    "for x in (2, 4, 6, 8, 10):\n",
    "    if x == 6:\n",
    "        continue\n",
    "    print(x)"
   ]
  },
  {
   "cell_type": "code",
   "execution_count": null,
   "metadata": {},
   "outputs": [],
   "source": []
  },
  {
   "cell_type": "code",
   "execution_count": null,
   "metadata": {},
   "outputs": [],
   "source": [
    "# Or any object\n",
    "def myfunc():\n",
    "    pass\n",
    "\n",
    "for i in [2, 4.3, 'hello', (8, 10), myfunc]:\n",
    "    if type(i) == str:\n",
    "        print('There is a string in here:', i)\n",
    "    else:\n",
    "        print(i)"
   ]
  },
  {
   "cell_type": "code",
   "execution_count": null,
   "metadata": {},
   "outputs": [],
   "source": []
  },
  {
   "cell_type": "code",
   "execution_count": null,
   "metadata": {},
   "outputs": [],
   "source": [
    "# You can double up for loops to cycle through lists\n",
    "num_list =[[1, 2, 3],[10, 20, 30],[100, 200, 300]];\n",
    " \n",
    "for x in range(0, 3):\n",
    "    for y in range(0, 3):\n",
    "        print(num_list[x][y])"
   ]
  },
  {
   "cell_type": "code",
   "execution_count": null,
   "metadata": {},
   "outputs": [],
   "source": []
  },
  {
   "cell_type": "code",
   "execution_count": null,
   "metadata": {},
   "outputs": [],
   "source": [
    "for i, letter in enumerate('abcdefg'):  # using enumerate and unpacking into two variables\n",
    "    if i > 1 and i < 4:\n",
    "        continue\n",
    "    print(f'#{i} is {letter}')\n",
    "    if i > 4:\n",
    "        break"
   ]
  },
  {
   "cell_type": "code",
   "execution_count": null,
   "metadata": {},
   "outputs": [],
   "source": []
  },
  {
   "cell_type": "code",
   "execution_count": null,
   "metadata": {},
   "outputs": [],
   "source": [
    "names = ['Rita', 'Sue', 'Bob']\n",
    "for i, name in enumerate(names, 11):  # using enumerate you can p[ick the starting count\n",
    "    print(f'{i:04d}) {name}')"
   ]
  },
  {
   "cell_type": "code",
   "execution_count": null,
   "metadata": {},
   "outputs": [],
   "source": []
  },
  {
   "cell_type": "code",
   "execution_count": null,
   "metadata": {},
   "outputs": [],
   "source": [
    "# The range function is also commonly used in loops:\n",
    "for count in range(10):\n",
    "    print(count, end='')\n",
    "print()\n",
    "for odd in range(1, 11, 2):\n",
    "    print(odd)"
   ]
  },
  {
   "cell_type": "code",
   "execution_count": null,
   "metadata": {},
   "outputs": [],
   "source": [
    "# It is common to use range with lists and tuples:\n",
    "boys = 'Adam', 'Brian', 'Carl'\n",
    "for i in range(len(boys)):\n",
    "    print(boys[i])"
   ]
  },
  {
   "cell_type": "code",
   "execution_count": null,
   "metadata": {},
   "outputs": [],
   "source": []
  },
  {
   "cell_type": "markdown",
   "metadata": {},
   "source": [
    "## Exercise\n",
    "* Answer each question in a seperate cell\n",
    "1. Given the supplied colour_dict dictionary below step through it and print out each colour with it's code in a presentable format with aligned columns.\n",
    "    - Hint: `f'{x:>10s}'`\n",
    "1. Copy paste answer to #1 and modify to print an index for each colour starting at 1:\n",
    "    - for example 3rd item outputs as: `3)   black = #000000`\n",
    "1. Write a Python program to find those numbers which are both divisible by 7 and multiple of 5, between 1500 and 2700 (both included)\n",
    "* Copy & paste your answers into chat once completed"
   ]
  },
  {
   "cell_type": "code",
   "execution_count": null,
   "metadata": {},
   "outputs": [],
   "source": [
    "x = 'red'\n",
    "f'{x:>10s}'"
   ]
  },
  {
   "cell_type": "code",
   "execution_count": null,
   "metadata": {},
   "outputs": [],
   "source": [
    "colour_dict = {'red':'#FF0000',\n",
    "          'green':'#008000',\n",
    "          'black':'#000000',\n",
    "          'white':'#FFFFFF'}"
   ]
  },
  {
   "cell_type": "code",
   "execution_count": null,
   "metadata": {},
   "outputs": [],
   "source": [
    "#1\n"
   ]
  },
  {
   "cell_type": "code",
   "execution_count": null,
   "metadata": {},
   "outputs": [],
   "source": [
    "#2\n"
   ]
  },
  {
   "cell_type": "code",
   "execution_count": null,
   "metadata": {},
   "outputs": [],
   "source": [
    "#3\n"
   ]
  },
  {
   "cell_type": "code",
   "execution_count": null,
   "metadata": {},
   "outputs": [],
   "source": []
  },
  {
   "cell_type": "code",
   "execution_count": null,
   "metadata": {},
   "outputs": [],
   "source": []
  },
  {
   "cell_type": "code",
   "execution_count": null,
   "metadata": {},
   "outputs": [],
   "source": [
    "# %load answers/divide75.py"
   ]
  },
  {
   "cell_type": "code",
   "execution_count": null,
   "metadata": {},
   "outputs": [],
   "source": []
  }
 ],
 "metadata": {
  "kernelspec": {
   "display_name": "Python 3",
   "language": "python",
   "name": "python3"
  },
  "language_info": {
   "codemirror_mode": {
    "name": "ipython",
    "version": 3
   },
   "file_extension": ".py",
   "mimetype": "text/x-python",
   "name": "python",
   "nbconvert_exporter": "python",
   "pygments_lexer": "ipython3",
   "version": "3.8.5"
  }
 },
 "nbformat": 4,
 "nbformat_minor": 2
}
