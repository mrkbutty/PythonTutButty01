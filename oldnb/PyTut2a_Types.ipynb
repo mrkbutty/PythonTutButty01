{
 "cells": [
  {
   "cell_type": "markdown",
   "metadata": {},
   "source": [
    "# Python Interactive tutorial"
   ]
  },
  {
   "cell_type": "markdown",
   "metadata": {},
   "source": [
    "## Before continuing, please select menu option:  **Cell => All output => clear**"
   ]
  },
  {
   "cell_type": "code",
   "execution_count": null,
   "metadata": {},
   "outputs": [],
   "source": []
  },
  {
   "cell_type": "code",
   "execution_count": null,
   "metadata": {},
   "outputs": [],
   "source": []
  },
  {
   "cell_type": "markdown",
   "metadata": {},
   "source": [
    "#### Double click this cell to see the format of the markdown text before it is rendered.\n",
    "#### Then `<shift> + <enter>` to render again. \n",
    "\n",
    "Headings can be set to different levels using `#(space)` before the text:\n",
    "`# Heading1, ## Heading2, ### Heading3`:\n",
    "\n",
    "# Heading1\n",
    "## Heading2\n",
    "### Heading3\n",
    "\n",
    "A horizontal line is inserted with three hyphens `\"---\"` alone on it's own line:\n",
    "\n",
    "---\n",
    "```\n",
    "*italics*, **bold**:\n",
    "```\n",
    "> *italics*, **bold**\n",
    "\n",
    "```\n",
    "* Bullet points (unordered lists)\n",
    "* Are rendered by prefixing with \"*+-\" \n",
    "* They are auto indented depending on position\n",
    "    - So can be indented to \n",
    "        - different levels\n",
    "* You can also render ordered lists:\n",
    "1. One\n",
    "1. Two\n",
    "1. Three\n",
    "```\n",
    "> * Bullet points (unordered lists)\n",
    "> * Are rendered by prefixing with \"*+-\" \n",
    "> * They are auto indented depending on position\n",
    ">     - So can be indented to \n",
    ">         - different levels\n",
    "> * You can also render ordered lists:\n",
    "> 1. One\n",
    "> 1. Two\n",
    "> 1. Three\n",
    "\n",
    "Surround text with backticks to display explicitly:\n",
    "> \\``< render explicitly >`\\`\n",
    "\n",
    "To start new paragraphs leave a blank line.\n",
    "\n",
    "And to break a line put two spaces  \n",
    "on the end  \n",
    "\n",
    "## Exercise: Set one of the cells below to markup and try each of these examples above.\n",
    "Note: Markdown details available at: https://www.markdownguide.org/basic-syntax/"
   ]
  },
  {
   "cell_type": "code",
   "execution_count": null,
   "metadata": {},
   "outputs": [],
   "source": []
  },
  {
   "cell_type": "code",
   "execution_count": null,
   "metadata": {},
   "outputs": [],
   "source": []
  },
  {
   "cell_type": "code",
   "execution_count": null,
   "metadata": {},
   "outputs": [],
   "source": []
  },
  {
   "cell_type": "code",
   "execution_count": null,
   "metadata": {},
   "outputs": [],
   "source": []
  },
  {
   "cell_type": "code",
   "execution_count": null,
   "metadata": {},
   "outputs": [],
   "source": []
  },
  {
   "cell_type": "markdown",
   "metadata": {},
   "source": [
    "# Checking version, location etc, execute cell below with &lt;shift&gt; + &lt;enter&gt; "
   ]
  },
  {
   "cell_type": "code",
   "execution_count": null,
   "metadata": {},
   "outputs": [],
   "source": [
    "import sys\n",
    "print(sys.version)\n",
    "print(sys.version_info)\n",
    "print(sys.prefix)\n",
    "print(sys.executable)"
   ]
  },
  {
   "cell_type": "code",
   "execution_count": null,
   "metadata": {},
   "outputs": [],
   "source": []
  },
  {
   "cell_type": "code",
   "execution_count": null,
   "metadata": {},
   "outputs": [],
   "source": []
  },
  {
   "cell_type": "markdown",
   "metadata": {},
   "source": [
    "# Jupyter notebook orientation\n",
    "## Start here by executing each cell with &lt;shift&gt; + &lt;enter&gt; "
   ]
  },
  {
   "cell_type": "code",
   "execution_count": null,
   "metadata": {},
   "outputs": [],
   "source": [
    "# The python Hello world is just one line of code\n",
    "# print() outputs data to the screen\n",
    "print(\"Hello World\")\n",
    "# Notice the number increment within the \"In[x]\"\n",
    "# Execute this cell a few times and watch the kernel busy indicator at the top right"
   ]
  },
  {
   "cell_type": "code",
   "execution_count": null,
   "metadata": {},
   "outputs": [],
   "source": [
    "# Note book cells will output or \"render\" the last expression prefixed with \"Out[x]:\"\n",
    "# Run this a few times to see the \"In\" & \"Out\" increment.\n",
    "1\n",
    "2\n",
    "3\n",
    "'Evaluation of last expression' + ' in the cell will render output'"
   ]
  },
  {
   "cell_type": "code",
   "execution_count": null,
   "metadata": {},
   "outputs": [],
   "source": [
    "1+2   # <- This is executed but nothing is output and the result is not stored\n",
    "3+4   # <- This will be rendered"
   ]
  },
  {
   "cell_type": "code",
   "execution_count": null,
   "metadata": {},
   "outputs": [],
   "source": [
    "print(1+2)   # <- This time we print out the result\n",
    "3+4"
   ]
  },
  {
   "cell_type": "code",
   "execution_count": null,
   "metadata": {},
   "outputs": [],
   "source": []
  },
  {
   "cell_type": "code",
   "execution_count": null,
   "metadata": {},
   "outputs": [],
   "source": [
    "# Some stdio operations also render in the Jupyter notebook.\n",
    "# However, it can also tie up the console which case you can interrupt using kernel menu or the stop button.\n",
    "# Again watch the kernel indicator top right while executing this cell\n",
    "name = input('What is your name? ')\n",
    "print('Ow do ' + name + '!')"
   ]
  },
  {
   "cell_type": "code",
   "execution_count": null,
   "metadata": {},
   "outputs": [],
   "source": []
  },
  {
   "cell_type": "code",
   "execution_count": null,
   "metadata": {},
   "outputs": [],
   "source": [
    "# This is a single line comment\n",
    "'''\n",
    "This is a multi-line comment\n",
    "over two lines but can also be accessed as an object attribute\n",
    "It is known as a \"DocString\" and is used to provide docuementation \n",
    "and lookup capabilities.\n",
    "'''\n",
    "print('Bananas!')  # Code lines can be commented from the # onwards"
   ]
  },
  {
   "cell_type": "code",
   "execution_count": null,
   "metadata": {},
   "outputs": [],
   "source": [
    "def myfunction():   # Don't worry about function definitions for now\n",
    "    \"\"\"\n",
    "    The convention is to use double quotes for docstrings\n",
    "    But you could also use single quotes: ```\n",
    "    \"\"\"\n",
    "    pass"
   ]
  },
  {
   "cell_type": "code",
   "execution_count": null,
   "metadata": {},
   "outputs": [],
   "source": [
    "myfunction.__doc__"
   ]
  },
  {
   "cell_type": "code",
   "execution_count": null,
   "metadata": {},
   "outputs": [],
   "source": [
    "# Typically the docstring will describe the function:\n",
    "range?"
   ]
  },
  {
   "cell_type": "code",
   "execution_count": null,
   "metadata": {},
   "outputs": [],
   "source": [
    "# Also try pressing <shift> + <tab> with your cursor at the end of the enumerate:\n",
    "enumerate"
   ]
  },
  {
   "cell_type": "code",
   "execution_count": null,
   "metadata": {},
   "outputs": [],
   "source": []
  },
  {
   "cell_type": "markdown",
   "metadata": {},
   "source": [
    "## Exercise:\n",
    "* Answer each question in a seperate cell\n",
    "1. In a cell below, get an input (suggestion, favorite color).\n",
    "2. Print the answer\n",
    "3. In final line without using print output the sum of 13 x 77\n",
    "4. Add some single line and multiline comments to your code\n",
    "* Copy & paste your code into the chat once complete"
   ]
  },
  {
   "cell_type": "code",
   "execution_count": null,
   "metadata": {},
   "outputs": [],
   "source": [
    "#1\n"
   ]
  },
  {
   "cell_type": "code",
   "execution_count": null,
   "metadata": {},
   "outputs": [],
   "source": [
    "#2\n"
   ]
  },
  {
   "cell_type": "code",
   "execution_count": null,
   "metadata": {},
   "outputs": [],
   "source": [
    "#3\n"
   ]
  },
  {
   "cell_type": "code",
   "execution_count": null,
   "metadata": {},
   "outputs": [],
   "source": [
    "#4\n"
   ]
  },
  {
   "cell_type": "code",
   "execution_count": null,
   "metadata": {},
   "outputs": [],
   "source": []
  },
  {
   "cell_type": "code",
   "execution_count": null,
   "metadata": {},
   "outputs": [],
   "source": []
  },
  {
   "cell_type": "code",
   "execution_count": null,
   "metadata": {},
   "outputs": [],
   "source": []
  },
  {
   "cell_type": "code",
   "execution_count": null,
   "metadata": {},
   "outputs": [],
   "source": []
  },
  {
   "cell_type": "markdown",
   "metadata": {},
   "source": [
    "## Literals, variables and assignment\n",
    "* A variable is a place to store values\n",
    "* Its name is like a label for that value\n",
    "* A variable name can contain letters, numbers, or _ but cannot start with a number\n",
    "\n",
    "* **You also should not name variables any of the language keywords;**\n",
    "```\n",
    "False      await      else       import     pass\n",
    "None       break      except     in         raise\n",
    "True       class      finally    is         return\n",
    "and        continue   for        lambda     try\n",
    "as         def        from       nonlocal   while\n",
    "assert     del        global     not        with\n",
    "async      elif       if         or         yield\n",
    "```\n",
    "\n",
    "Or python built-in objects, functions and identifiers, listed with \"dir(\\_\\_builtin\\_\\_)\""
   ]
  },
  {
   "cell_type": "code",
   "execution_count": null,
   "metadata": {},
   "outputs": [],
   "source": []
  },
  {
   "cell_type": "code",
   "execution_count": null,
   "metadata": {},
   "outputs": [],
   "source": [
    "# Valid variable names and assignments:\n",
    "i = 666\n",
    "MyVar = 2 # Camel case is not the usual convention for python variables\n",
    "counter2 = 3\n",
    "# 3counter = 4 is invalid as it starts with a number\n",
    "_my_name = 'Superman' # valid but the convention is this is a special (private) variable\n",
    "his_name = \"'Joker'\"  # double quotes can be used but convention is normally to use single quotes unless enclosing"
   ]
  },
  {
   "cell_type": "code",
   "execution_count": null,
   "metadata": {},
   "outputs": [],
   "source": [
    "print(his_name)\n",
    "his_name"
   ]
  },
  {
   "cell_type": "code",
   "execution_count": null,
   "metadata": {},
   "outputs": [],
   "source": []
  },
  {
   "cell_type": "code",
   "execution_count": null,
   "metadata": {},
   "outputs": [],
   "source": [
    "# A Python variable is a symbolic name that is a reference or pointer to an object. \n",
    "# Once an object is assigned to a variable, you can refer to the object by that name. \n",
    "# But the data itself is still contained within the object.\n",
    "print(type(i)) # \"666\" created previously is the object pointed to by symbol \"i\"\n",
    "print(type(his_name))"
   ]
  },
  {
   "cell_type": "code",
   "execution_count": null,
   "metadata": {},
   "outputs": [],
   "source": []
  },
  {
   "cell_type": "code",
   "execution_count": null,
   "metadata": {},
   "outputs": [],
   "source": [
    "# When this is executed there is no copy you have just created a new symbol \"n\".\n",
    "#  \"n\" is now pointing to the same int object \"666\" that was created and assigned to \"i\"\n",
    "n = i\n",
    "print(i, n)\n",
    "print(i == n)\n",
    "print(i is n)\n",
    "print(id(i))\n",
    "print(id(n))"
   ]
  },
  {
   "cell_type": "code",
   "execution_count": null,
   "metadata": {},
   "outputs": [],
   "source": []
  },
  {
   "cell_type": "code",
   "execution_count": null,
   "metadata": {},
   "outputs": [],
   "source": [
    "n = 42 # Now a new int object \"42\" is created and symbol \"n\" is pointing to the new object\n",
    "print(i, n)\n",
    "print(i == n)\n",
    "print(i is n)\n",
    "print(id(i))\n",
    "print(id(n))"
   ]
  },
  {
   "cell_type": "code",
   "execution_count": null,
   "metadata": {},
   "outputs": [],
   "source": []
  },
  {
   "cell_type": "code",
   "execution_count": null,
   "metadata": {},
   "outputs": [],
   "source": [
    "n = i\n",
    "print(hex(id(i)))\n",
    "print(hex(id(n)))\n",
    "n += 4\n",
    "print(i)\n",
    "print(n)\n",
    "print(hex(id(i)))\n",
    "print(hex(id(n)))"
   ]
  },
  {
   "cell_type": "code",
   "execution_count": null,
   "metadata": {},
   "outputs": [],
   "source": []
  },
  {
   "cell_type": "code",
   "execution_count": null,
   "metadata": {},
   "outputs": [],
   "source": [
    "# if we do this what happens to the \"666\" object?\n",
    "i = 0"
   ]
  },
  {
   "cell_type": "code",
   "execution_count": null,
   "metadata": {},
   "outputs": [],
   "source": []
  },
  {
   "cell_type": "code",
   "execution_count": null,
   "metadata": {},
   "outputs": [],
   "source": [
    "# Strings:\n",
    "name = \"Fred\"  # All these lines are equivilant\n",
    "name = 'Fred'\n",
    "name = 'Fr' \"ed\"  # Auto concatenated (not used often)\n",
    "print(name)"
   ]
  },
  {
   "cell_type": "code",
   "execution_count": null,
   "metadata": {},
   "outputs": [],
   "source": [
    "name + ' Blogs\\n' * 5 # Yes you can multiple strings"
   ]
  },
  {
   "cell_type": "code",
   "execution_count": null,
   "metadata": {},
   "outputs": [],
   "source": [
    "print(name + ' Blogs\\n' * 5)   # Printed instead of evaluated so that the \\n gets rendered"
   ]
  },
  {
   "cell_type": "code",
   "execution_count": null,
   "metadata": {},
   "outputs": [],
   "source": []
  },
  {
   "cell_type": "code",
   "execution_count": null,
   "metadata": {},
   "outputs": [],
   "source": [
    "# You can also assign variables in loops:\n",
    "greeting = 'Hello World'   # The string is assigned to the greeting variable\n",
    "for char in greeting:      # We loop through the string assigning each character to variable char\n",
    "    print(char)"
   ]
  },
  {
   "cell_type": "code",
   "execution_count": null,
   "metadata": {},
   "outputs": [],
   "source": []
  },
  {
   "cell_type": "code",
   "execution_count": null,
   "metadata": {},
   "outputs": [],
   "source": []
  },
  {
   "cell_type": "code",
   "execution_count": null,
   "metadata": {},
   "outputs": [],
   "source": []
  },
  {
   "cell_type": "markdown",
   "metadata": {},
   "source": [
    "## Types"
   ]
  },
  {
   "cell_type": "markdown",
   "metadata": {},
   "source": [
    "* There are 6 main data types Boolean, Numeric, Strings, List, Tuple, Dictionary\n",
    "* You can store any of them in the same variable because Python is dynamically typed"
   ]
  },
  {
   "cell_type": "code",
   "execution_count": null,
   "metadata": {},
   "outputs": [],
   "source": [
    "name = True   # Boolean\n",
    "name = 15     # Integer\n",
    "name = 1.234  # float\n",
    "name = 'Burt' # String\n",
    "# At this point it is likely that \"15\" and the \"True\" above still exist. \n",
    "# But they are not accessable because no symbol is pointing to the object.\n",
    "# \"Garbage collection\" runs intermittently reclaiming such orphaned object space\"\n",
    "print(name)"
   ]
  },
  {
   "cell_type": "code",
   "execution_count": null,
   "metadata": {},
   "outputs": [],
   "source": [
    "# There are also binary strings:\n",
    "string_from_file = b'abcdefghi'\n",
    "string_from_file"
   ]
  },
  {
   "cell_type": "code",
   "execution_count": null,
   "metadata": {},
   "outputs": [],
   "source": []
  },
  {
   "cell_type": "code",
   "execution_count": null,
   "metadata": {},
   "outputs": [],
   "source": [
    "# An example of a list:\n",
    "fruits = [ 'apple', 'orange', 'pear' ]\n",
    "print(fruits)\n",
    "fruits[1]"
   ]
  },
  {
   "cell_type": "code",
   "execution_count": null,
   "metadata": {},
   "outputs": [],
   "source": []
  },
  {
   "cell_type": "code",
   "execution_count": null,
   "metadata": {},
   "outputs": [],
   "source": [
    "# An example of a tuple:\n",
    "primes = (1 , 3, 5, 7, 9)\n",
    "print(primes)\n",
    "primes[3]"
   ]
  },
  {
   "cell_type": "code",
   "execution_count": null,
   "metadata": {},
   "outputs": [],
   "source": []
  },
  {
   "cell_type": "code",
   "execution_count": null,
   "metadata": {},
   "outputs": [],
   "source": [
    "# An example of a dictionary:\n",
    "num2words = { 1: 'one', 2:'two', 3:'three' }\n",
    "print(num2words[2])\n",
    "num2words"
   ]
  },
  {
   "cell_type": "code",
   "execution_count": null,
   "metadata": {},
   "outputs": [],
   "source": [
    "# Another example of a dictionary:\n",
    "word2nums = { 'one': 1, 'two': 2, 'three': 3 }\n",
    "print(word2nums['three'])\n",
    "word2nums"
   ]
  },
  {
   "cell_type": "code",
   "execution_count": null,
   "metadata": {},
   "outputs": [],
   "source": []
  },
  {
   "cell_type": "code",
   "execution_count": null,
   "metadata": {},
   "outputs": [],
   "source": []
  },
  {
   "cell_type": "code",
   "execution_count": null,
   "metadata": {},
   "outputs": [],
   "source": []
  },
  {
   "cell_type": "code",
   "execution_count": null,
   "metadata": {},
   "outputs": [],
   "source": [
    "# Note the underscores are allowed in a recent change of python 3.6 for literal groupings\n",
    "age = 18 # decimal\n",
    "age = 0x0000_0012 # hex\n",
    "age = 0o22 # octal\n",
    "age = 0b0001_0010 # binary\n",
    "age"
   ]
  },
  {
   "cell_type": "code",
   "execution_count": null,
   "metadata": {},
   "outputs": [],
   "source": [
    "# Remember Jupyter will output the last expression to the screen\n",
    "age = age + 1\n",
    "age += 1\n",
    "age -= 2\n",
    "age"
   ]
  },
  {
   "cell_type": "code",
   "execution_count": null,
   "metadata": {},
   "outputs": [],
   "source": [
    "# Floating point numbers\n",
    "f = 4.2\n",
    "f2 = 7.\n",
    "mypi = 3.141593\n",
    "print('%.3f' % mypi)  # Using a 'C' type print formatter to round the float"
   ]
  },
  {
   "cell_type": "markdown",
   "metadata": {},
   "source": [
    "See https://docs.python.org/3/library/stdtypes.html#old-string-formatting for formatting details"
   ]
  },
  {
   "cell_type": "code",
   "execution_count": null,
   "metadata": {},
   "outputs": [],
   "source": []
  },
  {
   "cell_type": "markdown",
   "metadata": {},
   "source": [
    "### Rounding etc:"
   ]
  },
  {
   "cell_type": "code",
   "execution_count": null,
   "metadata": {},
   "outputs": [],
   "source": [
    "round(3/2)"
   ]
  },
  {
   "cell_type": "code",
   "execution_count": null,
   "metadata": {},
   "outputs": [],
   "source": [
    "round(1.49)"
   ]
  },
  {
   "cell_type": "code",
   "execution_count": null,
   "metadata": {},
   "outputs": [],
   "source": [
    "3 // 2"
   ]
  },
  {
   "cell_type": "code",
   "execution_count": null,
   "metadata": {},
   "outputs": [],
   "source": [
    "import math\n",
    "math.ceil(1.49)"
   ]
  },
  {
   "cell_type": "code",
   "execution_count": null,
   "metadata": {},
   "outputs": [],
   "source": []
  },
  {
   "cell_type": "markdown",
   "metadata": {},
   "source": [
    "### Maximum numbers:"
   ]
  },
  {
   "cell_type": "code",
   "execution_count": null,
   "metadata": {},
   "outputs": [],
   "source": [
    "# Maximum sizes of ints /floats\n",
    "# In Python2 you can use sys.maxint\n",
    "# Python3 the int size is unbounded and only limited by memory\n",
    "import sys\n",
    "print(sys.int_info)\n",
    "print(sys.float_info)\n",
    "print(sys.maxsize)"
   ]
  },
  {
   "cell_type": "markdown",
   "metadata": {},
   "source": [
    "Most Python platforms represent *float* values as 64-bit double precision.  Approximately 1.8 x 10<sup>308</sup>.<br>\n",
    "The closest a nonzero number can be to zero is approximately 5.0 ⨉ 10<sup>-324</sup>.\n",
    "\n",
    "Floating point numbers are represented internally as binary (base-2) fractions. Most decimal fractions cannot be represented exactly as binary fractions, so in most cases the internal representation of a floating-point number is an approximation of the actual value. In practice, the difference between the actual value and the represented value is very small and should not usually cause significant problems."
   ]
  },
  {
   "cell_type": "code",
   "execution_count": null,
   "metadata": {},
   "outputs": [],
   "source": [
    "42e3"
   ]
  },
  {
   "cell_type": "code",
   "execution_count": null,
   "metadata": {},
   "outputs": [],
   "source": [
    "42e-3"
   ]
  },
  {
   "cell_type": "code",
   "execution_count": null,
   "metadata": {},
   "outputs": [],
   "source": [
    "1.79e308 # maximum float precision"
   ]
  },
  {
   "cell_type": "code",
   "execution_count": null,
   "metadata": {},
   "outputs": [],
   "source": [
    "1.8e308 # > 1.8 x (10 ** 308) becomes infinate"
   ]
  },
  {
   "cell_type": "code",
   "execution_count": null,
   "metadata": {},
   "outputs": [],
   "source": [
    "5e-324   # minimum float precision  "
   ]
  },
  {
   "cell_type": "code",
   "execution_count": null,
   "metadata": {},
   "outputs": [],
   "source": [
    "5e-325   # below this will print 0 "
   ]
  },
  {
   "cell_type": "code",
   "execution_count": null,
   "metadata": {},
   "outputs": [],
   "source": []
  },
  {
   "cell_type": "code",
   "execution_count": null,
   "metadata": {},
   "outputs": [],
   "source": []
  },
  {
   "cell_type": "code",
   "execution_count": null,
   "metadata": {},
   "outputs": [],
   "source": []
  },
  {
   "cell_type": "markdown",
   "metadata": {},
   "source": [
    "### Complex Numbers\n",
    "A complex number is specified as real_part + imaginary_part, where the imaginary_part is written with a j or J."
   ]
  },
  {
   "cell_type": "code",
   "execution_count": null,
   "metadata": {},
   "outputs": [],
   "source": [
    "# Following numbers are complex numbers\n",
    "x = 2j\n",
    "y = 3+4j\n",
    "y"
   ]
  },
  {
   "cell_type": "code",
   "execution_count": null,
   "metadata": {},
   "outputs": [],
   "source": [
    "x = 3+4j\n",
    "print(x.real)\n",
    "print(x.imag)"
   ]
  },
  {
   "cell_type": "code",
   "execution_count": null,
   "metadata": {},
   "outputs": [],
   "source": []
  },
  {
   "cell_type": "code",
   "execution_count": null,
   "metadata": {},
   "outputs": [],
   "source": []
  },
  {
   "cell_type": "code",
   "execution_count": null,
   "metadata": {},
   "outputs": [],
   "source": []
  },
  {
   "cell_type": "markdown",
   "metadata": {},
   "source": [
    "### Operators:"
   ]
  },
  {
   "cell_type": "code",
   "execution_count": null,
   "metadata": {},
   "outputs": [],
   "source": [
    "# The arithmetic operators +, -, *, /, %, **, //\n",
    "# ** Exponential calculation\n",
    "# // Floor Division\n",
    "print(\"5 + 2 =\", 5 + 2)\n",
    "print(\"5 - 2 =\", 5 - 2)\n",
    "print(\"5 * 2 =\", 5 * 2)\n",
    "print(\"5 / 2 =\", 5 /  2)\n",
    "print(\"5 % 2 =\", 5 % 2)\n",
    "print(\"5 ** 3 =\", 5 ** 3) # or \n",
    "print(\"5 // 2 =\", 5 // 2)"
   ]
  },
  {
   "cell_type": "code",
   "execution_count": null,
   "metadata": {},
   "outputs": [],
   "source": []
  },
  {
   "cell_type": "code",
   "execution_count": null,
   "metadata": {},
   "outputs": [],
   "source": [
    "# Bitwise operators\n",
    "print(1 << 5)\n",
    "print(16 >> 2)\n",
    "print(2 & 3)\n",
    "print(2 | 3)\n",
    "print(2 ^ 3) # XOR\n",
    "print(~2) # Compliment (switch 0 for 1 and 1 for 0, same as -x - 1."
   ]
  },
  {
   "cell_type": "code",
   "execution_count": null,
   "metadata": {},
   "outputs": [],
   "source": []
  },
  {
   "cell_type": "code",
   "execution_count": null,
   "metadata": {},
   "outputs": [],
   "source": [
    "# Precidence: Normal order of Operation states * and / is performed before + and -\n",
    " \n",
    "print(\"1 + 2 - 3 * 2 =\", 1 + 2 - 3 * 2)\n",
    "print(\"(1 + 2 - 3) * 2 =\", (1 + 2 - 3) * 2)"
   ]
  },
  {
   "cell_type": "code",
   "execution_count": null,
   "metadata": {},
   "outputs": [],
   "source": []
  },
  {
   "cell_type": "markdown",
   "metadata": {},
   "source": [
    "## Strings"
   ]
  },
  {
   "cell_type": "code",
   "execution_count": null,
   "metadata": {},
   "outputs": [],
   "source": [
    "# A string is a string of characters surrounded by \" or '\n",
    "# If you must use a \" or ' between the same quote escape it with \\\n",
    "quote = 'This is a way to \"enclose\" quotes'\n",
    "quote = \"And this is the 'other' way\"\n",
    "quote = \"\\\"Always\\\" remember your unique,\"\n",
    "quote"
   ]
  },
  {
   "cell_type": "code",
   "execution_count": null,
   "metadata": {},
   "outputs": [],
   "source": [
    "# A multi-line quote\n",
    "multi_line_quote = ''' just\n",
    "like everyone else\" '''\n",
    "multi_line_quote"
   ]
  },
  {
   "cell_type": "code",
   "execution_count": null,
   "metadata": {},
   "outputs": [],
   "source": [
    "print(quote + multi_line_quote)"
   ]
  },
  {
   "cell_type": "code",
   "execution_count": null,
   "metadata": {},
   "outputs": [],
   "source": []
  },
  {
   "cell_type": "code",
   "execution_count": null,
   "metadata": {},
   "outputs": [],
   "source": [
    "# The old method to embed a string in output using %s and \"print formatters\" \n",
    "print(\"%s %s %s\" % ('I like the quote', quote, multi_line_quote))"
   ]
  },
  {
   "cell_type": "code",
   "execution_count": null,
   "metadata": {},
   "outputs": [],
   "source": []
  },
  {
   "cell_type": "code",
   "execution_count": null,
   "metadata": {},
   "outputs": [],
   "source": [
    "# To keep from printing newlines use end=\"\"\n",
    "print(\"I don't like \", end=\"\")\n",
    "print(\"newlines\")"
   ]
  },
  {
   "cell_type": "code",
   "execution_count": null,
   "metadata": {},
   "outputs": [],
   "source": []
  },
  {
   "cell_type": "code",
   "execution_count": null,
   "metadata": {},
   "outputs": [],
   "source": [
    "# By default strings are unicode\n",
    "s1 = 'this is a test string' # this is a string type, and since 3.3 you can also explicitly prefix with a 'u'\n",
    "s2 = b'this is a test string'  # this is a bytes type and can only contain ascii characters\n",
    "print('s1 type =', type(s1))\n",
    "print('s2 type =', type(s2))\n",
    "print(s1)\n",
    "print(s2)\n",
    "print(s1==s2)\n",
    "# You can encode unicode strings into bytes:\n",
    "print('s1 encoded:', s1.encode()) # As no encoding passed UTF-8 is used by default\n",
    "# And the other way around\n",
    "print(s1==s2.decode())"
   ]
  },
  {
   "cell_type": "code",
   "execution_count": null,
   "metadata": {},
   "outputs": [],
   "source": [
    "import chardet\n",
    "x = b'\\xe6\\xa0\\xaa\\xe5\\xbc\\x8f\\xe4\\xbc\\x9a\\xe7\\xa4\\xbe\\xe6\\x97\\xa5\\xe7\\xab\\x8b\\xe8\\xa3\\xbd\\xe4\\xbd\\x9c\\xe6\\x89\\x80'\n",
    "print('x =', x)\n",
    "print('x type =', type(x))\n",
    "print(f'x bytes len:{len(x)}')\n",
    "print(chardet.detect(x))\n",
    "s = x.decode()\n",
    "print(s)\n",
    "print('s type =', type(s))\n",
    "print(f's len:{len(s)}')\n",
    "tobytes = s.encode()\n",
    "print('tobytes =', tobytes)"
   ]
  },
  {
   "cell_type": "code",
   "execution_count": null,
   "metadata": {},
   "outputs": [],
   "source": [
    "s= 'Thats funny! \\N{SMILING FACE WITH OPEN MOUTH AND TIGHTLY-CLOSED EYES}'\n",
    "print(s)\n",
    "print(s.encode()) # default is utf-8\n",
    "print(s.encode('utf-16'))\n",
    "print(s.encode('utf-32'))\n",
    "print(s.encode('ascii','replace')) #Replaces with ?\n",
    "print(s.encode('ascii','namereplace')) #Replaces with Unicode name\n",
    "print(s.encode('latin-1')) # Default is 'strict' which generates an error"
   ]
  },
  {
   "cell_type": "code",
   "execution_count": null,
   "metadata": {},
   "outputs": [],
   "source": []
  },
  {
   "cell_type": "markdown",
   "metadata": {},
   "source": [
    "### Formatting\n",
    "* Old 'C' style: https://docs.python.org/3/library/stdtypes.html#printf-style-bytes-formatting\n",
    "* The 'format' method:\n",
    "    - https://docs.python.org/3/tutorial/inputoutput.html#the-string-format-method\n",
    "    - https://docs.python.org/3/library/string.html#formatstrings\n",
    "* **New Style:**\n",
    "    - **https://docs.python.org/3/tutorial/inputoutput.html#formatted-string-literals**\n",
    "    - **https://docs.python.org/3/library/string.html#formatspec**"
   ]
  },
  {
   "cell_type": "code",
   "execution_count": null,
   "metadata": {},
   "outputs": [],
   "source": [
    "# String formatting using modulus operator %\n",
    "name = 'World'\n",
    "num = 19\n",
    "\n",
    "print('Hello %s!' % name)\n",
    "print('%d is my favorite number especially in hex: 0x%x' % (num, num))\n",
    "print('Width and Precision can also be defined e.g. %10.4f' % 0.12345)"
   ]
  },
  {
   "cell_type": "code",
   "execution_count": null,
   "metadata": {},
   "outputs": [],
   "source": [
    "# Newer 2.6+ format specifiers;\n",
    "person = {'name': 'Mark', 'age':21}\n",
    "\n",
    "print('First={} Second={} Third={}'.format(1,2,'three'))\n",
    "print('By position: First={2} Second={0} Third={1}{1}{1}'.format(1,2,'three'))\n",
    "print('By variable: {x} is {y} at heart! '.format(x=person['name'], y=person['age']))\n",
    "print('By dict: {name} is {age} at heart! '.format(**person))\n",
    "print('I would really like £{:,.02f} in {!r}'.format(1000000, 'cash'))\n",
    "print('Conversion: {0:d} = Hex({0:x}) = Oct({0:o}) = Binary {0:b}'.format(105))"
   ]
  },
  {
   "cell_type": "code",
   "execution_count": null,
   "metadata": {},
   "outputs": [],
   "source": [
    "# Ver 2.6+ also support left/right center justifiers <^>;\n",
    "text = 'here'\n",
    "print('X{:15}X{:>15}X{:^15}X{:<15}X'.format(text, text, text, text))"
   ]
  },
  {
   "cell_type": "code",
   "execution_count": null,
   "metadata": {},
   "outputs": [],
   "source": [
    "# The best new feature in python 3.6 is 'f' string interpolation;\n",
    "import math, datetime\n",
    "name = 'Mark Butty'\n",
    "width, precision = 10, 5\n",
    "\n",
    "print(f'Hello {name} there are {len(name)} characters in your name')\n",
    "print(f'5 x 4 = {5 * 4}')\n",
    "print(f'PI is {math.pi:^{width}.{precision}} in binary')\n",
    "print(f'Conversion also work: {105:d} = Hex({105:x}) = Oct({105:o}) = Binary {105:b}')\n",
    "print(f'Today is {datetime.datetime.today():%A %B %d, %Y}')"
   ]
  },
  {
   "cell_type": "code",
   "execution_count": null,
   "metadata": {},
   "outputs": [],
   "source": [
    "# Mixing format and interpolation - useful for headings;\n",
    "\n",
    "mbflag = True\n",
    "units = 'MB' if mbflag else 'PG'\n",
    "print('{:^19}    {:^19} {:^9} {:>14} {:>12} {:>12}'.format(\n",
    "    'Start_time', 'End_time', 'VolCount', \n",
    "    f'ZeroReclaim_{units}', f'Target_{units}', f'Actual_{units}'))"
   ]
  },
  {
   "cell_type": "code",
   "execution_count": null,
   "metadata": {},
   "outputs": [],
   "source": []
  },
  {
   "cell_type": "code",
   "execution_count": null,
   "metadata": {},
   "outputs": [],
   "source": []
  },
  {
   "cell_type": "code",
   "execution_count": null,
   "metadata": {},
   "outputs": [],
   "source": []
  },
  {
   "cell_type": "code",
   "execution_count": null,
   "metadata": {},
   "outputs": [],
   "source": []
  },
  {
   "cell_type": "code",
   "execution_count": null,
   "metadata": {},
   "outputs": [],
   "source": []
  },
  {
   "cell_type": "code",
   "execution_count": null,
   "metadata": {},
   "outputs": [],
   "source": []
  },
  {
   "cell_type": "markdown",
   "metadata": {},
   "source": [
    "## Type conversion"
   ]
  },
  {
   "cell_type": "code",
   "execution_count": null,
   "metadata": {},
   "outputs": [],
   "source": [
    "int('23')"
   ]
  },
  {
   "cell_type": "code",
   "execution_count": null,
   "metadata": {},
   "outputs": [],
   "source": [
    "int(1.9)"
   ]
  },
  {
   "cell_type": "code",
   "execution_count": null,
   "metadata": {},
   "outputs": [],
   "source": [
    "str(13) * 5"
   ]
  },
  {
   "cell_type": "code",
   "execution_count": null,
   "metadata": {},
   "outputs": [],
   "source": [
    "float(3)"
   ]
  },
  {
   "cell_type": "code",
   "execution_count": null,
   "metadata": {},
   "outputs": [],
   "source": [
    "float('1.2')"
   ]
  },
  {
   "cell_type": "code",
   "execution_count": null,
   "metadata": {},
   "outputs": [],
   "source": []
  },
  {
   "cell_type": "code",
   "execution_count": null,
   "metadata": {},
   "outputs": [],
   "source": [
    "n = 21\n",
    "blackjack = 'Pontoon ' + str(n)\n",
    "print(type(n), type(blackjack))\n",
    "print(blackjack)"
   ]
  },
  {
   "cell_type": "code",
   "execution_count": null,
   "metadata": {},
   "outputs": [],
   "source": [
    "age = '34'\n",
    "print('Mark is %s' % age)\n",
    "print('But this might be hex %d' % int(age, 16))"
   ]
  },
  {
   "cell_type": "code",
   "execution_count": null,
   "metadata": {},
   "outputs": [],
   "source": []
  },
  {
   "cell_type": "markdown",
   "metadata": {},
   "source": [
    "## Exercise:\n",
    "* Answer each question in a seperate cell\n",
    "1. Create four variables, an integer, a float to 3 decimal places and two strings.\n",
    "1. Create a composite string of the two strings.\n",
    "1. Print out (or make final expression) a line with the numbers and the composite using formatters.\n",
    "1. Divide the integer by the float and output the answer to a precision of one decimal place\n",
    "1. Output a line of eighty '=' using as concise an expression as possible\n",
    "\n",
    "* Comment your code, copy and paste into the chat"
   ]
  },
  {
   "cell_type": "code",
   "execution_count": null,
   "metadata": {},
   "outputs": [],
   "source": [
    "#1\n"
   ]
  },
  {
   "cell_type": "code",
   "execution_count": null,
   "metadata": {},
   "outputs": [],
   "source": [
    "#2\n"
   ]
  },
  {
   "cell_type": "code",
   "execution_count": null,
   "metadata": {},
   "outputs": [],
   "source": [
    "#3\n"
   ]
  },
  {
   "cell_type": "code",
   "execution_count": null,
   "metadata": {},
   "outputs": [],
   "source": [
    "#4\n"
   ]
  },
  {
   "cell_type": "code",
   "execution_count": null,
   "metadata": {},
   "outputs": [],
   "source": [
    "#5\n"
   ]
  },
  {
   "cell_type": "code",
   "execution_count": null,
   "metadata": {},
   "outputs": [],
   "source": []
  },
  {
   "cell_type": "code",
   "execution_count": null,
   "metadata": {},
   "outputs": [],
   "source": []
  },
  {
   "cell_type": "code",
   "execution_count": null,
   "metadata": {},
   "outputs": [],
   "source": []
  },
  {
   "cell_type": "code",
   "execution_count": null,
   "metadata": {},
   "outputs": [],
   "source": []
  },
  {
   "cell_type": "code",
   "execution_count": null,
   "metadata": {},
   "outputs": [],
   "source": []
  }
 ],
 "metadata": {
  "kernelspec": {
   "display_name": "Python 3",
   "language": "python",
   "name": "python3"
  },
  "language_info": {
   "codemirror_mode": {
    "name": "ipython",
    "version": 3
   },
   "file_extension": ".py",
   "mimetype": "text/x-python",
   "name": "python",
   "nbconvert_exporter": "python",
   "pygments_lexer": "ipython3",
   "version": "3.8.5"
  }
 },
 "nbformat": 4,
 "nbformat_minor": 2
}
